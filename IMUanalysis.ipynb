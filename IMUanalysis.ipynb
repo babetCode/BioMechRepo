{
  "cells": [
    {
      "cell_type": "markdown",
      "metadata": {
        "id": "R9bUwhaz1Gu9",
        "deepnote_app_block_visible": true,
        "cell_id": "c2c527a5f3e74f9b8a96b16170893448",
        "deepnote_cell_type": "markdown"
      },
      "source": [
        "# Project Outline"
      ]
    },
    {
      "cell_type": "markdown",
      "metadata": {
        "id": "yInS36u73wfh",
        "deepnote_app_block_visible": true,
        "cell_id": "ff1498ace41340aaa83d168c6fc95c4a",
        "deepnote_cell_type": "markdown"
      },
      "source": [
        "## Project goals for IMU gait analysis:"
      ]
    },
    {
      "cell_type": "markdown",
      "metadata": {
        "id": "M0xpINMu2IZ0",
        "deepnote_app_block_visible": true,
        "cell_id": "1815f8c4d6c84b25a97dc22c3ff32b9a",
        "deepnote_cell_type": "markdown"
      },
      "source": [
        "* Determine heel strike events\n",
        "* Determine heel off events\n",
        "* Determine toe-off events\n",
        "* Determine stride length"
      ]
    },
    {
      "cell_type": "markdown",
      "metadata": {
        "id": "3N7QrGwY2Iy5",
        "deepnote_app_block_visible": true,
        "cell_id": "275916948eee4bd48803f8a659b62cb3",
        "deepnote_cell_type": "markdown"
      },
      "source": [
        "## Action Plan"
      ]
    },
    {
      "cell_type": "markdown",
      "metadata": {
        "id": "uwaUDMRT2JGr",
        "deepnote_app_block_visible": true,
        "cell_id": "3dba40816fa2491fb8d8bd658a3347e1",
        "deepnote_cell_type": "markdown"
      },
      "source": [
        "* Learn what quaternions are\n",
        "* Learn how to filter data\n",
        "* Use filter to estimate orientation\n",
        "* Use spikes in vertical acceleration to estimate heel-strike, heel-off, and toe-off events\n",
        "* Use orientation and acceleration data to estimate position during swing phase\n",
        "* Use ZUPT for stance phase\n",
        "* Use position to calculate stride length"
      ]
    },
    {
      "cell_type": "markdown",
      "metadata": {
        "id": "hZmlOVhJACz8",
        "deepnote_app_block_visible": true,
        "cell_id": "257d05ec5dfe4d468e6957dc8b4048c7",
        "deepnote_cell_type": "markdown"
      },
      "source": [
        "# Setup Python Modules"
      ]
    },
    {
      "cell_type": "code",
      "metadata": {
        "id": "FkfxapXpAOYQ",
        "source_hash": "deb503c0",
        "execution_start": 1732041380737,
        "execution_millis": 532,
        "execution_context_id": "6e21a302-8cd1-421f-b178-f9c88bb6875b",
        "deepnote_app_block_visible": true,
        "deepnote_app_is_code_hidden": true,
        "cell_id": "137e517630db4be59f6984f347be272a",
        "deepnote_cell_type": "code"
      },
      "source": [
        "import math\n",
        "import IPython\n",
        "import numpy as np\n",
        "import pandas as pd\n",
        "import matplotlib.pyplot as plt\n",
        "import plotly.graph_objects as go\n",
        "#from ipywidgets import interact, FloatSlider, IntSlider\n",
        "\n",
        "%matplotlib inline"
      ],
      "execution_count": null,
      "outputs": []
    },
    {
      "cell_type": "markdown",
      "metadata": {
        "id": "fOksBB7yh2sU",
        "deepnote_app_block_visible": true,
        "cell_id": "9c44bda80bc04943b484dc9f4ab44c54",
        "deepnote_cell_type": "markdown"
      },
      "source": [
        "# Representing Rotation"
      ]
    },
    {
      "cell_type": "markdown",
      "metadata": {
        "id": "jgW2Nvlr6CKp",
        "deepnote_app_block_visible": true,
        "cell_id": "2e60a6f05de1455281cc1d220a6955ab",
        "deepnote_cell_type": "markdown"
      },
      "source": [
        "Here we explore two ways to represent rotation: matricies and quaternions."
      ]
    },
    {
      "cell_type": "markdown",
      "metadata": {
        "deepnote_app_block_visible": true,
        "cell_id": "9a922cfdfa3844858e3f72fc6da05145",
        "deepnote_cell_type": "markdown",
        "id": "KBRahQXo1DUL"
      },
      "source": [
        "$$\n",
        "\\begin{align*}\n",
        "1&=1\\\\0&=0\\\\0&=0\n",
        "\\end{align*}\n",
        "$$"
      ]
    },
    {
      "cell_type": "markdown",
      "metadata": {
        "deepnote_app_block_visible": true,
        "cell_id": "becba66cb0f34a228ebfbcbe9995adab",
        "deepnote_cell_type": "markdown",
        "id": "I6RhIyxa1DUL"
      },
      "source": [
        "$$\n",
        "\\begin{align*}\n",
        "a &= b + c \\\\\n",
        "d &= e - f\n",
        "\\end{align*}\n",
        "$$"
      ]
    },
    {
      "cell_type": "markdown",
      "metadata": {
        "id": "jSxAWi9fivlX",
        "deepnote_app_block_visible": true,
        "cell_id": "042a9e583f554d2fba7895e90a7de6c9",
        "deepnote_cell_type": "markdown"
      },
      "source": [
        "## Rotation Matricies"
      ]
    },
    {
      "cell_type": "markdown",
      "metadata": {
        "id": "aZsTO3MCjFz7",
        "deepnote_app_block_visible": true,
        "cell_id": "6eaa67f5970748768be904361523c4a1",
        "deepnote_cell_type": "markdown"
      },
      "source": [
        "Rotation matricies are the most straightforward way to represent rotations in 3d space. Here is a brief overview of how they can be used.\n",
        "\n",
        "in 3d space, we can represent any point $P$ as a vector $\\overrightarrow P$ from the origin like this, $$\\overrightarrow P = \\begin{bmatrix}x\\\\y\\\\z\\end{bmatrix},$$\n",
        "meaning that $P$ can be reached in the $x$-$y$-$z$ coordinate system by travling $x$ units along the $x$-axis, followed by $y$ units parallel to the $y$-axis, followed by $z$ units parallel to the $z$-axis. Another way of imagining this is using the three component vectors of the coordinate system,\n",
        "$$\\widehat{\\mathbf i} = \\begin{bmatrix}1\\\\0\\\\0\\end{bmatrix}, \\quad \\widehat{\\mathbf j} = \\begin{bmatrix}0\\\\1\\\\0\\end{bmatrix}, \\quad \\widehat{\\mathbf k} = \\begin{bmatrix}0\\\\0\\\\1\\end{bmatrix},$$\n",
        "which let us write $\\overrightarrow P$ as the sum\n",
        "$$\\overrightarrow P = x\\left(\\widehat{\\mathbf i}\\right) + y\\left(\\widehat{\\mathbf j}\\right) + z\\left(\\widehat{\\mathbf k}\\right).$$\n",
        "\n",
        "If we apply a linear transformation to our coordinate system (such as a rotation) that sends $P$ to $P^\\prime$, $\\widehat{\\mathbf i}$ to $\\widehat{\\mathbf i}^\\prime$, $\\widehat{\\mathbf j}$ to $\\widehat{\\mathbf j}^\\prime$, and $\\widehat{\\mathbf k}$ to $\\widehat{\\mathbf k}^\\prime$, and that transformation is linear, then we will have\n",
        "$$\\overrightarrow{P^\\prime} = x\\left(\\widehat{\\mathbf i}^\\prime\\right) + y\\left(\\widehat{\\mathbf j}^\\prime\\right) + z\\left(\\widehat{\\mathbf k}^\\prime\\right).$$\n",
        "In other words, we can represent any linear transformation in our coordinate system by where it sends our component vectors. In order to represent this information a little bit more succictly, we can put them together into something called a 'matrix', where  $\\widehat{\\mathbf i}^\\prime$ is the first column,  $\\widehat{\\mathbf j}^\\prime$ is the second column, and $\\widehat{\\mathbf k}^\\prime$ is the third column. For example, a transformation that does not move our component vectors at all (and therefore leaves all points where they are) would be represented by\n",
        "$$\\begin{bmatrix}1 & 0 & 0 \\\\ 0 & 1 & 0 \\\\ 0 & 0 & 1 \\end{bmatrix}.$$\n",
        "In fact, this do-nothing matrix is so important that we usually call it the '3x3 identity matrix'. More generally, any multiplication of a vector by a matrix can be represented as\n",
        "$$\\begin{bmatrix}a_1 & b_1 & c_1 \\\\ a_2 & b_2 & c_2 \\\\ a_3 & b_3 & c_3 \\end{bmatrix}\\begin{bmatrix}x\\\\y\\\\z\\end{bmatrix} = \\begin{bmatrix}xa_1 + yb_1 + zc_1 \\\\ xa_2 + yb_2 + zc_2 \\\\ xa_3 + yb_3 + zc_3\\end{bmatrix}.$$\n",
        "Similarlly, when multiplying two 3x3 matricies together the resulting matrix will have first column equal to the left matrix times the first column of the right one, etc....\n",
        "\n",
        "A basic 3d rotation (or elemental rotation) rotatetes an object around one of the three axes of the coordinate system. The rotation matricies to rotate vectors around the $x$, $y$, and $z$ axes respectively, are\n",
        "$$\n",
        "\\begin{align*}\n",
        "R_x(\\theta) &= \\begin{bmatrix}\n",
        "1 & 0 & 0 \\\\\n",
        "0 & \\cos \\theta & -\\sin \\theta \\\\\n",
        "0 & \\sin \\theta & \\cos \\theta\n",
        "\\end{bmatrix} \\\\\\\\\n",
        "R_y(\\psi) &= \\begin{bmatrix}\n",
        "\\cos \\psi & 0 & \\sin \\psi \\\\\n",
        "0 & 1 & 0 \\\\\n",
        "-\\sin \\psi & 0 & \\cos \\psi\n",
        "\\end{bmatrix} \\\\\\\\\n",
        "R_z(\\phi) &= \\begin{bmatrix}\n",
        "\\cos \\phi & -\\sin \\phi & 0 \\\\\n",
        "\\sin \\phi & \\cos \\phi & 0 \\\\\n",
        "0 & 0 & 1\n",
        "\\end{bmatrix}.\n",
        "\\end{align*}\n",
        "$$\n",
        "\n",
        "Therefore, the combined rotation matrix that represents a rotation of $\\theta$ about the $x$-axis, followed by $\\psi$ about the $y$-axis, followed by $\\phi$ aobut the $z$-axis is\n",
        "$$\n",
        "\\begin{align*}\n",
        "R &= R_z(\\phi) R_y(\\psi) R_x(\\theta)  \\\\\n",
        "&= \\begin{bmatrix}\\cos \\phi & -\\sin \\phi & 0 \\\\\n",
        "\\sin \\phi & \\cos \\phi & 0 \\\\\n",
        "0 & 0 & 1\n",
        "\\end{bmatrix}\n",
        "\\begin{bmatrix}\n",
        "\\cos \\psi & 0 & \\sin \\psi \\\\\n",
        "0 & 1 & 0 \\\\\n",
        "-\\sin \\psi & 0 & \\cos \\psi\n",
        "\\end{bmatrix}\n",
        "\\begin{bmatrix}\n",
        "1 & 0 & 0 \\\\\n",
        "0 & \\cos \\theta & -\\sin \\theta \\\\\n",
        "0 & \\sin \\theta & \\cos \\theta\n",
        "\\end{bmatrix} \\\\\\\\\n",
        "&= \\begin{bmatrix}\n",
        "\\cos \\phi & -\\sin \\phi & 0 \\\\\n",
        "\\sin \\phi & \\cos \\phi & 0 \\\\\n",
        "0 & 0 & 1\n",
        "\\end{bmatrix}\n",
        "\\begin{bmatrix}\n",
        "\\cos\\psi & \\sin\\theta\\sin\\psi & \\cos\\theta\\sin\\psi \\\\\n",
        "0 & \\cos\\theta & -\\sin\\theta \\\\\n",
        "-\\sin\\psi & \\sin\\theta\\cos\\psi & \\cos\\theta\\cos\\psi\n",
        "\\end{bmatrix} \\\\\\\\\n",
        "&= \\begin{bmatrix}\n",
        "\\cos \\psi\\cos \\phi & \\sin\\theta\\sin\\psi\\cos\\phi - \\cos\\theta\\sin\\phi & \\cos\\theta\\sin\\psi\\cos\\phi + \\sin\\theta\\sin\\phi \\\\\n",
        "\\cos\\psi \\sin\\phi & \\sin\\theta\\sin\\psi\\sin\\phi + \\cos\\theta\\cos\\phi & \\cos\\theta\\sin\\psi\\sin\\phi - \\sin\\theta\\cos\\phi \\\\\n",
        "-\\sin\\psi & \\sin\\theta\\cos\\psi & \\cos \\theta\\cos \\psi\n",
        "\\end{bmatrix}. \\\\\n",
        "\\end{align*}\n",
        "$$\n",
        "While this sequence of rotations around the $x$-$y$-$z$-axes could in theory be used to represent orientation in 3d space, other sequences such as [\"Proper Euler Angles\", or \"Tait-Bryan Angles\"](https://en.wikipedia.org/wiki/Euler_angles) are more useful and used as convention.\n",
        "\n",
        "For a more in depth explanation of vectors and matricies, see 3Blue1Brown's [videos on linear algebra](https://www.3blue1brown.com/topics/linear-algebra), where I learned everything I've written above.\n",
        "\n"
      ]
    },
    {
      "cell_type": "code",
      "metadata": {
        "id": "tVnngtNQilts",
        "source_hash": "8a2206cf",
        "execution_start": 1732031188433,
        "execution_millis": 0,
        "execution_context_id": "3bacac50-e87e-42b5-8ad0-c3f960a4157e",
        "deepnote_app_block_visible": true,
        "deepnote_app_is_code_hidden": true,
        "cell_id": "1f6ca4bc6267465f97bf689ca1e24421",
        "deepnote_cell_type": "code"
      },
      "source": [
        "from math import sin, cos, pi\n",
        "\n",
        "#set angles\n",
        "theta = pi/3\n",
        "phi = 0\n",
        "\n",
        "#make a 2d vector & rotation matrix\n",
        "vector2d = np.array([[1],[0]])\n",
        "rotation_matrix = np.array(\n",
        "    [[cos(theta), -sin(theta)], [sin(theta), cos(theta)]])\n",
        "\n",
        "#rotate 2d vector counterclockwise by theta\n",
        "def rotate2dvec(vec, theta):\n",
        "    matrix = np.array([[cos(theta), -sin(theta)], [sin(theta), cos(theta)]])\n",
        "    return(np.dot(matrix, vec))\n",
        "\n",
        "#make a 3d vector\n",
        "vec3d = np.array([[cos(theta)], [sin(theta)*cos(phi)], [sin(phi)]])\n",
        "\n",
        "#rotate vector by yaw A, ptich B, roll C\n",
        "def rotate3dvec(vec, A, B, C):\n",
        "    row1 = [cos(A)*cos(B), cos(A)*sin(B)*sin(C)-sin(A)*cos(C),\n",
        "            cos(A)*sin(B)*cos(C)+sin(A)*sin(B)]\n",
        "    row2 = [sin(A)*cos(B), sin(A)*sin(B)*sin(C)+cos(A)*cos(C),\n",
        "            sin(A)*sin(B)*cos(C)-cos(A)*sin(C)]\n",
        "    row3 = [-sin(B), cos(B)*sin(C), cos(B)*cos(C)]\n",
        "    matrix = np.array([row1, row2, row3])\n",
        "    return(np.dot(matrix, vec))\n",
        "\n",
        "#rotate around x, y, z, axes\n",
        "def rotateAxes(vector, x, y, z):\n",
        "    vec = vector\n",
        "    print(vec, '\\n \\n')\n",
        "    r_x = np.array([[1, 0, 0], [0, cos(x), -sin(x)], [0, sin(x), cos(x)]])\n",
        "    r_y = np.array([[cos(y), 0, sin(y)], [0, 1, 0], [-sin(y), 0, cos(y)]])\n",
        "    r_z = np.array([[cos(z), -sin(z), 0], [sin(z), cos(z), 0], [0, 0, 1]])\n",
        "    for i in [r_x, r_y, r_z]:\n",
        "        vec = np.dot(i, vec)\n",
        "        print(vec, '\\n \\n')\n",
        "\n",
        "\"\"\"\n",
        "DEFINE MAIN FUNCTION\n",
        "\"\"\"\n",
        "def main():\n",
        "\n",
        "    rotateAxes(vec3d, pi, pi, pi/6)\n",
        "\n"
      ],
      "execution_count": null,
      "outputs": []
    },
    {
      "cell_type": "markdown",
      "metadata": {
        "id": "iCLUHJ8-8NOz",
        "deepnote_app_block_visible": true,
        "cell_id": "f065e4e140b2469abebd34a6303a04b3",
        "deepnote_cell_type": "markdown"
      },
      "source": [
        "## Quaternions"
      ]
    },
    {
      "cell_type": "markdown",
      "metadata": {
        "id": "hHzaY98R8OwL",
        "deepnote_app_block_visible": true,
        "cell_id": "a681e601bb5948adb5c6d0eee8960d1b",
        "deepnote_cell_type": "markdown"
      },
      "source": [
        "Quaternions are four-dimensional hypercomplex numbers which offer a powerful approach to orientation tracking because of their capacity for representing three-dimensional rotations. Specifically, a single unit quaternion can represent any 3d rotation without the common pitfalls of other rotation representations, such as gimbal lock. Moreover, quaternions allow for efficient and numerically stable calculations, especially beneficial in real-time tracking contexts like gait analysis. The quaternion-based approach simplifies the compounding of rotations by encapsulating complex rotational transformations in quaternion multiplication, reducing the risk of drift and improving accuracy in sensor fusion algorithms. This capability makes quaternions particularly well-suited for the recursive nature of state estimation models, where orientation data from consecutive IMU measurements need to be seamlessly integrated over time.\n",
        "\n",
        "Quaternions also support interpolation methods such as spherical linear interpolation (SLERP), which preserves the shortest path of rotation and minimizes error, critical in applications like gait analysis where precise orientation tracking is needed. This combination of stability, efficiency, and the ability to handle continuous rotations makes quaternions an optimal choice for robust and reliable orientation tracking in IMU-based gait analysis.\n",
        "\n",
        "Quaternions represent orientation through a four-dimensional structure that encodes three-dimensional rotation in a single unit quaternion, typically denoted $q = w + xi + yj + zk$, where $w$, $x$, $y$, and $z$ are real numbers and $i$, $j$, and $k$, are imaginary units. To represent a rotation, a quaternion should be normalized (i.e., has a unit magnitude), which ensures that it purely represents rotation without scaling effects. To represent an orientation, a quaternion is computed based on a rotation axis and angle: a rotation of $\\theta$ around an axis defined by a unit vector $(x, y, z)$ is represented as $q = \\cos(\\theta/2) + (xi, yj, zk)\\sin(\\theta/2)$. When applied to a vector (using quaternion multiplcation), this quaternion rotates it by the specified angle around the given axis. Quaternion multiplication combines two rotations in sequence, making it useful for updating orientations. Given two quaternions $q_1 = w_1 + x_1i + y_1j + z_1k$ and $q_2 = w_2 + x_2i + y_2j + z_2k$, their product $q = q_1 \\cdot q_2$ results in a new quaternion that represents the combined rotation of $q_1$ followed by $q_2$. The product $q = q_1 \\otimes q_2$ is calculated using the formula:\n",
        "\\begin{align}\n",
        "q=q_1 \\otimes q_2=&\\ \\left(w_1w_2 - x_1x_2 - y_1y_2 - z_1z_2\\right) \\\\\n",
        "&+ \\left(w_1x_2 + x_1w_2 + y_1z_2 - z_1y_2\\right)i \\\\\n",
        "&+ \\left(w_1y_2 - x_1z_2 + y_1w_2 + z_1x_2\\right)j \\\\\n",
        "&+ \\left(w_1z_2 + x_1y_2 - y_1x_2 + z_1w_2\\right)k.\n",
        "\\end{align}\n",
        "\n",
        "This non-commutative operation (order matters) allows quaternions to accurately represent compounded rotations, as each multiplication applies the rotation of one quaternion to the orientation described by another, creating a seamless update for tracking.\n",
        "\n",
        "Here is how we would use quaternions to represent rotation of a point $P$ by an angle of $\\theta$ around an axis $A$ which passes through the origin. First, we normalize the vector $A$ such that if it has components $x$, $y$, $z$, then $x^2+y^2+z^2=1$. Next, we construct a quaternion $q$ such that\n",
        "$$q = (\\cos(\\theta/2)+\\sin(\\theta/2)(xi+yj+zk)),$$\n",
        "and its inverse $q^{-1}$ such that\n",
        "$$q^{-1} = (\\cos(\\theta/2)-\\sin(\\theta/2)(xi+yj+zk)).$$\n",
        "Now, we make a quaternion for our point $P$ so that if our point $P$ had coordinates $a$, $b$, $c$, then our quaternion $p$ is defined by\n",
        "$$p = ai+bj+ck.$$\n",
        "Now, to find the projection $P^\\prime$ after the rotation, we have\n",
        "$$P^\\prime = q\\otimes p\\otimes q^{-1}.$$\n",
        "\n",
        "This framework for how quaternions work is admittedly quite non-intuitive. However, if a more in depth explanation of the mechanics is desired, it can be found in CGP Grey's videos \"[Visualizing quaternions (4d numbers) with stereographic projection](https://www.youtube.com/watch?v=d4EgbgTm0Bg)\" and \"[Visualizing quaternions (4d numbers) with stereographic projection](https://www.youtube.com/watch?v=zjMuIxRvygQ)\", as well as his \"[Visualizing Quaternions](https://eater.net/quaternions)\" webpage with Ben Eater. For the rest of this notebook, these rules will continue to be used without further explanation."
      ]
    },
    {
      "cell_type": "markdown",
      "metadata": {
        "id": "VQO6fMz4lMsv",
        "deepnote_app_block_visible": true,
        "cell_id": "dbd05d44078d40dcbc09b38389e677d3",
        "deepnote_cell_type": "markdown"
      },
      "source": [
        "### Building a ```quaternion_multiply``` function"
      ]
    },
    {
      "cell_type": "code",
      "metadata": {
        "id": "at9Dl3DVgvDc",
        "source_hash": "1a19cec",
        "execution_start": 1732031196365,
        "execution_millis": 1,
        "execution_context_id": "3bacac50-e87e-42b5-8ad0-c3f960a4157e",
        "deepnote_app_block_visible": true,
        "deepnote_app_is_code_hidden": true,
        "cell_id": "a73dee31ac8e421cbf7110b191d0ef6f",
        "deepnote_cell_type": "code"
      },
      "source": [
        "def quaternion_multiply(q1, q2):\n",
        "    w1, x1, y1, z1 = q1\n",
        "    w2, x2, y2, z2 = q2\n",
        "    return np.array([\n",
        "        w1*w2 - x1*x2 - y1*y2 - z1*z2,\n",
        "        w1*x2 + x1*w2 + y1*z2 - z1*y2,\n",
        "        w1*y2 - x1*z2 + y1*w2 + z1*x2,\n",
        "        w1*z2 + x1*y2 - y1*x2 + z1*w2\n",
        "    ])"
      ],
      "execution_count": null,
      "outputs": []
    },
    {
      "cell_type": "markdown",
      "metadata": {
        "id": "rNGd1Yyulg2I",
        "deepnote_app_block_visible": true,
        "cell_id": "b7e2fed3463a4fb89bdc64f446b2229d",
        "deepnote_cell_type": "markdown"
      },
      "source": [
        "This code multiplies two quaternions ```q1``` and ```q2``` and returns the resulting quaternion as a numpy array."
      ]
    },
    {
      "cell_type": "markdown",
      "metadata": {
        "id": "dKBmQ7l-lp67",
        "deepnote_app_block_visible": true,
        "cell_id": "09386a2d1d5e43b39f3642ebbe6107de",
        "deepnote_cell_type": "markdown"
      },
      "source": [
        "### Building a ```rotate_quaternion``` function"
      ]
    },
    {
      "cell_type": "code",
      "metadata": {
        "id": "21Gfldkvgy6U",
        "source_hash": "5a6b3d6c",
        "execution_start": 1732031198836,
        "execution_millis": 0,
        "execution_context_id": "3bacac50-e87e-42b5-8ad0-c3f960a4157e",
        "deepnote_app_block_visible": true,
        "deepnote_app_is_code_hidden": true,
        "cell_id": "4745c857a127410db4f7a435443ddf5d",
        "deepnote_cell_type": "code"
      },
      "source": [
        "def rotate_quaternion(point, axis, angle: float) -> list:\n",
        "    normalizedaxis = axis/np.linalg.norm(axis)\n",
        "    q_inv = [math.cos(angle/2)]\n",
        "    q = [math.cos(angle/2)]\n",
        "    for value in normalizedaxis:\n",
        "        q.append(math.sin(angle/2)*value)\n",
        "        q_inv.append(-math.sin(angle/2)*value)\n",
        "    pointquat = [0, point[0], point[1], point[2]]\n",
        "    rotation = quaternion_multiply(quaternion_multiply(q, pointquat), q_inv)\n",
        "    result = [float(i) for i in rotation[1:]]\n",
        "    return(result)\n"
      ],
      "execution_count": null,
      "outputs": []
    },
    {
      "cell_type": "markdown",
      "metadata": {
        "id": "8Ni2ojIrhdQU",
        "deepnote_app_block_visible": true,
        "cell_id": "21f4f0df3c844b488214e305f51b27ef",
        "deepnote_cell_type": "markdown"
      },
      "source": [
        "Using ```quaternion_multiply```, this code represents rotations using quaternions. We can test this by checking that known rotations produce the correct result."
      ]
    },
    {
      "cell_type": "code",
      "metadata": {
        "id": "7Uw72screK3P",
        "colab": {
          "base_uri": "https://localhost:8080/"
        },
        "outputId": "216f191a-cead-4bff-eec1-c8905f043daa",
        "source_hash": "74eb5b90",
        "execution_start": 1732031202203,
        "execution_millis": 1,
        "execution_context_id": "3bacac50-e87e-42b5-8ad0-c3f960a4157e",
        "deepnote_app_block_visible": true,
        "deepnote_app_is_code_hidden": true,
        "cell_id": "edae1ea50efd41feaa8708449010ec4f",
        "deepnote_cell_type": "code"
      },
      "source": [
        "print(rotate_quaternion([1, 0, 0], [0, 1, 0], np.pi/2))"
      ],
      "execution_count": null,
      "outputs": [
        {
          "name": "stdout",
          "text": "[2.220446049250313e-16, 0.0, -1.0]\n",
          "output_type": "stream"
        }
      ]
    },
    {
      "cell_type": "markdown",
      "metadata": {
        "id": "H9nEHisPmAeb",
        "deepnote_app_block_visible": true,
        "cell_id": "f63dfe33434346a1ab59f23ff56e67c6",
        "deepnote_cell_type": "markdown"
      },
      "source": [
        "### Visualization Example"
      ]
    },
    {
      "cell_type": "markdown",
      "metadata": {
        "id": "KgajZ2k5htb2",
        "deepnote_app_block_visible": true,
        "cell_id": "0696bd4f048a433fbb2ac10bb385982d",
        "deepnote_cell_type": "markdown"
      },
      "source": [
        "Here are example visualizations we could build using ```quaternion_multiply``` and ```rotate_quaternion```."
      ]
    },
    {
      "cell_type": "markdown",
      "metadata": {
        "id": "ZDqcIaWFwxdj",
        "deepnote_app_block_visible": true,
        "cell_id": "5b1bf75c1d1e4b01ba42948660314b08",
        "deepnote_cell_type": "markdown"
      },
      "source": [
        "#### Plotly Setup"
      ]
    },
    {
      "cell_type": "markdown",
      "metadata": {
        "id": "yfUyWajCJcCX",
        "deepnote_app_block_visible": true,
        "cell_id": "9e0abe8d9c1442f0a0b3cc23bc77157b",
        "deepnote_cell_type": "markdown"
      },
      "source": [
        "To plot in an interactive, java-script based window, we can use plotly."
      ]
    },
    {
      "cell_type": "code",
      "metadata": {
        "id": "B0eJKatkwztY",
        "source_hash": "8eaacb35",
        "execution_start": 1732031209840,
        "execution_millis": 3,
        "execution_context_id": "3bacac50-e87e-42b5-8ad0-c3f960a4157e",
        "deepnote_app_block_visible": true,
        "deepnote_app_is_code_hidden": true,
        "cell_id": "f00e8422949b4eb5998ec44195d34b3b",
        "deepnote_cell_type": "code"
      },
      "source": [
        "def plot_rotation_plotly(point, axis, angle, figure, label):\n",
        "    t = np.linspace(0.0, angle, 100)\n",
        "    x = np.zeros(100)\n",
        "    y = np.zeros(100)\n",
        "    z = np.zeros(100)\n",
        "    for i in range(100):\n",
        "        p = rotate_quaternion(point, axis, t[i])\n",
        "        x[i] = p[0]\n",
        "        y[i] = p[1]\n",
        "        z[i] = p[2]\n",
        "    figure.add_trace(go.Scatter3d(\n",
        "        x=x, y=y, z=z,\n",
        "        mode='lines',\n",
        "        name=label))\n",
        "    figure.add_trace(go.Scatter3d(\n",
        "        x=[0, axis[0]], y=[0, axis[1]], z=[0, axis[2]],\n",
        "        mode='lines',\n",
        "        name='Axis',\n",
        "        # line=dict(color='pink', width=5)\n",
        "        ))\n",
        "    figure.add_trace(go.Scatter3d(\n",
        "        x=[x[0]], y=[y[0]], z=[z[0]],\n",
        "        mode='markers',\n",
        "        name='Start',\n",
        "        # line=dict(color='pink', width=5)\n",
        "        ))\n",
        "    figure.add_trace(go.Scatter3d(\n",
        "        x=[x[-1]], y=[y[-1]], z=[z[-1]],\n",
        "        mode='markers',\n",
        "        name='End',\n",
        "        # line=dict(color='pink', width=5)\n",
        "        ))\n",
        "    return rotate_quaternion(point, axis, angle)\n",
        "\n",
        "def make3dplotly(name: str):\n",
        "    fig = go.Figure()\n",
        "    fig.update_layout(width=600, height=600, scene=dict(\n",
        "        aspectmode = 'cube',\n",
        "        xaxis=dict(nticks=4, range=[-1.2, 1.2]),\n",
        "        yaxis=dict(nticks=4, range=[-1.2, 1.2]),\n",
        "        zaxis=dict(nticks=4, range=[-1.2, 1.2]),\n",
        "        bgcolor=\"white\"),\n",
        "        title=name, paper_bgcolor='lightgrey')\n",
        "\n",
        "    fig.add_trace(go.Scatter3d(\n",
        "        x=[-1.2, 1.2], y=[0, 0], z=[0, 0],\n",
        "        mode='lines',\n",
        "        name='x-axis',\n",
        "        line=dict(color='black', width=5)\n",
        "    ))\n",
        "\n",
        "    fig.add_trace(go.Scatter3d(\n",
        "        y=[-1.2, 1.2], x=[0, 0], z=[0, 0],\n",
        "        mode='lines',\n",
        "        name='y-axis',\n",
        "        line=dict(color='black', width=5)\n",
        "    ))\n",
        "\n",
        "    fig.add_trace(go.Scatter3d(\n",
        "        z=[-1.2, 1.2], y=[0, 0], x=[0, 0],\n",
        "        mode='lines',\n",
        "        name='z-axis',\n",
        "        line=dict(color='black', width=5)\n",
        "    ))\n",
        "    return fig"
      ],
      "execution_count": null,
      "outputs": []
    },
    {
      "cell_type": "markdown",
      "metadata": {
        "id": "hP5ia6fqKRiO",
        "deepnote_app_block_visible": true,
        "cell_id": "d286a8ccf3fa4b0ebb727801081bcf21",
        "deepnote_cell_type": "markdown"
      },
      "source": [
        "Edit the lines\n",
        "> ```\n",
        "p = (1.,0.,0.)\n",
        "ax = (.05, .1, .5)\n",
        "ang = 3.29\n",
        "\n",
        "with your own values to visualize a different point, axis, or angle.\n",
        "\n",
        "*Note: the axes will not resize if you choose values that are too large to be in frame. If you would like to change this, you must modify lines 39-41 in the previous cell 'Plotly Setup'*."
      ]
    },
    {
      "cell_type": "code",
      "metadata": {
        "id": "tgyl5UL5HsHu",
        "colab": {
          "height": 617,
          "base_uri": "https://localhost:8080/"
        },
        "outputId": "8e5cad8b-82ed-4ef4-b3f4-97780dd7c0e2",
        "source_hash": "36ec3e76",
        "execution_start": 1732031219580,
        "execution_millis": 127,
        "execution_context_id": "3bacac50-e87e-42b5-8ad0-c3f960a4157e",
        "deepnote_app_block_visible": true,
        "deepnote_app_is_code_hidden": true,
        "cell_id": "03b7cea780a0400fbab3695fa4a0708b",
        "deepnote_cell_type": "code"
      },
      "source": [
        "p = (1.,0.,0.)\n",
        "ax = (.05, .3, .5)\n",
        "ang = 3.29\n",
        "\n",
        "myfig = make3dplotly(\n",
        "f'Rotation of ({p[0]}, {p[1]}, {p[2]}) by {ang} radians around \\\n",
        "({ax[0]}, {ax[1]}, {ax[2]})'\n",
        ")\n",
        "final_point = plot_rotation_plotly(p, ax, ang, myfig, 'rotation')\n",
        "display(myfig)"
      ],
      "execution_count": null,
      "outputs": [
        {
          "data": {
            "text/html": "<html>\n<head><meta charset=\"utf-8\" /></head>\n<body>\n    <div>            <script src=\"https://cdnjs.cloudflare.com/ajax/libs/mathjax/2.7.5/MathJax.js?config=TeX-AMS-MML_SVG\"></script><script type=\"text/javascript\">if (window.MathJax && window.MathJax.Hub && window.MathJax.Hub.Config) {window.MathJax.Hub.Config({SVG: {font: \"STIX-Web\"}});}</script>                <script type=\"text/javascript\">window.PlotlyConfig = {MathJaxConfig: 'local'};</script>\n        <script charset=\"utf-8\" src=\"https://cdn.plot.ly/plotly-2.30.0.min.js\"></script>                <div id=\"483c1c4b-4ac4-44c6-9a5c-65ee9e05d28f\" class=\"plotly-graph-div\" style=\"height:600px; width:600px;\"></div>            <script type=\"text/javascript\">                                    window.PLOTLYENV=window.PLOTLYENV || {};                                    if (document.getElementById(\"483c1c4b-4ac4-44c6-9a5c-65ee9e05d28f\")) {                    Plotly.newPlot(                        \"483c1c4b-4ac4-44c6-9a5c-65ee9e05d28f\",                        [{\"line\":{\"color\":\"black\",\"width\":5},\"mode\":\"lines\",\"name\":\"x-axis\",\"x\":[-1.2,1.2],\"y\":[0,0],\"z\":[0,0],\"type\":\"scatter3d\"},{\"line\":{\"color\":\"black\",\"width\":5},\"mode\":\"lines\",\"name\":\"y-axis\",\"x\":[0,0],\"y\":[-1.2,1.2],\"z\":[0,0],\"type\":\"scatter3d\"},{\"line\":{\"color\":\"black\",\"width\":5},\"mode\":\"lines\",\"name\":\"z-axis\",\"x\":[0,0],\"y\":[0,0],\"z\":[-1.2,1.2],\"type\":\"scatter3d\"},{\"mode\":\"lines\",\"name\":\"rotation\",\"x\":[1.0,0.9994518874037374,0.9978081548878359,0.9950706176025618,0.9912422985711149,0.9863274253513492,0.9803314253673404,0.9732609199159598,0.9651237168550698,0.9559288019814198,0.9456863291077594,0.9344076088501272,0.9221050961377009,0.9087923764589969,0.8944841508596104,0.879196219708061,0.862945465247672,0.8457498329537512,0.8276283117166592,0.8086009128726517,0.7886886481056449,0.7679135062443155,0.7462984289801528,0.7238672855332761,0.7006448462939974,0.6766567554692348,0.6519295027639824,0.6264903941291073,0.6003675216077805,0.5735897323138355,0.5461865965763145,0.5181883752853773,0.48962598647563293,0.4605309711837994,0.43093545861838634,0.40087213067987215,0.37037418587054793,0.33947530263388853,0.3082096021639296,0.2766116107257216,0.24471622152846956,0.2125586561934633,0.18017442585934454,0.14759929196766697,0.11486922677204647,0.08202037361451803,0.04908900701296129,0.01611149260367012,-0.016875753016699052,-0.049836302505452595,-0.08273375800005359,-0.11553179131175678,-0.14819418404231124,-0.18068486757941407,-0.2129679629267669,-0.2450078203247327,-0.27676905861785805,-0.30821660432577447,-0.33931573037434104,-0.37003209444425406,-0.40033177689477933,-0.4301813182207235,-0.4595477560012883,-0.48839866129999876,-0.5167021744755124,-0.5444270403637652,-0.5715426427926028,-0.5980190383907776,-0.6238269896539885,-0.6489379972314343,-0.6733243313972403,-0.6969590626719984,-0.7198160915606022,-0.7418701773735488,-0.7630969660998683,-0.7834730173009103,-0.8029758299952839,-0.8215838675063692,-0.8392765812449609,-0.856034433400781,-0.8718389185178017,-0.8866725839295574,-0.9005190490318724,-0.9133630233717276,-0.9251903235322896,-0.9359878887954541,-0.9457437955646101,-0.9544472705316958,-0.962088702574009,-0.9686596533676339,-0.9741528667057577,-0.9785622765115984,-0.9818830135370864,-0.9841114107399043,-0.9852450073329493,-0.9852825515017465,-0.9842240017868082,-0.9820705271294172,-0.978824505580783,-0.9744895216759917],\"y\":[0.0,0.02841124554980651,0.056839479844372875,0.0852533099918907,0.11362135900684475,0.1419123004591686,0.17009489306757242,0.1981380151988422,0.22601069923501355,0.2536821657704684,0.2811218576011918,0.30829947346865405,0.335185001521057,0.3617487524549912,0.387961392300909,0.4137939748162063,0.43921797345014374,0.46420531284530786,0.48872839984082617,0.5127601539430993,0.5362740372304018,0.559244083658329,0.5816449277337286,0.6034518325254498,0.6246407169809827,0.6451881825188202,0.6650715388671754,0.6842688291205238,0.7027588539862997,0.7205211951949709,0.7375362380476419,0.753785193076284,0.7692501167926756,0.7839139315031404,0.7977604441671984,0.8107743642793089,0.8229413207539574,0.8342478777954385,0.8446815497348127,0.8542308148176523,0.8628851279273495,0.8706349322299372,0.8774716697275643,0.8833877907089696,0.8883767620865198,0.892433074610606,0.8955522489534268,0.8977308406554475,0.8989664439290661,0.8992576943152921,0.8986042701904968,0.8970068931215789,0.894467327069148,0.8909883764396092,0.886573882988295,0.8812287215770731,0.8749587947911033,0.8677710264206993,0.8596733538154853,0.8506747191192949,0.8407850593954894,0.8300152956536018,0.8183773207894218,0.8058839864518414,0.7925490888509642,0.7783873535231463,0.7634144190697992,0.7476468198879062,0.7311019679113234,0.7137981333830322,0.695754424679571,0.6769907672099279,0.6575278814121998,0.6373872598723053,0.616591143590035,0.5951624974186297,0.5731249847050237,0.5505029411587518,0.5273213479783698,0.5036058042650784,0.4793824987540015,0.45467818089434,0.4295201313103407,0.4039361316756912,0.3779544340346173,0.3516037296035558,0.3249131170878532,0.2979120705484852,0.27063040685427053,0.24309825275553149,0.21534601161555622,0.18740432983659733,0.15930406301749242,0.1310762418802655,0.10275203800334654,0.07436272939924499,0.04593966597468621,0.017514234911361753,-0.010882173994488459,-0.03921820299537718],\"z\":[0.0,-0.01699193607025764,-0.03388450339540733,-0.05065904775539059,-0.06729704526121832,-0.08378012281063607,-0.10009007837727747,-0.11620890111090125,-0.1321187912265151,-0.14780217966042303,-0.163241747471491,-0.17842044496620516,-0.19332151052640426,-0.2079284891188944,-0.22222525046650643,-0.23619600686052988,-0.24982533059485343,-0.2630981710025598,-0.2759998710761616,-0.2885161836531247,-0.3006332871488055,-0.31233780081942897,-0.32361679953825234,-0.33445782806859736,-0.3448489148179893,-0.3547785850582155,-0.36423587359670345,-0.373210336885225,-0.38169206455255783,-0.3896716903483661,-0.3971404024862166,-0.40408995337430814,-0.4105126687231686,-0.4164014560202642,-0.42174981236215764,-0.4265518316355726,-0.43080221103942923,-0.4344962569406518,-0.4376298900572806,-0.4401996499631635,-0.44220269890925656,-0.44363682495730866,-0.44450044442247294,-0.4447926036221483,-0.44451297992911637,-0.4436618821278153,-0.4422402500733521,-0.44024965365363533,-0.43769229105576973,-0.4345709863386299,-0.4308891863142926,-0.42665095674177156,-0.42186097783725773,-0.41652453910582404,-0.41064753350030025,-0.4042364509137705,-0.39729837101287613,-0.38984095541984204,-0.381872439251857,-0.37340162202715144,-0.3644378579478156,-0.35499104557008865,-0.3450716168735242,-0.334690525741105,-0.32385923586302723,-0.31258970807751124,-0.3008943871626192,-0.28878618809366585,-0.2762784817813951,-0.26338508030667596,-0.2501202216680184,-0.23649855405875686,-0.22253511969125953,-0.2082453381860282,-0.1936449895440341,-0.1787501967210867,-0.16357740782348582,-0.14814337794461405,-0.13246515066252576,-0.11656003921896887,-0.1004456074006207,-0.08413965014364821,-0.06766017388301712,-0.05102537666824192,-0.03425362806754134,-0.017363448882588006,-0.0003734906962508666,0.016697484724078532,0.03383062614483865,0.05100701368344451,0.06820767970124209,0.0854136297492015,0.10260586354321322,0.1197653959458311,0.13687327793128704,0.15391061751062768,0.17085860059386912,0.18769851176612473,0.20441175495477143,0.22097987396482552],\"type\":\"scatter3d\"},{\"mode\":\"lines\",\"name\":\"Axis\",\"x\":[0,0.05],\"y\":[0,0.3],\"z\":[0,0.5],\"type\":\"scatter3d\"},{\"mode\":\"markers\",\"name\":\"Start\",\"x\":[1.0],\"y\":[0.0],\"z\":[0.0],\"type\":\"scatter3d\"},{\"mode\":\"markers\",\"name\":\"End\",\"x\":[-0.9744895216759917],\"y\":[-0.03921820299537718],\"z\":[0.22097987396482552],\"type\":\"scatter3d\"}],                        {\"template\":{\"data\":{\"histogram2dcontour\":[{\"type\":\"histogram2dcontour\",\"colorbar\":{\"outlinewidth\":0,\"ticks\":\"\"},\"colorscale\":[[0.0,\"#0d0887\"],[0.1111111111111111,\"#46039f\"],[0.2222222222222222,\"#7201a8\"],[0.3333333333333333,\"#9c179e\"],[0.4444444444444444,\"#bd3786\"],[0.5555555555555556,\"#d8576b\"],[0.6666666666666666,\"#ed7953\"],[0.7777777777777778,\"#fb9f3a\"],[0.8888888888888888,\"#fdca26\"],[1.0,\"#f0f921\"]]}],\"choropleth\":[{\"type\":\"choropleth\",\"colorbar\":{\"outlinewidth\":0,\"ticks\":\"\"}}],\"histogram2d\":[{\"type\":\"histogram2d\",\"colorbar\":{\"outlinewidth\":0,\"ticks\":\"\"},\"colorscale\":[[0.0,\"#0d0887\"],[0.1111111111111111,\"#46039f\"],[0.2222222222222222,\"#7201a8\"],[0.3333333333333333,\"#9c179e\"],[0.4444444444444444,\"#bd3786\"],[0.5555555555555556,\"#d8576b\"],[0.6666666666666666,\"#ed7953\"],[0.7777777777777778,\"#fb9f3a\"],[0.8888888888888888,\"#fdca26\"],[1.0,\"#f0f921\"]]}],\"heatmap\":[{\"type\":\"heatmap\",\"colorbar\":{\"outlinewidth\":0,\"ticks\":\"\"},\"colorscale\":[[0.0,\"#0d0887\"],[0.1111111111111111,\"#46039f\"],[0.2222222222222222,\"#7201a8\"],[0.3333333333333333,\"#9c179e\"],[0.4444444444444444,\"#bd3786\"],[0.5555555555555556,\"#d8576b\"],[0.6666666666666666,\"#ed7953\"],[0.7777777777777778,\"#fb9f3a\"],[0.8888888888888888,\"#fdca26\"],[1.0,\"#f0f921\"]]}],\"heatmapgl\":[{\"type\":\"heatmapgl\",\"colorbar\":{\"outlinewidth\":0,\"ticks\":\"\"},\"colorscale\":[[0.0,\"#0d0887\"],[0.1111111111111111,\"#46039f\"],[0.2222222222222222,\"#7201a8\"],[0.3333333333333333,\"#9c179e\"],[0.4444444444444444,\"#bd3786\"],[0.5555555555555556,\"#d8576b\"],[0.6666666666666666,\"#ed7953\"],[0.7777777777777778,\"#fb9f3a\"],[0.8888888888888888,\"#fdca26\"],[1.0,\"#f0f921\"]]}],\"contourcarpet\":[{\"type\":\"contourcarpet\",\"colorbar\":{\"outlinewidth\":0,\"ticks\":\"\"}}],\"contour\":[{\"type\":\"contour\",\"colorbar\":{\"outlinewidth\":0,\"ticks\":\"\"},\"colorscale\":[[0.0,\"#0d0887\"],[0.1111111111111111,\"#46039f\"],[0.2222222222222222,\"#7201a8\"],[0.3333333333333333,\"#9c179e\"],[0.4444444444444444,\"#bd3786\"],[0.5555555555555556,\"#d8576b\"],[0.6666666666666666,\"#ed7953\"],[0.7777777777777778,\"#fb9f3a\"],[0.8888888888888888,\"#fdca26\"],[1.0,\"#f0f921\"]]}],\"surface\":[{\"type\":\"surface\",\"colorbar\":{\"outlinewidth\":0,\"ticks\":\"\"},\"colorscale\":[[0.0,\"#0d0887\"],[0.1111111111111111,\"#46039f\"],[0.2222222222222222,\"#7201a8\"],[0.3333333333333333,\"#9c179e\"],[0.4444444444444444,\"#bd3786\"],[0.5555555555555556,\"#d8576b\"],[0.6666666666666666,\"#ed7953\"],[0.7777777777777778,\"#fb9f3a\"],[0.8888888888888888,\"#fdca26\"],[1.0,\"#f0f921\"]]}],\"mesh3d\":[{\"type\":\"mesh3d\",\"colorbar\":{\"outlinewidth\":0,\"ticks\":\"\"}}],\"scatter\":[{\"fillpattern\":{\"fillmode\":\"overlay\",\"size\":10,\"solidity\":0.2},\"type\":\"scatter\"}],\"parcoords\":[{\"type\":\"parcoords\",\"line\":{\"colorbar\":{\"outlinewidth\":0,\"ticks\":\"\"}}}],\"scatterpolargl\":[{\"type\":\"scatterpolargl\",\"marker\":{\"colorbar\":{\"outlinewidth\":0,\"ticks\":\"\"}}}],\"bar\":[{\"error_x\":{\"color\":\"#2a3f5f\"},\"error_y\":{\"color\":\"#2a3f5f\"},\"marker\":{\"line\":{\"color\":\"#E5ECF6\",\"width\":0.5},\"pattern\":{\"fillmode\":\"overlay\",\"size\":10,\"solidity\":0.2}},\"type\":\"bar\"}],\"scattergeo\":[{\"type\":\"scattergeo\",\"marker\":{\"colorbar\":{\"outlinewidth\":0,\"ticks\":\"\"}}}],\"scatterpolar\":[{\"type\":\"scatterpolar\",\"marker\":{\"colorbar\":{\"outlinewidth\":0,\"ticks\":\"\"}}}],\"histogram\":[{\"marker\":{\"pattern\":{\"fillmode\":\"overlay\",\"size\":10,\"solidity\":0.2}},\"type\":\"histogram\"}],\"scattergl\":[{\"type\":\"scattergl\",\"marker\":{\"colorbar\":{\"outlinewidth\":0,\"ticks\":\"\"}}}],\"scatter3d\":[{\"type\":\"scatter3d\",\"line\":{\"colorbar\":{\"outlinewidth\":0,\"ticks\":\"\"}},\"marker\":{\"colorbar\":{\"outlinewidth\":0,\"ticks\":\"\"}}}],\"scattermapbox\":[{\"type\":\"scattermapbox\",\"marker\":{\"colorbar\":{\"outlinewidth\":0,\"ticks\":\"\"}}}],\"scatterternary\":[{\"type\":\"scatterternary\",\"marker\":{\"colorbar\":{\"outlinewidth\":0,\"ticks\":\"\"}}}],\"scattercarpet\":[{\"type\":\"scattercarpet\",\"marker\":{\"colorbar\":{\"outlinewidth\":0,\"ticks\":\"\"}}}],\"carpet\":[{\"aaxis\":{\"endlinecolor\":\"#2a3f5f\",\"gridcolor\":\"white\",\"linecolor\":\"white\",\"minorgridcolor\":\"white\",\"startlinecolor\":\"#2a3f5f\"},\"baxis\":{\"endlinecolor\":\"#2a3f5f\",\"gridcolor\":\"white\",\"linecolor\":\"white\",\"minorgridcolor\":\"white\",\"startlinecolor\":\"#2a3f5f\"},\"type\":\"carpet\"}],\"table\":[{\"cells\":{\"fill\":{\"color\":\"#EBF0F8\"},\"line\":{\"color\":\"white\"}},\"header\":{\"fill\":{\"color\":\"#C8D4E3\"},\"line\":{\"color\":\"white\"}},\"type\":\"table\"}],\"barpolar\":[{\"marker\":{\"line\":{\"color\":\"#E5ECF6\",\"width\":0.5},\"pattern\":{\"fillmode\":\"overlay\",\"size\":10,\"solidity\":0.2}},\"type\":\"barpolar\"}],\"pie\":[{\"automargin\":true,\"type\":\"pie\"}]},\"layout\":{\"autotypenumbers\":\"strict\",\"colorway\":[\"#636efa\",\"#EF553B\",\"#00cc96\",\"#ab63fa\",\"#FFA15A\",\"#19d3f3\",\"#FF6692\",\"#B6E880\",\"#FF97FF\",\"#FECB52\"],\"font\":{\"color\":\"#2a3f5f\"},\"hovermode\":\"closest\",\"hoverlabel\":{\"align\":\"left\"},\"paper_bgcolor\":\"white\",\"plot_bgcolor\":\"#E5ECF6\",\"polar\":{\"bgcolor\":\"#E5ECF6\",\"angularaxis\":{\"gridcolor\":\"white\",\"linecolor\":\"white\",\"ticks\":\"\"},\"radialaxis\":{\"gridcolor\":\"white\",\"linecolor\":\"white\",\"ticks\":\"\"}},\"ternary\":{\"bgcolor\":\"#E5ECF6\",\"aaxis\":{\"gridcolor\":\"white\",\"linecolor\":\"white\",\"ticks\":\"\"},\"baxis\":{\"gridcolor\":\"white\",\"linecolor\":\"white\",\"ticks\":\"\"},\"caxis\":{\"gridcolor\":\"white\",\"linecolor\":\"white\",\"ticks\":\"\"}},\"coloraxis\":{\"colorbar\":{\"outlinewidth\":0,\"ticks\":\"\"}},\"colorscale\":{\"sequential\":[[0.0,\"#0d0887\"],[0.1111111111111111,\"#46039f\"],[0.2222222222222222,\"#7201a8\"],[0.3333333333333333,\"#9c179e\"],[0.4444444444444444,\"#bd3786\"],[0.5555555555555556,\"#d8576b\"],[0.6666666666666666,\"#ed7953\"],[0.7777777777777778,\"#fb9f3a\"],[0.8888888888888888,\"#fdca26\"],[1.0,\"#f0f921\"]],\"sequentialminus\":[[0.0,\"#0d0887\"],[0.1111111111111111,\"#46039f\"],[0.2222222222222222,\"#7201a8\"],[0.3333333333333333,\"#9c179e\"],[0.4444444444444444,\"#bd3786\"],[0.5555555555555556,\"#d8576b\"],[0.6666666666666666,\"#ed7953\"],[0.7777777777777778,\"#fb9f3a\"],[0.8888888888888888,\"#fdca26\"],[1.0,\"#f0f921\"]],\"diverging\":[[0,\"#8e0152\"],[0.1,\"#c51b7d\"],[0.2,\"#de77ae\"],[0.3,\"#f1b6da\"],[0.4,\"#fde0ef\"],[0.5,\"#f7f7f7\"],[0.6,\"#e6f5d0\"],[0.7,\"#b8e186\"],[0.8,\"#7fbc41\"],[0.9,\"#4d9221\"],[1,\"#276419\"]]},\"xaxis\":{\"gridcolor\":\"white\",\"linecolor\":\"white\",\"ticks\":\"\",\"title\":{\"standoff\":15},\"zerolinecolor\":\"white\",\"automargin\":true,\"zerolinewidth\":2},\"yaxis\":{\"gridcolor\":\"white\",\"linecolor\":\"white\",\"ticks\":\"\",\"title\":{\"standoff\":15},\"zerolinecolor\":\"white\",\"automargin\":true,\"zerolinewidth\":2},\"scene\":{\"xaxis\":{\"backgroundcolor\":\"#E5ECF6\",\"gridcolor\":\"white\",\"linecolor\":\"white\",\"showbackground\":true,\"ticks\":\"\",\"zerolinecolor\":\"white\",\"gridwidth\":2},\"yaxis\":{\"backgroundcolor\":\"#E5ECF6\",\"gridcolor\":\"white\",\"linecolor\":\"white\",\"showbackground\":true,\"ticks\":\"\",\"zerolinecolor\":\"white\",\"gridwidth\":2},\"zaxis\":{\"backgroundcolor\":\"#E5ECF6\",\"gridcolor\":\"white\",\"linecolor\":\"white\",\"showbackground\":true,\"ticks\":\"\",\"zerolinecolor\":\"white\",\"gridwidth\":2}},\"shapedefaults\":{\"line\":{\"color\":\"#2a3f5f\"}},\"annotationdefaults\":{\"arrowcolor\":\"#2a3f5f\",\"arrowhead\":0,\"arrowwidth\":1},\"geo\":{\"bgcolor\":\"white\",\"landcolor\":\"#E5ECF6\",\"subunitcolor\":\"white\",\"showland\":true,\"showlakes\":true,\"lakecolor\":\"white\"},\"title\":{\"x\":0.05},\"mapbox\":{\"style\":\"light\"}}},\"scene\":{\"xaxis\":{\"nticks\":4,\"range\":[-1.2,1.2]},\"yaxis\":{\"nticks\":4,\"range\":[-1.2,1.2]},\"zaxis\":{\"nticks\":4,\"range\":[-1.2,1.2]},\"aspectmode\":\"cube\",\"bgcolor\":\"white\"},\"width\":600,\"height\":600,\"title\":{\"text\":\"Rotation of (1.0, 0.0, 0.0) by 3.29 radians around (0.05, 0.3, 0.5)\"},\"paper_bgcolor\":\"lightgrey\"},                        {\"responsive\": true}                    ).then(function(){\n                            \nvar gd = document.getElementById('483c1c4b-4ac4-44c6-9a5c-65ee9e05d28f');\nvar x = new MutationObserver(function (mutations, observer) {{\n        var display = window.getComputedStyle(gd).display;\n        if (!display || display === 'none') {{\n            console.log([gd, 'removed!']);\n            Plotly.purge(gd);\n            observer.disconnect();\n        }}\n}});\n\n// Listen for the removal of the full notebook cells\nvar notebookContainer = gd.closest('#notebook-container');\nif (notebookContainer) {{\n    x.observe(notebookContainer, {childList: true});\n}}\n\n// Listen for the clearing of the current output cell\nvar outputEl = gd.closest('.output');\nif (outputEl) {{\n    x.observe(outputEl, {childList: true});\n}}\n\n                        })                };                            </script>        </div>\n</body>\n</html>"
          },
          "metadata": {},
          "output_type": "display_data"
        }
      ]
    },
    {
      "cell_type": "markdown",
      "metadata": {
        "id": "D8nmvH2aQq0J",
        "deepnote_app_block_visible": true,
        "cell_id": "f7a2354d0f634c71b51f5b4aaae87eb5",
        "deepnote_cell_type": "markdown"
      },
      "source": [
        "#### Widgets Setup\n",
        "\n"
      ]
    },
    {
      "cell_type": "markdown",
      "metadata": {
        "id": "fWwZJVB5LpvB",
        "deepnote_app_block_visible": true,
        "cell_id": "c6a982327bb545ca874e2690ef796c87",
        "deepnote_cell_type": "markdown"
      },
      "source": [
        "To add interactivity to a plot using IPython, we can use widgets."
      ]
    },
    {
      "cell_type": "code",
      "metadata": {
        "id": "_prUoVvgRKqr",
        "source_hash": "e8d4454d",
        "execution_start": 1732031250380,
        "execution_millis": 0,
        "execution_context_id": "3bacac50-e87e-42b5-8ad0-c3f960a4157e",
        "deepnote_app_block_visible": true,
        "deepnote_app_is_code_hidden": true,
        "cell_id": "0952d9e0447c42fa9b14489c6503bb24",
        "deepnote_cell_type": "code"
      },
      "source": [
        "def plot_rotation_mpl(point, axis, angle, figure, name):\n",
        "    t = np.linspace(0.0, angle, 100)\n",
        "    x = np.zeros(100)\n",
        "    y = np.zeros(100)\n",
        "    z = np.zeros(100)\n",
        "    for i in range(100):\n",
        "        p = rotate_quaternion(point, axis, t[i])\n",
        "        x[i] = p[0]\n",
        "        y[i] = p[1]\n",
        "        z[i] = p[2]\n",
        "    figure.plot(x, y, z, label=name)\n",
        "    ax_x = np.array([0, axis[0]])\n",
        "    ax_y = np.array([0, axis[1]])\n",
        "    ax_z = np.array([0, axis[2]])\n",
        "    figure.plot(ax_x, ax_y, ax_z, label='Axis')\n",
        "    return(rotate_quaternion(point, axis, angle))\n",
        "\n",
        "def make3dfigure():\n",
        "    figure = plt.figure().add_subplot(projection='3d')\n",
        "    figure.set_xlabel('x')\n",
        "    figure.set_ylabel('y')\n",
        "    figure.set_zlabel('z')\n",
        "    return figure\n",
        "\n",
        "def plot3axes(figure):\n",
        "    figure.plot((-1.3,1.3), (0,0), (0,0), label='x')\n",
        "    figure.plot((0,0), (-1.3,1.3), (0,0), label='y')\n",
        "    figure.plot((0,0), (0,0), (-1.3,1.3), label='z')\n",
        "\n",
        "def plot_widget_rotation(px, py, pz, axx, axy, axz, angle, elevation, azimuth):\n",
        "    my_widget_fig = make3dfigure()\n",
        "    my_widget_fig.view_init(elevation,azimuth)\n",
        "    plot3axes(my_widget_fig)\n",
        "    plot_rotation_mpl([px, py, pz], [axx, axy, axz], angle, my_widget_fig, 'path')\n",
        "    plt.legend()\n",
        "    plt.show()\n",
        "\n",
        "def get_rotation_widgets():\n",
        "    angle_slider = FloatSlider(\n",
        "        value=ang, min=0., max=2*math.pi, step=0.1, description=\"Angle\")\n",
        "    axx_slider = FloatSlider(\n",
        "        value=ax[0], min=0., max=1.0, step=0.1, description=\"Axis x\")\n",
        "    axy_slider = FloatSlider(\n",
        "        value=ax[1], min=0., max=1.0, step=0.1, description=\"Axis y\")\n",
        "    axz_slider = FloatSlider(\n",
        "        value=ax[2], min=0., max=1.0, step=0.1, description=\"Axis z\")\n",
        "    px_slider = FloatSlider(\n",
        "        value=p[0], min=-1., max=1.0, step=0.1, description=\"Point x\")\n",
        "    py_slider = FloatSlider(\n",
        "        value=p[1], min=-1., max=1.0, step=0.1, description=\"Point y\")\n",
        "    pz_slider = FloatSlider(\n",
        "        value=p[2], min=-1., max=1.0, step=0.1, description=\"Point z\")\n",
        "    elevation_slider= IntSlider(\n",
        "        value=35, min=-90, max=90,step=5, continuous_update=False)\n",
        "    azimuth_slider= IntSlider(\n",
        "        value=45, min=0, max=360,step=5, continuous_update=False)\n",
        "    return [px_slider, py_slider, pz_slider, axx_slider, axy_slider, axz_slider, angle_slider, elevation_slider, azimuth_slider]"
      ],
      "execution_count": null,
      "outputs": []
    },
    {
      "cell_type": "code",
      "metadata": {
        "source_hash": "5b5d2259",
        "execution_start": 1732031535616,
        "execution_millis": 1,
        "execution_context_id": "3bacac50-e87e-42b5-8ad0-c3f960a4157e",
        "deepnote_app_block_visible": true,
        "deepnote_app_is_code_hidden": true,
        "cell_id": "a88c73a5463f4e7f9985f3d9067d890a",
        "deepnote_cell_type": "code",
        "id": "9bDtSqCq1DUN",
        "outputId": "0a4a9942-94cb-448f-c113-31609cfb2196"
      },
      "source": [
        "2*math.pi"
      ],
      "execution_count": null,
      "outputs": [
        {
          "output_type": "execute_result",
          "execution_count": 14,
          "data": {
            "text/plain": "6.283185307179586"
          },
          "metadata": {}
        }
      ]
    },
    {
      "cell_type": "markdown",
      "metadata": {
        "id": "6vpOgSc_4dj5",
        "deepnote_app_block_visible": true,
        "cell_id": "1a6a4d0f124a4abdab30276968ce13f0",
        "deepnote_cell_type": "markdown"
      },
      "source": [
        "Now we can visualize rotations using MatPlotLib."
      ]
    },
    {
      "cell_type": "code",
      "metadata": {
        "source_hash": "51d384d3",
        "execution_start": 1732032330872,
        "execution_millis": 0,
        "deepnote_input_label": "radians/100",
        "deepnote_slider_step": 1,
        "execution_context_id": "3bacac50-e87e-42b5-8ad0-c3f960a4157e",
        "deepnote_variable_name": "angle_slider",
        "deepnote_variable_value": "315",
        "deepnote_slider_max_value": 628,
        "deepnote_slider_min_value": 0,
        "deepnote_app_block_visible": true,
        "cell_id": "f1c80220d1fc4a5a9efe90f34faf7539",
        "deepnote_cell_type": "input-slider",
        "id": "jxkMFzIM1DUO"
      },
      "source": [
        "angle_slider = 315"
      ],
      "execution_count": null,
      "outputs": []
    },
    {
      "cell_type": "code",
      "metadata": {
        "source_hash": "1c8bae3b",
        "execution_start": 1732031930493,
        "execution_millis": 2,
        "deepnote_input_label": "Point (format -> \"x,y,z\")",
        "execution_context_id": "3bacac50-e87e-42b5-8ad0-c3f960a4157e",
        "deepnote_variable_name": "point_input",
        "deepnote_variable_value": "1.,.5,1.",
        "deepnote_app_block_visible": true,
        "cell_id": "c4a20ea4b248456198823a3b28d2a870",
        "deepnote_cell_type": "input-text",
        "id": "JZEGTS2z1DUO"
      },
      "source": [
        "point_input = '1.,.5,1.'"
      ],
      "execution_count": null,
      "outputs": []
    },
    {
      "cell_type": "code",
      "metadata": {
        "allow_embed": false,
        "source_hash": "704fa74e",
        "execution_start": 1732032316548,
        "execution_millis": 0,
        "deepnote_input_label": "Point (format -> \"x,y,z\")",
        "execution_context_id": "3bacac50-e87e-42b5-8ad0-c3f960a4157e",
        "deepnote_variable_name": "axis_input",
        "deepnote_variable_value": "1,-1,-1",
        "deepnote_app_block_visible": true,
        "cell_id": "1060149ff1ed4a56a381914bd2569c28",
        "deepnote_cell_type": "input-text",
        "id": "hiJ5Fuv21DUO"
      },
      "source": [
        "axis_input = '1,-1,-1'"
      ],
      "execution_count": null,
      "outputs": []
    },
    {
      "cell_type": "code",
      "metadata": {
        "source_hash": "f27dc6ce",
        "execution_start": 1732032333243,
        "execution_millis": 245,
        "execution_context_id": "3bacac50-e87e-42b5-8ad0-c3f960a4157e",
        "deepnote_app_block_visible": true,
        "deepnote_app_is_code_hidden": true,
        "cell_id": "ccbf29b20d5f46f78b84a0f7eecdf32a",
        "deepnote_cell_type": "code",
        "id": "BY7wtnw21DUO",
        "outputId": "5ec4a95b-6356-4c9e-9eea-0a4c9f6e46f9"
      },
      "source": [
        "px, py, pz = [float(i) for i in point_input.split(\",\")]\n",
        "axx, axy, axz = [float(i) for i in axis_input.split(\",\")]\n",
        "ang = float(angle_slider)/100\n",
        "\n",
        "plot_widget_rotation(px, py, pz, axx, axy, axz, ang, 35, 45)"
      ],
      "execution_count": null,
      "outputs": [
        {
          "data": {
            "text/plain": "<Figure size 640x480 with 1 Axes>",
            "image/png": "[encoded data removed]"
          },
          "metadata": {
            "image/png": {
              "width": 422,
              "height": 393
            }
          },
          "output_type": "display_data"
        }
      ]
    },
    {
      "cell_type": "code",
      "metadata": {
        "id": "mGepuHante8W",
        "colab": {
          "height": 698,
          "base_uri": "https://localhost:8080/",
          "referenced_widgets": [
            "fd23253230f94de7a93dcd56535fb85a",
            "c03c4e1ef4a641988729c3c7c34d728c",
            "a1664c74c8e24c1eb4dd08f040fc4699",
            "cc6bcd389ab14981aa14eee780b9073a",
            "95842d129b36482a9f105f305a6902f1",
            "1602b28b5abb48e4b45b4fb7208b8714",
            "818e790ab6b5421aad948ee9118f95d9",
            "238ee2514d01448a97d48050105682e0",
            "b861afe6e6574b9b9efd8d0171e924fd",
            "01092ed4efd14bdb8325bc1cfcea8521",
            "d6c30162647443c889c384cb11e94d75",
            "ed7d05148d1d463db4928a852c979052",
            "a561c4d45bff451486ac6dd367e49ee3",
            "e5f60297f270497ba3b0bfdd121e9582",
            "55f6272fd9044bf7a29078c05916b3d0",
            "d23eacc13e4b447c8c2399e66a89efb3",
            "9882d2874ab840a8ad7b35bbf652d214",
            "d739d74ed8e64c909d7f57b78bb83ef0",
            "b4ea4fabf46f42389b588c75a8046a21",
            "f2fea79a3ebd4397ae458bc14cb9f064",
            "b9136524c0e547488ce91fd07db42435",
            "7d8d684b03ad432492281f3c0ab74f49",
            "445cbcf7e3f7470f81af8a16ba9cc28f",
            "ea4c66b7a6e340b5a40ab93f2b9dd223",
            "2505067c34b548c8baebd0667c6633e5",
            "526dd0ea48844e028080a76cedafdb19",
            "b13184be77c044828d64753011f68a71",
            "69b663399bc24c93a6e2eacb319244c7",
            "ef599a8144b0408e90bbba7da8303e76",
            "4fa3ec42f2fa46208de8b050e7481f8b",
            "1f5b4dab36a347ff89b034a85a12f22a"
          ]
        },
        "outputId": "6e5c3fa6-91a2-483d-d6ac-50b7b8eab447",
        "deepnote_app_block_visible": true,
        "deepnote_app_is_code_hidden": true,
        "cell_id": "d2b64f53c35148c1b2fa3a13f49095c9",
        "deepnote_cell_type": "code"
      },
      "source": [
        "# (px_slider, py_slider, pz_slider, axx_slider, axy_slider, axz_slider,\n",
        "#  angle_slider, elevation_slider, azimuth_slider) = get_rotation_widgets()\n",
        "\n",
        "# interact(plot_widget_rotation, px=px_slider, py=py_slider, pz=pz_slider,\n",
        "#     axx=axx_slider, axy=axy_slider, axz=axz_slider, angle=angle_slider,\n",
        "#     elevation=elevation_slider, azimuth=azimuth_slider);"
      ],
      "execution_count": null,
      "outputs": [
        {
          "output_type": "display_data",
          "data": {
            "text/plain": "interactive(children=(FloatSlider(value=1.0, description='Point x', max=1.0, min=-1.0), FloatSlider(value=0.0,…",
            "application/vnd.jupyter.widget-view+json": {
              "version_major": 2,
              "version_minor": 0,
              "model_id": "fd23253230f94de7a93dcd56535fb85a"
            }
          },
          "metadata": {}
        }
      ]
    },
    {
      "cell_type": "markdown",
      "metadata": {
        "id": "dkAqIlulaCYo",
        "deepnote_app_block_visible": true,
        "cell_id": "5d0f4ce48846435385b1c8ae1e89149a",
        "deepnote_cell_type": "markdown"
      },
      "source": [
        "These quaterions will come back when storing orientation data for the IMUs, but first, filtering the data will be addressed."
      ]
    },
    {
      "cell_type": "markdown",
      "metadata": {
        "id": "BprN_KUPgTjP",
        "deepnote_app_block_visible": true,
        "cell_id": "b10f8acafe2d4600a199e4c17159a34b",
        "deepnote_cell_type": "markdown"
      },
      "source": [
        "# Filters"
      ]
    },
    {
      "cell_type": "markdown",
      "metadata": {
        "id": "aO4JRZPd5AzZ",
        "deepnote_app_block_visible": true,
        "cell_id": "8c7b3840f3c146468c714e9e9ccf1aac",
        "deepnote_cell_type": "markdown"
      },
      "source": [
        "Here, we will address filtering. We will begin with the g-h (aka the $\\alpha$-$\\beta$) filter and build our way up to the Kalman Filter."
      ]
    },
    {
      "cell_type": "markdown",
      "metadata": {
        "id": "dZzY6FU3OrMo",
        "deepnote_app_block_visible": true,
        "cell_id": "3822f0787b3c42bab38b7f6cd59e8d58",
        "deepnote_cell_type": "markdown"
      },
      "source": [
        "#### Install ```filterpy```"
      ]
    },
    {
      "cell_type": "code",
      "metadata": {
        "id": "yemC4cWFOtPZ",
        "source_hash": "998198f2",
        "execution_start": 1732032374648,
        "execution_millis": 0,
        "execution_context_id": "3bacac50-e87e-42b5-8ad0-c3f960a4157e",
        "deepnote_app_block_visible": true,
        "deepnote_app_is_code_hidden": true,
        "cell_id": "bb6cc7da47e246af95644857f45cb367",
        "deepnote_cell_type": "code"
      },
      "source": [
        "# !pip install filterpy\n",
        "# import filterpy.kalman as kf"
      ],
      "execution_count": null,
      "outputs": []
    },
    {
      "cell_type": "markdown",
      "metadata": {
        "id": "ga5OcXfx8B2y",
        "deepnote_app_block_visible": true,
        "cell_id": "c6db56b76cea4c68af229e7785c2692b",
        "deepnote_cell_type": "markdown"
      },
      "source": [
        "## The g-h Filter"
      ]
    },
    {
      "cell_type": "markdown",
      "metadata": {
        "id": "GOZoEWFByWLf",
        "deepnote_app_block_visible": true,
        "cell_id": "0da168bd8bf84662b548b923af74bc5f",
        "deepnote_cell_type": "markdown"
      },
      "source": [
        "The g-h filter is a recursive algorithm used to estimate the state of dynamic systems from noisy measurements. One of its applications is tracking the position and velocity of objects. The g-h filter helps smooth out this noisy data by using two parameters, g (alpha) and h (beta), to adjust the level of filtering applied to the position and velocity estimates. By dynamically adjusting these parameters, the filter can be tuned to respond more or less aggressively to changes in the measured data, providing a balance between the system's predictions and real-time observations. This makes it particularly useful for systems where the state changes gradually over time. The g-h filter's simplicity and computational efficiency make it suitable for real-time applications, where computational resources may be limited. It offers a practical solution for integrating noisy sensor data with a predictive model to produce optimal state estimates, much like the Kalman Filter, but with fewer computational demands. Interestingly, the Kalman Filter can be viewed as an advanced version of the g-h filter, employing more sophisticated methods to dynamically update the g and h parameters. Starting with the g-h filter is an excellent entry point for building up to the more complex Kalman Filter, as it lays the foundational understanding of recursive filtering and state estimation. The following code performs a g-h filter on 1 state variable with a fixed g and h."
      ]
    },
    {
      "cell_type": "markdown",
      "metadata": {
        "id": "mNpOPLF9tOQ-",
        "deepnote_app_block_visible": true,
        "cell_id": "34d6275996834dbf80fb873abea6b9dd",
        "deepnote_cell_type": "markdown"
      },
      "source": [
        "### g-h in Python"
      ]
    },
    {
      "cell_type": "code",
      "metadata": {
        "id": "aef1nOWt3X3b",
        "cellView": "code",
        "deepnote_app_block_visible": true,
        "deepnote_app_is_code_hidden": true,
        "cell_id": "c74953856b39487786a3263bf84daf1c",
        "deepnote_cell_type": "code"
      },
      "source": [
        "def g_h_filter(data, x0, dx, g, h, dt):\n",
        "    estimates = []\n",
        "    x = x0\n",
        "    for z in data:\n",
        "        #prediction step\n",
        "        xp = x + (dx * dt)\n",
        "\n",
        "        #update step\n",
        "        residual = z - xp\n",
        "        dx += h * (residual / dt)\n",
        "        x = xp + (g * residual)\n",
        "        estimates.append(x)\n",
        "    return np.array(estimates)"
      ],
      "execution_count": null,
      "outputs": []
    },
    {
      "cell_type": "markdown",
      "metadata": {
        "id": "p5GLzKmMtWyU",
        "deepnote_app_block_visible": true,
        "cell_id": "9d78b85f4e5d4fbe96c445809720318f",
        "deepnote_cell_type": "markdown"
      },
      "source": [
        "### The logic behind ```g_h_filter```"
      ]
    },
    {
      "cell_type": "markdown",
      "metadata": {
        "id": "AIUgKu5ppLjM",
        "deepnote_app_block_visible": true,
        "cell_id": "a7ed9f5e747e4fcabe73c8ee62a0d45b",
        "deepnote_cell_type": "markdown"
      },
      "source": [
        "The arguments passed to the function are:\n",
        "* ```data``` contains the data to be filtered.\n",
        "* ```x0``` is the initial value for our state variable.\n",
        "* ```dx``` is the initial change rate for our state variable.\n",
        "* ```g``` is the g-h's g scale factor.\n",
        "* ```h``` is the g-h's h scale factor.\n",
        "* ```dt``` is the length of the time step.\n",
        "\n",
        "The function then uses the following logic:\n",
        "* Create a list to hold the ```estimates``` and set the initial estimate with ```x = x0```\n",
        "* Iterate through the ```data``` and filter\n",
        "\n",
        "    * Predict the state with ```xp = x + (dx * dt)```. Here, ```x``` is the last extimate and ```(dx * dt)``` is the (rate-of-change × time-step).\n",
        "\n",
        "    * Calculate the ```residual``` as the difference of measurement (```z```) and predicted state (```xp```).\n",
        "\n",
        "    * Update the rate-of-change (```dx```) by adding ```h * (residual / dt)```. The purpose of this is to weight the new information on rate-of-change with a factor of $h$, and our previous information with a factor of $(1-h)$. To see why this is the correct adjustment to ```dx```, note that this is equivalent to \\begin{aligned}\\text{new dx} &= \\text{old dx} + h\\left(\\frac{\\text{residual}}{\\text{dt}}\\right)\\\\ &= \\text{old dx} + h\\left(\\frac{\\text{z - xp}}{\\text{dt}}\\right)\\\\ &= \\text{old dx} + h\\left(\\frac{\\text{z - (x + (old dx} * \\text{dt))}}{\\text{dt}}\\right)\\\\ &= \\text{old dx} + h\\left(\\frac{\\text{z - x}}{\\text{dt}} - \\text{old dx}\\right)\\\\ &= \\text{old dx}(1-h) + h\\left(\\frac{\\text{z - x}}{\\text{dt}}\\right).\\end{aligned} Thus, ```dx``` is correctly adjusted by weighting the the $\\text{dx}$ suggested by the measurement with a factor of $h$, and weighting the old $\\text{dx}$ with a factor of $(1-h)$.\n",
        "\n",
        "    * Update the state of with ```x = xp + (g * residual)```. Similarly, the purpose of this is to weight the new information on the state with a factor of $g$, and our previous information with a factor of $(1-g)$. To see that this is the correct expression for ```x```, note that this is equivalent to \\begin{aligned}\\text{x} &= \\text{xp} + (g * \\text{residual})\\\\ &= \\text{xp} + g * \\text{(z - xp)}\\\\ &= \\text{xp}(1-g) + g(\\text{z}),\\end{aligned} as desired.\n",
        "\n",
        "    * Append the estimate ```x``` to the list of estimates\n",
        "* Return the list ```estimates``` as a numpy array.\n",
        "\n",
        "This g-h filter logic is the same general framework that a kalman filter uses, though the kalman is a bit more complex than the simple g-h."
      ]
    },
    {
      "cell_type": "markdown",
      "metadata": {
        "id": "1OGJPOSgosuV",
        "deepnote_app_block_visible": true,
        "cell_id": "38c5f111cfa8470180448de127555673",
        "deepnote_cell_type": "markdown"
      },
      "source": [
        "## The Kalman Filter"
      ]
    },
    {
      "cell_type": "markdown",
      "metadata": {
        "id": "8KrSEOzUQM01",
        "deepnote_app_block_visible": true,
        "cell_id": "4a7646c7f71a4d7285c874bceb0cfa66",
        "deepnote_cell_type": "markdown"
      },
      "source": [
        "The Kalman Filter is a recursive algorithm used to estimate the state of dynamic systems from noisy measurements. One of its application is tracking the orientation of an Inertial Measurement Unit (IMU). IMUs provide data on acceleration and angular velocity but are prone to noise and drift over time. The Kalman Filter helps fuse this noisy sensor data with a predictive model to more accurately estimate the IMU's orientation given the measurement errors. In general, the Kalman Filter's ability to combine system predictions with real-time observations to produce optimal state estimates makes it useful in dynamic systems where the state changes over time. It is also computationally efficient due to its recursive nature, making it suitable for real-time applications."
      ]
    },
    {
      "cell_type": "markdown",
      "metadata": {
        "id": "wI0OA2bqQQoV",
        "deepnote_app_block_visible": true,
        "cell_id": "d011b096bb2e490e823f78a1f2690b11",
        "deepnote_cell_type": "markdown"
      },
      "source": [
        "### Kalman Equations for Linear Systems"
      ]
    },
    {
      "cell_type": "markdown",
      "metadata": {
        "id": "khxQzdC1pNy1",
        "deepnote_app_block_visible": true,
        "cell_id": "a23a7e60c4ee4a8c9eca19b3b4d2e3df",
        "deepnote_cell_type": "markdown"
      },
      "source": [
        "The simple kalman filter estimates an nx1 column vector state variable \\(x_k\\), based on some mx1 column vector measurement \\(z_k\\), using a system model:\n",
        "$$\n",
        "\\begin{align*}\n",
        "\\text{state transition matrix} &: A  &(& \\text{nxn matrix}), \\\\\n",
        "\\text{process noise covariance} &: Q  &(& \\text{nxn diagonal matrix}), \\\\\n",
        "\\text{measurement covariance} &: R  &(& \\text{mxm matrix}). \\\\\n",
        "\\text{measurement model matrix} &: H  &(& \\text{mxn matrix}), \\\\\n",
        "\\end{align*}\n",
        "$$\n",
        "\n",
        "After the system model has been set, there are five steps of the simple kalman filter: \\\\\n",
        "\n",
        "0. Set initial values\n",
        "$$\n",
        "\\begin{align*}\n",
        "\\widehat{x}_0 &= \\text{initial state} &(& \\text{nx1 column vector}), \\\\\n",
        "P_0 &= \\text{initial error covariance} &(& \\text{nxn matrix}).\n",
        "\\end{align*}\n",
        "$$\n",
        "\n",
        "1. Predict state and error covariance:\n",
        "$$\n",
        "\\begin{align*}\n",
        "\\widehat{x}^-_k &= A\\widehat{x}_{k-1}, \\\\\n",
        "P^-_K &= AP_{k-1}A^t+Q.\n",
        "\\end{align*}\n",
        "$$\n",
        "\n",
        "2. Compute kalman gain:\n",
        "$$K_k = P^-_kH^T(HP^-_kH^T+R)^{-1}.$$\n",
        "\n",
        "3. Compute the estimate (state update equation):\n",
        "$$\\widehat{x}_k = \\widehat{x}^-_k+K_k (z_k-H\\widehat{x}^-_k).$$\n",
        "\n",
        "4. Compute the error covariance:\n",
        "$$P_K = P^-_k-K_kHP^-_k.$$\n",
        "\n",
        "Steps 1-4 are then repeated to recursively update with each new $z_k$.\n",
        "\n",
        "*Notes:*\n",
        "1. *Here, the minus-sign superscripts denote predicted values before measurement*\n",
        "\n",
        "2. *The term $(z_k-H\\widehat{x}^-_k)$ in the state update equation is important, because it represents the gap between our prediction, and our measurement. Because of this importance, it is given the name \"measurement residual\" or \"innovation\"*\n",
        "\n",
        "This can be applied to both uni-variate or multi-variate systems, and the notation is unfortunates not always consistent. Below is an explanation from Roger Labbe in his book [Kalman and Bayesian Filters in Python](https://github.com/rlabbe/Kalman-and-Bayesian-Filters-in-Python) (note that Labbe refers to the state transition as $\\mathbf F$ rather than $\\mathbf A$, uses the overbar rather than the \"-\" superscript, and does not use hat notation):\n",
        "\n",
        ">\"[the univariate and multivariate equations]... are quite similar.\n",
        ">\n",
        "><u>**Predict**</u>\n",
        ">\n",
        ">\n",
        "$$\n",
        "\\begin{array}{|l|l|l|}\n",
        "\\hline\n",
        "\\text{Univariate} & \\text{Univariate} & \\text{Multivariate}\\\\\n",
        "& \\text{(Kalman form)} & \\\\\n",
        "\\hline\n",
        "\\bar \\mu = \\mu + \\mu_{f_x} & \\bar x = x + dx & \\bar{\\mathbf x} = \\mathbf{Fx} + \\mathbf{Bu}\\\\\n",
        "\\bar\\sigma^2 = \\sigma_x^2 + \\sigma_{f_x}^2 & \\bar P = P + Q & \\bar{\\mathbf P} = \\mathbf{FPF}^\\mathsf T + \\mathbf Q \\\\\n",
        "\\hline\n",
        "\\end{array}\n",
        "$$\n",
        ">\n",
        ">Without worrying about the specifics of the linear algebra, we can see that:\n",
        "$\\mathbf x,\\, \\mathbf P$ are the state mean and covariance. They correspond to $x$ and $\\sigma^2$.\n",
        "$\\mathbf F$ is the *state transition function*. When multiplied by $\\bf x$ it computes the prior.\n",
        "$\\mathbf Q$ is the process covariance. It corresponds to $\\sigma^2_{f_x}$.\n",
        "$\\mathbf B$ and $\\mathbf u$ are new to us. They let us model control inputs to the system.\n",
        ">\n",
        "><u>**Update**</u>\n",
        ">\n",
        ">\n",
        "$$\n",
        "\\begin{array}{|l|l|l|}\n",
        "\\hline\n",
        "\\text{Univariate} & \\text{Univariate} & \\text{Multivariate}\\\\\n",
        "& \\text{(Kalman form)} & \\\\\n",
        "\\hline\n",
        "& y = z - \\bar x & \\mathbf y = \\mathbf z - \\mathbf{H\\bar x} \\\\\n",
        "& K = \\frac{\\bar P}{\\bar P+R}&\n",
        "\\mathbf K = \\mathbf{\\bar{P}H}^\\mathsf T (\\mathbf{H\\bar{P}H}^\\mathsf T + \\mathbf R)^{-1} \\\\\n",
        "\\mu=\\frac{\\bar\\sigma^2\\, \\mu_z + \\sigma_z^2 \\, \\bar\\mu} {\\bar\\sigma^2 + \\sigma_z^2} & x = \\bar x + Ky & \\mathbf x = \\bar{\\mathbf x} + \\mathbf{Ky} \\\\\n",
        "\\sigma^2 = \\frac{\\sigma_1^2\\sigma_2^2}{\\sigma_1^2+\\sigma_2^2} & P = (1-K)\\bar P &\n",
        "\\mathbf P = (\\mathbf I - \\mathbf{KH})\\mathbf{\\bar{P}} \\\\\n",
        "\\hline\n",
        "\\end{array}\n",
        "$$\n",
        ">\n",
        ">$\\mathbf H$ is the measurement function. We haven't seen this yet in this book and I'll explain it later. If you mentally remove $\\mathbf H$ from the equations, you should be able to see these equations are similar as well.\n",
        "$\\mathbf z,\\, \\mathbf R$ are the measurement mean and noise covariance. They correspond to $z$ and $\\sigma_z^2$ in the univariate filter (I've substituted $\\mu$ with $x$ for the univariate equations to make the notation as similar as possible).\n",
        "$\\mathbf y$ and $\\mathbf K$ are the residual and Kalman gain.\n",
        "The details will be different than the univariate filter because these are vectors and matrices, but the concepts are exactly the same:\n",
        "-  Use a Gaussian to represent our estimate of the state and error\n",
        "-  Use a Gaussian to represent the measurement and its error\n",
        "-  Use a Gaussian to represent the process model\n",
        "-  Use the process model to predict the next state (the prior)\n",
        "-  Form an estimate part way between the measurement and the prior\n",
        ">\n",
        ">Your job as a designer will be to design the state $\\left(\\mathbf x, \\mathbf P\\right)$, the process $\\left(\\mathbf F, \\mathbf Q\\right)$, the measurement $\\left(\\mathbf z, \\mathbf R\\right)$, and the  measurement function $\\mathbf H$. If the system has control inputs, such as a robot, you will also design $\\mathbf B$ and $\\mathbf u$.\"\n",
        "\n",
        "To get the hang of this, lets try applying it to a simplified system before we tackle the whole problem of the IMU."
      ]
    },
    {
      "cell_type": "markdown",
      "metadata": {
        "id": "FvSA0Tm7VhQk",
        "deepnote_app_block_visible": true,
        "cell_id": "b9a2d3ffcaca465d97ba603657c9b9ec",
        "deepnote_cell_type": "markdown"
      },
      "source": [
        "### Estimating Position from Velocity (Linear Example)"
      ]
    },
    {
      "cell_type": "markdown",
      "metadata": {
        "id": "mwnYsvLkVpbN",
        "deepnote_app_block_visible": true,
        "cell_id": "ab7d965f00f74efebc3e36dba09b6b99",
        "deepnote_cell_type": "markdown"
      },
      "source": [
        "Suppose we have a sensor which gives us measurements of its velocity along the global axes in the form\n",
        "$$z = [v_x, v_y, v_z]^T,$$\n",
        "and we want to estimate its position along these world axes using a state variable of the form\n",
        "$$x = [p_x, p_y, p_z, v_x, v_y, v_z]^T.$$"
      ]
    },
    {
      "cell_type": "markdown",
      "metadata": {
        "id": "JdJog0OHumzz",
        "deepnote_app_block_visible": true,
        "cell_id": "3d7f56fa793b4fefbd6eb50dfeef4b32",
        "deepnote_cell_type": "markdown"
      },
      "source": [
        "#### A - State Transition (Linear)"
      ]
    },
    {
      "cell_type": "markdown",
      "metadata": {
        "id": "j-T3zMXGuqm2",
        "deepnote_app_block_visible": true,
        "cell_id": "6b9ad7224927497382a5423780baeb7e",
        "deepnote_cell_type": "markdown"
      },
      "source": [
        "Here, to build our state transition matrix $\\mathbf A$ (which Labbe calls $\\mathbf F$), we want a matrix which satisfies\n",
        "$$\\widehat x^-_k = \\mathbf A\\cdot\\widehat x_{k-1}.$$\n",
        "Since $\\widehat x^-_k$ is 6-dimensional, $\\mathbf A$ will be a 6x6 matrix. If we don't expect the velocity to change much, then we probably want to use\n",
        "$$\n",
        "\\begin{bmatrix}\n",
        "1 & 0 & 0 & \\Delta t & 0 & 0\\\\\n",
        "0 & 1 & 0 & 0 & \\Delta t & 0\\\\\n",
        "0 & 0 & 1 & 0 & 0 & \\Delta t\\\\\n",
        "0 & 0 & 0 & 1 & 0 & 0\\\\\n",
        "0 & 0 & 0 & 0 & 1 & 0\\\\\n",
        "0 & 0 & 0 & 0 & 0 & 1\n",
        "\\end{bmatrix}\n",
        "\\begin{bmatrix}\n",
        "p_x\\\\\n",
        "p_y\\\\\n",
        "p_z\\\\\n",
        "v_x\\\\\n",
        "v_y\\\\\n",
        "v_z\\end{bmatrix}\n",
        "$$\n",
        "in order to update the positions based on our velocity information, so the matrix on the left can be $\\mathbf A$."
      ]
    },
    {
      "cell_type": "markdown",
      "metadata": {
        "id": "d8wxpcQ4xvBz",
        "deepnote_app_block_visible": true,
        "cell_id": "908714c222b147b99b2743caac0a9956",
        "deepnote_cell_type": "markdown"
      },
      "source": [
        "#### Q - Proccess (Linear)"
      ]
    },
    {
      "cell_type": "markdown",
      "metadata": {
        "id": "lF_6cMMgx6RU",
        "deepnote_app_block_visible": true,
        "cell_id": "9d710f7f48504ed398b7752fe4ecc9dc",
        "deepnote_cell_type": "markdown"
      },
      "source": [
        "The process noise covariance matrix Q represents the uncertainties in the system dynamics. For our state vector, a reasonable choice for Q would be:\n",
        "$$\n",
        "Q = \\begin{bmatrix}\n",
        "\\sigma_p^2 & 0 & 0 & 0 & 0 & 0\\\\\n",
        "0 & \\sigma_p^2 & 0 & 0 & 0 & 0\\\\\n",
        "0 & 0 & \\sigma_p^2 & 0 & 0 & 0\\\\\n",
        "0 & 0 & 0 & \\sigma_v^2 & 0 & 0\\\\\n",
        "0 & 0 & 0 & 0 & \\sigma_v^2 & 0\\\\\n",
        "0 & 0 & 0 & 0 & 0 & \\sigma_v^2\n",
        "\\end{bmatrix},\n",
        "$$\n",
        "Where: $\\sigma_p^2$ is the variance in the position components, and $\\sigma_v^2$ is the variance in the velocity components. The specific values for these variances would depend on the characteristics of the system and the expected process noise."
      ]
    },
    {
      "cell_type": "markdown",
      "metadata": {
        "id": "WrdKfPRvzFvP",
        "deepnote_app_block_visible": true,
        "cell_id": "f27ecbd106364db8ad273e5d808ef7e0",
        "deepnote_cell_type": "markdown"
      },
      "source": [
        "#### R - Measurement Covariance (Linear)"
      ]
    },
    {
      "cell_type": "markdown",
      "metadata": {
        "id": "YOEW6V7azKXV",
        "deepnote_app_block_visible": true,
        "cell_id": "780fdb2f450345c29cace945d6e0b409",
        "deepnote_cell_type": "markdown"
      },
      "source": [
        "The measurement covariance matrix R represents the uncertainties in our velocity measurements. Since our measurement vector z = [vx, vy, vz] is 3-dimensional, R would be a 3x3 matrix:\n",
        "$$\n",
        "R = \\begin{bmatrix}\n",
        "\\sigma_{vx}^2 & 0 & 0\\\\\\\\\n",
        "0 & \\sigma_{vy}^2 & 0\\\\\\\\\n",
        "0 & 0 & \\sigma_{vz}^2\n",
        "\\end{bmatrix}\n",
        "$$\n",
        "Where $\\sigma_{vx}^2$ is the variance in x-velocity measurements, $\\sigma_{vy}^2$ is the variance in y-velocity measurements, and $\\sigma_{vz}^2$ is the variance in z-velocity measurements. If the sensor has similar noise characteristics in all directions, all these values could be set equal, like:\n",
        "$$\n",
        "R = \\begin{bmatrix}\n",
        "\\sigma_v^2 & 0 & 0\\\\\\\\\n",
        "0 & \\sigma_v^2 & 0\\\\\\\\\n",
        "0 & 0 & \\sigma_v^2\n",
        "\\end{bmatrix}\n",
        "$$\n",
        "The value of $\\sigma_v^2$ would typically come from your sensor's specifications or from experimental characterization of the sensor's noise. For the sake of simplicity, let's use the second option for this example, where all axes have the same variance.\n"
      ]
    },
    {
      "cell_type": "markdown",
      "metadata": {
        "id": "NuQWZdnP4xcN",
        "deepnote_app_block_visible": true,
        "cell_id": "738514244b4c406b8c9e290dd51a4017",
        "deepnote_cell_type": "markdown"
      },
      "source": [
        "#### H - Measurment Function (Linear)"
      ]
    },
    {
      "cell_type": "markdown",
      "metadata": {
        "id": "UChk6hQK45vt",
        "deepnote_app_block_visible": true,
        "cell_id": "939395ef561140a98ae5edb53f659500",
        "deepnote_cell_type": "markdown"
      },
      "source": [
        "We want to be able to calculate the residual $y$ using\n",
        "$$y = z_k-H\\widehat{x}^-_k,$$\n",
        "and since $z$ and $x$ are 3 and 6 dimensional, respectively, we are looking for a 3x6 matrix. Since we have a linear relationship between our state x=[px,py,pz,vx,vy,vz] and measurements.\n",
        "H would be:\n",
        "$$\n",
        "H = \\begin{bmatrix}\n",
        "0 & 0 & 0 & 1 & 0 & 0\\\\\n",
        "0 & 0 & 0 & 0 & 1 & 0\\\\\n",
        "0 & 0 & 0 & 0 & 0 & 1\n",
        "\\end{bmatrix}.\n",
        "$$\n",
        "This H matrix simply \"picks out\" the velocity components from our state vector to relate them to our velocity measurements."
      ]
    },
    {
      "cell_type": "markdown",
      "metadata": {
        "id": "9N9UnM36nX7M",
        "deepnote_app_block_visible": true,
        "cell_id": "a3cf9683cdb54a5c85388e1f4f386405",
        "deepnote_cell_type": "markdown"
      },
      "source": [
        "#### Putting it All Together (Linear)"
      ]
    },
    {
      "cell_type": "markdown",
      "metadata": {
        "id": "_hB3Jmdyniy5",
        "deepnote_app_block_visible": true,
        "cell_id": "847346c2b3be403b8d3f998dd2404f4e",
        "deepnote_cell_type": "markdown"
      },
      "source": [
        "So to recap, we have:\n",
        "$$\n",
        "\\begin{align}\n",
        "z &= [v_x, v_y, v_z]^T,\\\\\n",
        "x &= [p_x, p_y, p_z, v_x, v_y, v_z]^T,\\\\\n",
        "\\mathbf A &= \\begin{bmatrix}\n",
        "1 & 0 & 0 & \\Delta t & 0 & 0\\\\\n",
        "0 & 1 & 0 & 0 & \\Delta t & 0\\\\\n",
        "0 & 0 & 1 & 0 & 0 & \\Delta t\\\\\n",
        "0 & 0 & 0 & 1 & 0 & 0\\\\\n",
        "0 & 0 & 0 & 0 & 1 & 0\\\\\n",
        "0 & 0 & 0 & 0 & 0 & 1\n",
        "\\end{bmatrix},\\\\\n",
        "Q &= \\begin{bmatrix}\n",
        "\\sigma_p^2 & 0 & 0 & 0 & 0 & 0\\\\\n",
        "0 & \\sigma_p^2 & 0 & 0 & 0 & 0\\\\\n",
        "0 & 0 & \\sigma_p^2 & 0 & 0 & 0\\\\\n",
        "0 & 0 & 0 & \\sigma_v^2 & 0 & 0\\\\\n",
        "0 & 0 & 0 & 0 & \\sigma_v^2 & 0\\\\\n",
        "0 & 0 & 0 & 0 & 0 & \\sigma_v^2\n",
        "\\end{bmatrix},\\\\\n",
        "R &= \\begin{bmatrix}\n",
        "\\sigma_v^2 & 0 & 0\\\\\\\\\n",
        "0 & \\sigma_v^2 & 0\\\\\\\\\n",
        "0 & 0 & \\sigma_v^2\n",
        "\\end{bmatrix},\\\\\n",
        "H &= \\begin{bmatrix}\n",
        "0 & 0 & 0 & 1 & 0 & 0\\\\\n",
        "0 & 0 & 0 & 0 & 1 & 0\\\\\n",
        "0 & 0 & 0 & 0 & 0 & 1\n",
        "\\end{bmatrix}.\n",
        "\\end{align}\n",
        "$$\n",
        "\n",
        "Now, we must choose our initial values for the initial state $\\widehat{x}_0$ (6x1 column vector), as well as our initial error covariance $P_0$ (6x6 matrix).\n",
        "\n",
        "A reasonable $P_0$ would be:\n",
        "$$\n",
        "P_0 = \\begin{bmatrix}\n",
        "\\sigma_{p0}^2 & 0 & 0 & 0 & 0 & 0\\\\\n",
        "0 & \\sigma_{p0}^2 & 0 & 0 & 0 & 0\\\\\n",
        "0 & 0 & \\sigma_{p0}^2 & 0 & 0 & 0\\\\\n",
        "0 & 0 & 0 & \\sigma_{v0}^2 & 0 & 0\\\\\n",
        "0 & 0 & 0 & 0 & \\sigma_{v0}^2 & 0\\\\\n",
        "0 & 0 & 0 & 0 & 0 & \\sigma_{v0}^2\n",
        "\\end{bmatrix}.\n",
        "$$\n",
        "The values should reflect:\n",
        "- $\\sigma_{p0}^2$: Initial position uncertainty (could be several meters squared if GPS-like, or smaller if more precise initialization)\n",
        "- $\\sigma_{v0}^2$: Initial velocity uncertainty (could be a few meters/second squared)\n",
        "\n",
        "Practical tips for choosing values:\n",
        "- If you have no idea about initial position, use large values (e.g., 100² m²)\n",
        "- If you know starting position precisely, use small values (e.g., 0.1² m²)\n",
        "- For velocity, if starting from rest, you might use small values (e.g., 0.1² (m/s)²)\n",
        "- Better to overestimate than underestimate - the filter will converge if P_0 is too large, but might not if it's too small\n",
        "\n",
        "As for $\\widehat{x}_0$, we may choose\n",
        "$$\\widehat{x}_0 = [0,0,0,0,0,0]^T$$\n",
        "if we think the sensor will be stationary to begin with, and we aren't compelled to place the origin elsewhere.\n",
        "\n",
        "Lets put this into code."
      ]
    },
    {
      "cell_type": "markdown",
      "metadata": {
        "id": "mjeiiZpRyByv",
        "deepnote_app_block_visible": true,
        "cell_id": "5899060e9d8848f2b67d5bc32d7ee1c7",
        "deepnote_cell_type": "markdown"
      },
      "source": [
        "#### Putting it into Code (Linear)"
      ]
    },
    {
      "cell_type": "code",
      "metadata": {
        "id": "xEv88J3Na_J0",
        "colab": {
          "base_uri": "https://localhost:8080/"
        },
        "outputId": "cc609862-ed76-459f-eb71-290fb5f9f7c6",
        "deepnote_app_block_visible": true,
        "deepnote_app_is_code_hidden": true,
        "cell_id": "54d902ff482d4c41856d4844641e49b3",
        "deepnote_cell_type": "code"
      },
      "source": [
        "dataset_test = np.array([np.array([0., 0., 0.]).reshape(-1,1),\n",
        "                         np.array([.5, 0., 0.]).reshape(-1,1),\n",
        "                         np.array([1., 0., 0.]).reshape(-1,1)])\n",
        "for i in dataset_test:\n",
        "    print(i)"
      ],
      "execution_count": null,
      "outputs": [
        {
          "output_type": "stream",
          "name": "stdout",
          "text": "[[0.]\n [0.]\n [0.]]\n[[0.5]\n [0. ]\n [0. ]]\n[[1.]\n [0.]\n [0.]]\n"
        }
      ]
    },
    {
      "cell_type": "code",
      "metadata": {
        "id": "U23WyJaPtpIz",
        "colab": {
          "base_uri": "https://localhost:8080/"
        },
        "outputId": "7d946cf0-2764-4dd9-823f-7b49783d9674",
        "deepnote_app_block_visible": true,
        "deepnote_app_is_code_hidden": true,
        "cell_id": "4021313d3e9846a895d261f5d1e90fce",
        "deepnote_cell_type": "code"
      },
      "source": [
        "def kf_pos_vel(px_0=0., py_0=0., pz_0=0., vx_0=0., vy_0=0., vz_0=0., pvar=10.,\n",
        "               vvar=1., dt=.5, dataset=np.array(\n",
        "                        [np.array([0., 0., 0.]).reshape(-1,1),\n",
        "                         np.array([.5, 0., 0.]).reshape(-1,1),\n",
        "                         np.array([1., 0., 0.]).reshape(-1,1),\n",
        "                         np.array([1.5, 0.,0.]).reshape(-1,1)])):\n",
        "    xp = np.array([px_0, py_0, pz_0, vx_0, vy_0, vz_0]).reshape(-1,1)\n",
        "\n",
        "    Pp = np.zeros((6,6))\n",
        "    Pp[0:3,0:3] = np.eye(3) * pvar\n",
        "    Pp[3:6,3:6] = np.eye(3) * vvar\n",
        "\n",
        "    A = np.eye(6)\n",
        "    A[0:3,3:6] = np.eye(3) * dt\n",
        "    At = np.transpose(A)\n",
        "\n",
        "    Q = np.zeros((6,6))\n",
        "    Q[0:3,0:3] = np.eye(3) * pvar\n",
        "    Q[3:6,3:6] = np.eye(3) * vvar\n",
        "\n",
        "    R = np.eye(3) * vvar\n",
        "\n",
        "    H = np.zeros((3,6))\n",
        "    H[0:3,3:6] = np.eye(3)\n",
        "    Ht = np.transpose(H)\n",
        "\n",
        "    filtered_data = []\n",
        "\n",
        "    for z in dataset:\n",
        "        # Compute Kalman Gain\n",
        "        K = Pp @ Ht @ np.linalg.inv(H @ Pp @ Ht + R)\n",
        "        # Compute State Update\n",
        "        x = xp + K @ (z - H @ xp)\n",
        "        filtered_data.append(x)\n",
        "        # Compute Error Covariance\n",
        "        P = (np.eye(6) - K @ H) @ Pp\n",
        "        # Predict State\n",
        "        xp = A @ xp\n",
        "        Pp = A @ Pp @ At + Q\n",
        "    return np.array(filtered_data)\n",
        "\n",
        "\n",
        "kf_pos_vel()"
      ],
      "execution_count": null,
      "outputs": [
        {
          "output_type": "execute_result",
          "data": {
            "text/plain": "array([[[0.        ],\n        [0.        ],\n        [0.        ],\n        [0.        ],\n        [0.        ],\n        [0.        ]],\n\n       [[0.08333333],\n        [0.        ],\n        [0.        ],\n        [0.33333333],\n        [0.        ],\n        [0.        ]],\n\n       [[0.375     ],\n        [0.        ],\n        [0.        ],\n        [0.75      ],\n        [0.        ],\n        [0.        ]],\n\n       [[0.9       ],\n        [0.        ],\n        [0.        ],\n        [1.2       ],\n        [0.        ],\n        [0.        ]]])"
          },
          "metadata": {},
          "execution_count": 25
        }
      ]
    },
    {
      "cell_type": "markdown",
      "metadata": {
        "id": "OohKyuMkRDAh",
        "deepnote_app_block_visible": true,
        "cell_id": "f77bb6af18fe4196850f4bf00bbbc51a",
        "deepnote_cell_type": "markdown"
      },
      "source": [
        "### Estimating Velocity & Position from Acceleration (Non-Linear Example)\n",
        "\n",
        "(THIS SECTION HAS NOT BEEN UPDATED)"
      ]
    },
    {
      "cell_type": "markdown",
      "metadata": {
        "id": "PjSAwV7fSYbt",
        "deepnote_app_block_visible": true,
        "cell_id": "8f07edd4c1f14fe790f7195a7f1ee008",
        "deepnote_cell_type": "markdown"
      },
      "source": [
        "Now, suppose we have a sensor which gives us measurements of its acceleration (NOT velocity) along the global axes in the form\n",
        "$$z_k = [ax_k, ay_k, az_k]^T,$$\n",
        "and we want to estimate its position and velocity along these world axes using a state variable of the form\n",
        "$$\\widehat x_k = [px_k, py_k, pz_k, vx_k, vy_k, vz_k]^T.$$\n",
        "We could extend our state to a 9x1 vector and include acceleration, but there is another way aswell. Since acceleration does not have a linear relationship to position and instead has second derivative relationship, we will adjust our equations to account for this non-linearity."
      ]
    },
    {
      "cell_type": "markdown",
      "metadata": {
        "id": "8Y8Zj9GOSbJZ",
        "deepnote_app_block_visible": true,
        "cell_id": "924b148baff249ecb7e0004c3ce7ddae",
        "deepnote_cell_type": "markdown"
      },
      "source": [
        "\n",
        "#### A - State Transition (Non-Linear)"
      ]
    },
    {
      "cell_type": "markdown",
      "metadata": {
        "id": "03-GE6L9pafj",
        "deepnote_app_block_visible": true,
        "cell_id": "ae8e51499cfd4c4a91b1799b7e02002a",
        "deepnote_cell_type": "markdown"
      },
      "source": [
        "The following state transtion function $f(x)$ propogates (or \"evolves\") the state forward in time:\n",
        "$$\n",
        "f(\\widehat x_k) =\n",
        "\\begin{bmatrix}\n",
        "px_k + vx_k \\cdot dt\\\\\n",
        "py_k + vy_k \\cdot dt\\\\\n",
        "pz_k + vz_k \\cdot dt\\\\\n",
        "vx_k\\\\\n",
        "vy_k\\\\\n",
        "vz_k\n",
        "\\end{bmatrix}\n",
        "$$\n",
        "In this case, taking the jacobian of this matrix actually ends up giving us the same matrix\n",
        "$$\n",
        "\\mathbf A =\n",
        "\\begin{bmatrix}\n",
        "1 & 0 & 0 & \\Delta t & 0 & 0\\\\\n",
        "0 & 1 & 0 & 0 & \\Delta t & 0\\\\\n",
        "0 & 0 & 1 & 0 & 0 & \\Delta t\\\\\n",
        "0 & 0 & 0 & 1 & 0 & 0\\\\\n",
        "0 & 0 & 0 & 0 & 1 & 0\\\\\n",
        "0 & 0 & 0 & 0 & 0 & 1\n",
        "\\end{bmatrix}.\n",
        "$$"
      ]
    },
    {
      "cell_type": "markdown",
      "metadata": {
        "id": "x9d1YtnSTIzU",
        "deepnote_app_block_visible": true,
        "cell_id": "038ffc543419401b9e72174f26a106ba",
        "deepnote_cell_type": "markdown"
      },
      "source": [
        "#### Q - Proccess (Non-Linear)"
      ]
    },
    {
      "cell_type": "markdown",
      "metadata": {
        "id": "4TE-9wAuToYW",
        "deepnote_app_block_visible": true,
        "cell_id": "2d3eb51d22cb4bce9a6aa5ced3dc52ed",
        "deepnote_cell_type": "markdown"
      },
      "source": [
        "The process noise covariance matrix Q represents the uncertainties in the system dynamics. For our state vector, a reasonable choice for Q would be:\n",
        "$$\n",
        "Q = \\begin{bmatrix}\n",
        "\\sigma_p^2 & 0 & 0 & 0 & 0 & 0\\\\\n",
        "0 & \\sigma_p^2 & 0 & 0 & 0 & 0\\\\\n",
        "0 & 0 & \\sigma_p^2 & 0 & 0 & 0\\\\\n",
        "0 & 0 & 0 & \\sigma_v^2 & 0 & 0\\\\\n",
        "0 & 0 & 0 & 0 & \\sigma_v^2 & 0\\\\\n",
        "0 & 0 & 0 & 0 & 0 & \\sigma_v^2\n",
        "\\end{bmatrix},\n",
        "$$\n",
        "Where: $\\sigma_p^2$ is the variance in the position components, and $\\sigma_v^2$ is the variance in the velocity components. The specific values for these variances would depend on the characteristics of the system and the expected process noise."
      ]
    },
    {
      "cell_type": "markdown",
      "metadata": {
        "id": "bZUuVYkBUIf0",
        "deepnote_app_block_visible": true,
        "cell_id": "98d054747ec14210954076423e912584",
        "deepnote_cell_type": "markdown"
      },
      "source": [
        "#### R - Measurement Covariance (Non-Linear)"
      ]
    },
    {
      "cell_type": "markdown",
      "metadata": {
        "id": "Ye-62MT9UGPB",
        "deepnote_app_block_visible": true,
        "cell_id": "22b1e33b8a7642d0bea2dc1cc9807cbf",
        "deepnote_cell_type": "markdown"
      },
      "source": [
        "The measurement covariance matrix R represents the uncertainties in our acceleration measurements. Since our measurement vector z = [ax, ay, az] is 3-dimensional, R would be a 3x3 matrix:\n",
        "$$\n",
        "R = \\begin{bmatrix}\n",
        "\\sigma_{ax}^2 & 0 & 0\\\\\\\\\n",
        "0 & \\sigma_{ay}^2 & 0\\\\\\\\\n",
        "0 & 0 & \\sigma_{az}^2\n",
        "\\end{bmatrix}\n",
        "$$\n",
        "Where $\\sigma_{ax}^2$ is the variance in x-acceleration measurements, $\\sigma_{ay}^2$ is the variance in y-acceleration measurements, and $\\sigma_{az}^2$ is the variance in z-acceleration measurements. If the accelerometer has similar noise characteristics in all directions, all these values could be set equal, like:\n",
        "$$\n",
        "R = \\begin{bmatrix}\n",
        "\\sigma_a^2 & 0 & 0\\\\\\\\\n",
        "0 & \\sigma_a^2 & 0\\\\\\\\\n",
        "0 & 0 & \\sigma_a^2\n",
        "\\end{bmatrix}\n",
        "$$\n",
        "The value of $\\sigma_a^2$ would typically come from your sensor's specifications or from experimental characterization of the sensor's noise.\n"
      ]
    },
    {
      "cell_type": "markdown",
      "metadata": {
        "id": "zIwLh9KpTMIB",
        "deepnote_app_block_visible": true,
        "cell_id": "94f525058c974533bc1c644e46515e68",
        "deepnote_cell_type": "markdown"
      },
      "source": [
        "#### H - Measurement Function (Non-Linear)"
      ]
    },
    {
      "cell_type": "markdown",
      "metadata": {
        "id": "GJyzHI1pUYKb",
        "deepnote_app_block_visible": true,
        "cell_id": "e314b3595b4249ce9b1af38b42dc4f4c",
        "deepnote_cell_type": "markdown"
      },
      "source": [
        "the measurement function $h(x)$ relates the state variables (positions and velocities) to the acceleration measurements:\n",
        "$$\n",
        "h(\\widehat x_k^-) =\n",
        "\\begin{bmatrix}\n",
        "vx^2 + vy^2 + vz^2\\\\\n",
        "0\\\\\n",
        "0\n",
        "\\end{bmatrix}.\n",
        "$$"
      ]
    },
    {
      "cell_type": "markdown",
      "metadata": {
        "id": "npYjAqNT15n7",
        "deepnote_app_block_visible": true,
        "cell_id": "7b3d9088fb114a2fade6818bd71564c7",
        "deepnote_cell_type": "markdown"
      },
      "source": [
        "## **Applying this to IMU Data**\n",
        "\n",
        "Let's explore the math here in the context of IMU data. In our state vector, we would like to keep track of the\n",
        "- position,\n",
        "- velocity,\n",
        "- accelaration (optional),\n",
        "- orientation,\n",
        "- rotational velocity.\n",
        "\n",
        "If we represent position, velocity, acceleration, and rotational velocity  with respect to the global $x$-$y$-$z$-axes, and we represent orientation using quaternions, then we will be working with a state variable of the form\n",
        "$$\\mathbf x_k = [px_k, py_k, pz_k, vx_k, vy_k, vz_k, ax_k, ay_k, az_k, q0_k, q1_k, q2_k, q3_k, \\omega x_k, \\omega y_k, \\omega z_k]^T.$$\n",
        "Since the sensor will make measurement relative to the local pitch-roll-yaw-axes, we will have measurements of the form $$\\mathbf z_k = \\left[a_{pitch}, a_{roll}, a_{yaw}, \\omega_{pitch}, \\omega_{roll}, \\omega_{yaw}\\right]^T.$$\n",
        "Since our measurements will use a different coordinate system than our state variable, we will probably want to have some internal computation that lets us convert between local and world axes. One way to do this would be to stick to our quaternion guns, but due to numpy's optimization of linear algebra, this matrix can be more efficient:\n",
        "$$\n",
        "\\mathbf R_k = \\begin{bmatrix}\n",
        "1 - 2[(q2_k)^2 + (q3_k)^2] & 2[q_1 (q2_k) - (q0_k) (q3_k)] & 2[(q1_k) (q3_k) + (q0_k) (q2_k)] \\\\\n",
        "2[(q1_k) (q2_k) + (q0_k) (q3_k)] & 1 - 2[(q1_k)^2 + (q3_k)^2] & 2[(q2_k) (q3_k) - (q0_k) (q1_k)] \\\\\n",
        "2[(q1_k) (q3_k) - (q0_k) (q2_k)] & 2[(q2_k) (q3_k) + (q0_k) (q1_k)] & 1 - 2[(q1_k)^2 + (q2_k)^2]\\end{bmatrix}.\n",
        "$$\n",
        "Specifically, this rotation matrix $\\mathbf R_k$ transforms vectors from the IMU frame (pitch-roll-yaw-axes) to the global frame ($x$-$y$-$z$-axes). Now that we have this in our toolbox, let's tackle the design of the filter."
      ]
    },
    {
      "cell_type": "markdown",
      "metadata": {
        "id": "eP7pyhOQO1gB",
        "deepnote_app_block_visible": true,
        "cell_id": "3fbab2f4f95e47fa8f78a48aa44ca7b2",
        "deepnote_cell_type": "markdown"
      },
      "source": [
        "### <u>**Designing x, P: State**</u>"
      ]
    },
    {
      "cell_type": "markdown",
      "metadata": {
        "id": "SUXGMDw3_wqR",
        "deepnote_app_block_visible": true,
        "cell_id": "cabe91c196a44d31b1ee97a26a0815f9",
        "deepnote_cell_type": "markdown"
      },
      "source": [
        "The state of the kalman filter is described by state variable $\\mathbf x$ and the covariance $\\mathbf P$. In this case, $\\mathbf x$ will be the 16x1 vector described above (though we could simplify it to 13x1 by removing linear acceleration). The state covariance $\\mathbf P$ will be a 16x16 (or 13x13) matrix which we have yet to construct."
      ]
    },
    {
      "cell_type": "markdown",
      "metadata": {
        "id": "7ao4JyuO9qpj",
        "deepnote_app_block_visible": true,
        "cell_id": "4c14badd64ea4675bcb01a48d66b9a95",
        "deepnote_cell_type": "markdown"
      },
      "source": [
        "### <u>**Designing F, Q: Process**</u>"
      ]
    },
    {
      "cell_type": "markdown",
      "metadata": {
        "id": "v-ptlkdD4a9Z",
        "deepnote_app_block_visible": true,
        "cell_id": "06081ac7254b4aecbc43b6c02bb67f47",
        "deepnote_cell_type": "markdown"
      },
      "source": [
        "The process of the kalman filter is described by $\\mathbf F$ (the state transition function) and $\\mathbf Q$ (the process covariance). First, let's address $\\mathbf F$. There are a few things we want $\\mathbf F$ to do.\n",
        "\n",
        "1. We want it to update the postion $\\mathbf p = [px_k, py_k, pz_k]^T$ in a way that satisfies\n",
        "$$\\mathbf p_{k+1} = \\mathbf p_k + (\\mathbf v_k)dt,$$ where $\\mathbf v = [vx_k, vy_k, vz_k]^T$, and $dt$ is the time step between measurements.\n",
        "2. We  want it to update the velocity in way that satisfies\n",
        "$$\\mathbf v_{k+1} = \\mathbf v_k + (\\mathbf a_k - g)dt,$$\n",
        "where $\\mathbf a = [ax_k, ay_k, az_k]^T$, and the $-g$ term corrects for gravity.\n",
        "3. We want it to update the orientation in a way that satisfies\n",
        "$$\\mathbf q_{k+1} = \\mathbf q_k+\\frac12dt\\cdot\\mathbf q_k\\otimes\\begin{bmatrix}0 \\\\ \\omega x_k \\\\ \\omega y_k \\\\ \\omega z_k\\end{bmatrix},$$\n",
        "where $\\otimes$ denotes quaternion multiplication.\n",
        "\n",
        "If we represent acceleration in our state vector in a way that already accounts for gravity (meaning we built a measurement function $\\mathbf H$ such that $||\\mathbf a||$ should be zero when the sensor is stationary), then we could have a state transition function like\n",
        "$$\n",
        "\\widehat x_{k+1}^- =\n",
        "f\\left(\\begin{bmatrix}\n",
        "px_k\\\\ py_k\\\\ pz_k\\\\ vx_k\\\\ vy_k\\\\ vz_k\\\\ ax_k\\\\ ay_k\\\\ az_k\\\\ q0_k\\\\ q1_k\\\\ q2_k\\\\ q3_k\\\\ \\omega x_k\\\\ \\omega y_k\\\\ \\omega z_k\n",
        "\\end{bmatrix}\\right) =\n",
        "\\begin{bmatrix}\n",
        "px_k + vx_k \\cdot dt\\\\\n",
        "py_k + vy_k \\cdot dt\\\\\n",
        "pz_k + vz_k \\cdot dt\\\\\n",
        "vx_k + ax_k \\cdot dt\\\\\n",
        "vy_k + ay_k \\cdot dt\\\\\n",
        "vz_k + az_k \\cdot dt\\\\\n",
        "ax_k\\\\\n",
        "ay_k\\\\\n",
        "az_k\\\\\n",
        "\\text{rotation}(q0_k)\\\\\n",
        "\\text{rotation}(q1_k)\\\\\n",
        "\\text{rotation}(q2_k)\\\\\n",
        "\\text{rotation}(q3_k)\\\\\n",
        "\\omega x_k\\\\\n",
        "\\omega y_k\\\\\n",
        "\\omega z_k\\end{bmatrix},\n",
        "$$\n",
        "where $\\text{rotation}(q)$ represents the evolution of the orientation. Therefore, a reasonable state transition matrix might look like\n",
        "$$\n",
        "\\begin{bmatrix}\n",
        "1&0&0&dt&0&0&0&0&0&0&0&0&0&0&0&0\\\\\n",
        "0&1&0&0&dt&0&0&0&0&0&0&0&0&0&0&0\\\\\n",
        "0&0&1&0&0&dt&0&0&0&0&0&0&0&0&0&0\\\\\n",
        "0&0&0&1&0&0&dt&0&0&0&0&0&0&0&0&0\\\\\n",
        "0&0&0&0&1&0&0&dt&0&0&0&0&0&0&0&0\\\\\n",
        "0&0&0&0&0&1&0&0&dt&0&0&0&0&0&0&0\\\\\n",
        "0&0&0&0&0&0&1&0&0&0&0&0&0&0&0&0\\\\\n",
        "0&0&0&0&0&0&0&1&0&0&0&0&0&0&0&0\\\\\n",
        "0&0&0&0&0&0&0&0&1&0&0&0&0&0&0&0\\\\\n",
        "?&?&?&?&?&?&?&?&?&?&?&?&?&?&?&?\\\\\n",
        "?&?&?&?&?&?&?&?&?&?&?&?&?&?&?&?\\\\\n",
        "?&?&?&?&?&?&?&?&?&?&?&?&?&?&?&?\\\\\n",
        "?&?&?&?&?&?&?&?&?&?&?&?&?&?&?&?\\\\\n",
        "0&0&0&0&0&0&0&0&0&0&0&0&0&1&0&0\\\\\n",
        "0&0&0&0&0&0&0&0&0&0&0&0&0&0&1&0\\\\\n",
        "0&0&0&0&0&0&0&0&0&0&0&0&0&0&0&1\\\\\n",
        "\\end{bmatrix}\n",
        "$$\n",
        "where the 10th through 13th rows will represent the quaternion rotation. So how do we set these rows to satisfy our rotation update equation\n",
        "$$\\mathbf q_{k+1} = \\mathbf q_k+\\frac12dt\\cdot\\mathbf q_k\\otimes\\begin{bmatrix}0 \\\\ \\omega_x \\\\ \\omega_y \\\\ \\omega_z\\end{bmatrix}?$$\n",
        "Let's start by expanding our quaternion multiplication term.\n",
        "\n",
        "We know that given two quaternions $q_1 = w_1 + x_1i + y_1j + z_1k$ and $q_2 = w_2 + x_2i + y_2j + z_2k$, their product $q = q_1 \\cdot q_2$ results in a new quaternion that represents the combined rotation of $q_1$ followed by $q_2$. The product $q = q_1 \\otimes q_2$ is calculated using the formula:\n",
        "$$\n",
        "\\begin{align}\n",
        "q=q_1 \\otimes q_2=&\\ \\ \\ \\left(w_1w_2 - x_1x_2 - y_1y_2 - z_1z_2\\right) \\\\\n",
        "&+ \\left(w_1x_2 + x_1w_2 + y_1z_2 - z_1y_2\\right)i \\\\\n",
        "&+ \\left(w_1y_2 - x_1z_2 + y_1w_2 + z_1x_2\\right)j \\\\\n",
        "&+ \\left(w_1z_2 + x_1y_2 - y_1x_2 + z_1w_2\\right)k.\n",
        "\\end{align}\n",
        "$$\n",
        "Substituting\n",
        "$$\n",
        "\\begin{align}\n",
        "\\begin{bmatrix}w_1\\\\x_1\\\\y_1\\\\z_1\\end{bmatrix} &= \\begin{bmatrix}q0_k\\\\q1_k\\\\q2_k\\\\q3_k\\end{bmatrix},\\\\\n",
        "\\begin{bmatrix}w_2\\\\x_2\\\\y_2\\\\z_2\\end{bmatrix} &= \\begin{bmatrix}0 \\\\ \\omega_x \\\\ \\omega_y \\\\ \\omega_z\\end{bmatrix},\n",
        "\\end{align}\n",
        "$$\n",
        "gives\n",
        "$$\n",
        "\\begin{align}\n",
        "q_k\\otimes\\begin{bmatrix}0 \\\\ \\omega_x \\\\ \\omega_y \\\\ \\omega_z\\end{bmatrix} &= \\begin{bmatrix}q0_k \\\\ q1_k \\\\ q2_k \\\\ q3_k\\end{bmatrix}\\begin{bmatrix}0 \\\\ \\omega_x \\\\ \\omega_y \\\\ \\omega_z\\end{bmatrix} \\\\\n",
        "&= \\left((q0_k)(0) - (q1_k)(\\omega x_k) - (q2_k)(\\omega y_k) - (q3_k)(\\omega z_k)\\right) \\\\\n",
        "&\\ \\ \\ \\ + \\left((q0_k)(\\omega x_k) + (q1_k)(0) + (q2_k)(\\omega z_k) - (q3_k)(\\omega y_k)\\right)i \\\\\n",
        "&\\ \\ \\ \\ + \\left((q0_k)(\\omega y_k) - (q1_k)(\\omega z_k) + (q2_k)(0) + (q3_k)(\\omega x_k)\\right)j \\\\\n",
        "&\\ \\ \\ \\ + \\left((q0_k)(\\omega z_k) + (q1_k)(\\omega y_k) - (q2_k)(\\omega x_k) + (q3_k)(0)\\right)k.\n",
        "\\end{align}\n",
        "$$\n",
        "\n",
        "Writing this result in vector form, we see that each component is in the form $[a(q0_k)+b(q1_k)+c(q2_k)+d(q3_k)]$, for some constants $a$, $b$, $c$, and $d$:\n",
        "$$\n",
        "\\begin{bmatrix}\n",
        "(q0_k)(0) &- (q1_k)(\\omega x_k) &- (q2_k)(\\omega y_k) &- (q3_k)(\\omega z_k) \\\\\n",
        "(q0_k)(\\omega x_k) &+ (q1_k)(0) &+ (q2_k)(\\omega z_k) &- (q3_k)(\\omega y_k) \\\\\n",
        "(q0_k)(\\omega y_k) &- (q1_k)(\\omega z_k) &+ (q2_k)(0) &+ (q3_k)(\\omega x_k) \\\\\n",
        "(q0_k)(\\omega z_k) &+ (q1_k)(\\omega y_k) &- (q2_k)(\\omega x_k) &+ (q3_k)(0) \\\\\n",
        "\\end{bmatrix}.\n",
        "$$\n",
        "\n",
        "This is looking quite close to the form we would like for our state transition matrix! We can substite\n",
        "$$\n",
        "q_k\\otimes\\begin{bmatrix}0 \\\\ \\omega_x \\\\ \\omega_y \\\\ \\omega_z\\end{bmatrix} = \\begin{bmatrix}\n",
        "(q0_k)(0) &- (q1_k)(\\omega x_k) &- (q2_k)(\\omega y_k) &- (q3_k)(\\omega z_k) \\\\\n",
        "(q0_k)(\\omega x_k) &+ (q1_k)(0) &+ (q2_k)(\\omega z_k) &- (q3_k)(\\omega y_k) \\\\\n",
        "(q0_k)(\\omega y_k) &- (q1_k)(\\omega z_k) &+ (q2_k)(0) &+ (q3_k)(\\omega x_k) \\\\\n",
        "(q0_k)(\\omega z_k) &+ (q1_k)(\\omega y_k) &- (q2_k)(\\omega x_k) &+ (q3_k)(0) \\\\\n",
        "\\end{bmatrix}\n",
        "$$\n",
        "into our rotation update equation to get\n",
        "$$\n",
        "\\mathbf q_{k+1} = \\mathbf q_k+\\frac12dt\\cdot\\begin{bmatrix}\n",
        "(q0_k)(0) &- (q1_k)(\\omega x_k) &- (q2_k)(\\omega y_k) &- (q3_k)(\\omega z_k) \\\\\n",
        "(q0_k)(\\omega x_k) &+ (q1_k)(0) &+ (q2_k)(\\omega z_k) &- (q3_k)(\\omega y_k) \\\\\n",
        "(q0_k)(\\omega y_k) &- (q1_k)(\\omega z_k) &+ (q2_k)(0) &+ (q3_k)(\\omega x_k) \\\\\n",
        "(q0_k)(\\omega z_k) &+ (q1_k)(\\omega y_k) &- (q2_k)(\\omega x_k) &+ (q3_k)(0) \\\\\n",
        "\\end{bmatrix}.\n",
        "$$\n",
        "\n",
        "Writing the whole right side as one vector gives\n",
        "$$\n",
        "\\mathbf q_{k+1} = \\begin{bmatrix}\n",
        "q0_k + (dt/2)((q0_k)(0) - (q1_k)(\\omega x_k) - (q2_k)(\\omega y_k) - (q3_k)(\\omega z_k)) \\\\\n",
        "q1_k + (dt/2)((q0_k)(\\omega x_k) + (q1_k)(0) + (q2_k)(\\omega z_k) - (q3_k)(\\omega y_k)) \\\\\n",
        "q2_k + (dt/2)((q0_k)(\\omega y_k) - (q1_k)(\\omega z_k) + (q2_k)(0) + (q3_k)(\\omega x_k)) \\\\\n",
        "q3_k + (dt/2)((q0_k)(\\omega z_k) + (q1_k)(\\omega y_k) - (q2_k)(\\omega x_k) + (q3_k)(0)) \\\\\n",
        "\\end{bmatrix}.\n",
        "$$\n",
        "\n",
        "Each component is still in the form $[a(q0_k)+b(q1_k)+c(q2_k)+d(q3_k)]$, yay! That means we can now write\n",
        "$$\n",
        "\\widehat x_{k+1}^- = \\begin{bmatrix}\n",
        "1&0&0&dt&0&0&0&0&0&0&0&0&0&0&0&0\\\\\n",
        "0&1&0&0&dt&0&0&0&0&0&0&0&0&0&0&0\\\\\n",
        "0&0&1&0&0&dt&0&0&0&0&0&0&0&0&0&0\\\\\n",
        "0&0&0&1&0&0&dt&0&0&0&0&0&0&0&0&0\\\\\n",
        "0&0&0&0&1&0&0&dt&0&0&0&0&0&0&0&0\\\\\n",
        "0&0&0&0&0&1&0&0&dt&0&0&0&0&0&0&0\\\\\n",
        "0&0&0&0&0&0&1&0&0&0&0&0&0&0&0&0\\\\\n",
        "0&0&0&0&0&0&0&1&0&0&0&0&0&0&0&0\\\\\n",
        "0&0&0&0&0&0&0&0&1&0&0&0&0&0&0&0\\\\\n",
        "0&0&0&0&0&0&0&0&0&1&-(dt\\cdot\\omega x_k)/2&-(dt\\cdot\\omega y_k)/2&-(dt\\cdot\\omega z_k)/2&0&0&0\\\\\n",
        "0&0&0&0&0&0&0&0&0&(dt\\cdot\\omega x_k)/2&1&(dt\\cdot\\omega z_k)/2&-(dt\\cdot\\omega y_k)/2&0&0&0\\\\\n",
        "0&0&0&0&0&0&0&0&0&(dt\\cdot\\omega y_k)/2&-(dt\\cdot\\omega z_k)/2&1&(dt\\cdot\\omega x_k)/2&0&0&0\\\\\n",
        "0&0&0&0&0&0&0&0&0&(dt\\cdot\\omega z_k)/2&(dt\\cdot\\omega y_k)/2&-(dt\\cdot\\omega x_k)/2&1&0&0&0\\\\\n",
        "0&0&0&0&0&0&0&0&0&0&0&0&0&1&0&0\\\\\n",
        "0&0&0&0&0&0&0&0&0&0&0&0&0&0&1&0\\\\\n",
        "0&0&0&0&0&0&0&0&0&0&0&0&0&0&0&1\\\\\n",
        "\\end{bmatrix}\n",
        "\\begin{bmatrix}\n",
        "px_k\\\\ py_k\\\\ pz_k\\\\ vx_k\\\\ vy_k\\\\ vz_k\\\\ ax_k\\\\ ay_k\\\\ az_k\\\\ q0_k\\\\ q1_k\\\\ q2_k\\\\ q3_k\\\\ \\omega x_k\\\\ \\omega y_k\\\\ \\omega z_k\n",
        "\\end{bmatrix}.\n",
        "$$\n",
        "\n",
        "*Notes:*\n",
        "- *We were able to write lines 10-13 of this matrix using our  observation that each component of $\\mathbf q_{k+1}$ was of the form $[a(q0_k)+b(q1_k)+c(q2_k)+d(q3_k)]$, but we could have also found the form of the $\\zeta^\\text{th}$ component to be $[q\\zeta_k + a(\\omega x_k)+b(\\omega y_k)+c(\\omega z_k)]$. This second form will let us write a second, equavalent matrix to help double check we have placed our values correctly.*\n",
        "- *This state transition matrix assumes acceleration at time $t_{k+1}$ will approximately equal acceleration at time $t_k$, which is not necessarily true during jerky events such as heel strike.*"
      ]
    },
    {
      "cell_type": "markdown",
      "metadata": {
        "id": "OitqZll9E--T",
        "deepnote_app_block_visible": true,
        "cell_id": "63325a83713c449fac90a0e83eaed2c4",
        "deepnote_cell_type": "markdown"
      },
      "source": [
        "### <u>**Designing z, R: Measurement**</u>\n",
        "\n",
        "The kalman filter's measurment is described by the measurement mean $\\mathbf z$ (the 6x1 vector described above), and the noise covariance $\\mathbf R$ (a 6x6 matrix which we have yet to calculate)."
      ]
    },
    {
      "cell_type": "markdown",
      "metadata": {
        "id": "U-bwaxe1kTiV",
        "deepnote_app_block_visible": true,
        "cell_id": "d40383792eb34c6c94388d7f737c4ad5",
        "deepnote_cell_type": "markdown"
      },
      "source": [
        "- this"
      ]
    },
    {
      "cell_type": "markdown",
      "metadata": {
        "id": "O2kR_tGiYFl-",
        "deepnote_app_block_visible": true,
        "cell_id": "99b37604d9394d4e8371c66aa0d0f4fc",
        "deepnote_cell_type": "markdown"
      },
      "source": [
        "### <u>**Designing H: Measurement Function**</u>\n",
        "\n",
        "Our given forms of $\\mathbf x_k$ and $\\mathbf z_k$ mean we'll have some 6x16 measurement function $\\mathbf H$ such that\n",
        "$$\\mathbf y = \\mathbf z_k - \\left(\\mathbf H \\mathbf\\cdot\\mathbf x_k\\right).$$\n",
        "Let's expand the right-hand side of this equation to visualize how we might calculate the correct $\\mathbf H$ matrix here:\n",
        "$$\n",
        "\\begin{bmatrix}a_{pitch}\\\\ a_{roll}\\\\ a_{yaw}\\\\ \\omega_{pitch}\\\\ \\omega_{roll}\\\\ \\omega_{yaw}\\end{bmatrix}\n",
        "-\\begin{bmatrix}?&?&?&?&?&?&?&?&?&?&?&?&?&?&?&?\\\\\n",
        "?&?&?&?&?&?&?&?&?&?&?&?&?&?&?&?\\\\\n",
        "?&?&?&?&?&?&?&?&?&?&?&?&?&?&?&?\\\\\n",
        "?&?&?&?&?&?&?&?&?&?&?&?&?&?&?&?\\\\\n",
        "?&?&?&?&?&?&?&?&?&?&?&?&?&?&?&?\\\\\n",
        "?&?&?&?&?&?&?&?&?&?&?&?&?&?&?&?\\end{bmatrix}\n",
        "\\begin{bmatrix}\n",
        "px_k\\\\ py_k\\\\ pz_k\\\\ vx_k\\\\ vy_k\\\\ vz_k\\\\ ax_k\\\\ ay_k\\\\ az_k\\\\ q0_k\\\\ q1_k\\\\ q2_k\\\\ q3_k\\\\ \\omega x_k\\\\ \\omega y_k\\\\ \\omega z_k\n",
        "\\end{bmatrix}\n",
        "$$\n",
        "We see that the first three rows will be dotted with $\\mathbf x_k$ to get the local acceleration, and the next three rows will be dotted with $\\mathbf x_k$ to get the local rotational velocity.\n",
        "\n",
        "This looks like a job for $\\mathbf R_k$:\n",
        "$$\n",
        "\\mathbf R_k = \\begin{bmatrix}\n",
        "1 - 2[(q2_k)^2 + (q3_k)^2] & 2[q_1 (q2_k) - (q0_k) (q3_k)] & 2[(q1_k) (q3_k) + (q0_k) (q2_k)] \\\\\n",
        "2[(q1_k) (q2_k) + (q0_k) (q3_k)] & 1 - 2[(q1_k)^2 + (q3_k)^2] & 2[(q2_k) (q3_k) - (q0_k) (q1_k)] \\\\\n",
        "2[(q1_k) (q3_k) - (q0_k) (q2_k)] & 2[(q2_k) (q3_k) + (q0_k) (q1_k)] & 1 - 2[(q1_k)^2 + (q2_k)^2]\\end{bmatrix}.\n",
        "$$\n",
        "\n",
        "Let's start by trying to find the first three rows of this matrix.\n",
        "\n",
        "We want the first row of $\\mathbf H$ to be a vector $\\overrightarrow{\\mathbf r_1}$ that satisfies\n",
        "$$\\overrightarrow{\\mathbf r_1}\\cdot\\mathbf x_x = a_{pitch}.$$\n",
        "In order to calculate $a_{pitch}$ from our $\\mathbf x_k$, we need to convert between the local axes and the world axes. More generally, we would like to convert the world frame acceleration\n",
        "$$\\mathbf a_\\text{world} = \\begin{bmatrix}a_x \\\\ a_y \\\\ a_z\\end{bmatrix}$$\n",
        "into the local frame acceleration\n",
        "$$\\mathbf a_\\text{local} = \\begin{bmatrix}a_{pitch} \\\\ a_{roll} \\\\ a_{yaw}\\end{bmatrix}.$$\n",
        "Since $\\mathbf R_k$ is an orthogonal matrix, we know that the its inverse is $\\mathbf R_k^T$, so we can use the transpose $\\mathbf R_k^T$ to convert from the world frame to the local frame.\n",
        "This tells us that\n",
        "$$a_\\text{local} = \\mathbf R^T \\cdot \\mathbf a_\\text{world}.$$\n",
        "Similarly,\n",
        "$$\\omega_\\text{local} = \\mathbf R^T \\cdot \\omega_\\text{world}.$$\n",
        "\n",
        "This implies a good matrix (before accounting for gravity) could be\n",
        "$$\n",
        "\\begin{align}\n",
        "\\begin{bmatrix}\n",
        "0&0&0&0&0&0&(1 - 2[(q2_k)^2 + (q3_k)^2])&(2[(q1_k) (q2_k) + (q0_k) (q3_k)])&(2[(q1_k) (q3_k) - (q0_k) (q2_k)])&0&0&0&0&0&0&0\\\\\n",
        "0&0&0&0&0&0&(2[q_1 (q2_k) - (q0_k) (q3_k)])&(1 - 2[(q1_k)^2 + (q3_k)^2])&(2[(q2_k) (q3_k) + (q0_k) (q1_k)])&0&0&0&0&0&0&0\\\\\n",
        "0&0&0&0&0&0&(2[(q1_k) (q3_k) + (q0_k) (q2_k)])&(2[(q2_k) (q3_k) - (q0_k) (q1_k)])&(1 - 2[(q1_k)^2 + (q2_k)^2])&0&0&0&0&0&0&0\\\\\n",
        "0&0&0&0&0&0&0&0&0&0&0&0&0&(1 - 2[(q2_k)^2 + (q3_k)^2])&(2[(q1_k) (q2_k) + (q0_k) (q3_k)])&(2[(q1_k) (q3_k) - (q0_k) (q2_k)])\\\\\n",
        "0&0&0&0&0&0&0&0&0&0&0&0&0&(2[q_1 (q2_k) - (q0_k) (q3_k)])&(1 - 2[(q1_k)^2 + (q3_k)^2])&(2[(q2_k) (q3_k) + (q0_k) (q1_k)])\\\\\n",
        "0&0&0&0&0&0&0&0&0&0&0&0&0&(2[(q1_k) (q3_k) + (q0_k) (q2_k)])&(2[(q2_k) (q3_k) - (q0_k) (q1_k)])&(1 - 2[(q1_k)^2 + (q2_k)^2])\n",
        "\\end{bmatrix}.\n",
        "\\end{align}\n",
        "$$\n",
        "If we write $\\mathbf R_k$ as\n",
        "$$\n",
        "\\mathbf R_k =\n",
        "\\begin{bmatrix}\n",
        "r_1&r_2&r_3\\\\r_4&r_5&r_6\\\\r_7&r_8&r_9\n",
        "\\end{bmatrix},\n",
        "$$\n",
        "then this is more easily visualized as\n",
        "$$\n",
        "\\mathbf H =\n",
        "\\begin{bmatrix}\n",
        "0&0&0&0&0&0&r_1&r_2&r_3&0&0&0&0&0&0&0\\\\\n",
        "0&0&0&0&0&0&r_4&r_5&r_6&0&0&0&0&0&0&0\\\\\n",
        "0&0&0&0&0&0&r_7&r_8&r_9&0&0&0&0&0&0&0\\\\\n",
        "0&0&0&0&0&0&0&0&0&0&0&0&0&r_1&r_2&r_3\\\\\n",
        "0&0&0&0&0&0&0&0&0&0&0&0&0&r_4&r_5&r_6\\\\\n",
        "0&0&0&0&0&0&0&0&0&0&0&0&0&r_7&r_8&r_9\\\\\n",
        "\\end{bmatrix}.\n",
        "$$\n",
        "\n",
        "However, we designed $\\mathbf A$ with the assumption that we would account for gravity (build a measurement function $\\mathbf H$ such that $||\\mathbf a||$ should be zero when the sensor is stationary), so we've still got some work to do.\n",
        "\n",
        "*To do: account for gravity*\n",
        "\n",
        "\n"
      ]
    },
    {
      "cell_type": "markdown",
      "source": [
        "#### Separating Gravity from World Frame Acceleration\n",
        "\n"
      ],
      "metadata": {
        "id": "dKjvoG8LA9U1"
      }
    },
    {
      "cell_type": "markdown",
      "metadata": {
        "id": "dRzXgij8s18X",
        "deepnote_app_block_visible": true,
        "cell_id": "dd2a4c8a397d441098864b13bc6df383",
        "deepnote_cell_type": "markdown"
      },
      "source": [
        "### <u>Putting This Into Code</u>"
      ]
    },
    {
      "cell_type": "code",
      "metadata": {
        "id": "9DmWfmcFpz4g",
        "deepnote_app_block_visible": true,
        "deepnote_app_is_code_hidden": true,
        "cell_id": "5e28cde8af9246e0af806a837034ab0a",
        "deepnote_cell_type": "code"
      },
      "source": [
        "def quaternion_to_rotation_matrix(q):\n",
        "    \"\"\"\n",
        "    Convert a quaternion into a rotation matrix.\n",
        "\n",
        "    Parameters:\n",
        "    q (list or np.array): A quaternion [q0, q1, q2, q3] where q0 is the scalar\n",
        "    part.\n",
        "\n",
        "    Returns:\n",
        "    np.array: A 3x3 rotation matrix.\n",
        "    \"\"\"\n",
        "    q0, q1, q2, q3 = q\n",
        "    R = np.array([\n",
        "        [1 - 2*(q2**2 + q3**2), 2*(q1*q2 - q0*q3), 2*(q1*q3 + q0*q2)],\n",
        "        [2*(q1*q2 + q0*q3), 1 - 2*(q1**2 + q3**2), 2*(q2*q3 - q0*q1)],\n",
        "        [2*(q1*q3 - q0*q2), 2*(q2*q3 + q0*q1), 1 - 2*(q1**2 + q2**2)]\n",
        "    ])\n",
        "    return R"
      ],
      "execution_count": null,
      "outputs": []
    },
    {
      "cell_type": "markdown",
      "metadata": {
        "id": "eqD3f1yw3eqy",
        "deepnote_app_block_visible": true,
        "cell_id": "eed19b91dd7a46c1a87023ab0d7907ad",
        "deepnote_cell_type": "markdown"
      },
      "source": [
        "## A03_SSWS_01 Data Example"
      ]
    },
    {
      "cell_type": "markdown",
      "metadata": {
        "id": "5zEiPplhEjSR",
        "deepnote_app_block_visible": true,
        "cell_id": "01e1f1e352e34b3c90e8ccaef61d9bee",
        "deepnote_cell_type": "markdown"
      },
      "source": [
        "Object for storing the data"
      ]
    },
    {
      "cell_type": "code",
      "metadata": {
        "id": "jwH3VpXOEmmT",
        "colab": {
          "base_uri": "https://localhost:8080/"
        },
        "outputId": "3350200e-f697-4e37-8011-9966a331a246",
        "deepnote_app_block_visible": true,
        "deepnote_app_is_code_hidden": true,
        "cell_id": "05670862fc0b4287b1dbba7d8ad979d7",
        "deepnote_cell_type": "code"
      },
      "source": [
        "class ImuData:\n",
        "    def __init__(self, name, df, sensor_num):\n",
        "        self.name = name\n",
        "        self.indices = [row for row in df.index] # list of analog labels\n",
        "\n",
        "        self.start_row_index = self.indices.index(\n",
        "            'DelsysTrignoBase 1: Sensor '+str(sensor_num)+'IM ACC Pitch')\n",
        "\n",
        "        self.all_data = df.iloc[self.start_row_index : self.start_row_index+6]\n",
        "\n",
        "        self.acc_data = self.all_data.iloc[0:3]\n",
        "\n",
        "        sqrt_acc = np.square(self.acc_data)\n",
        "        net_acc_sq = sqrt_acc.apply(np.sum, axis=0, raw=True)\n",
        "        self.net_acc = np.sqrt(net_acc_sq) # net acc for each frame\n",
        "\n",
        "        self.gyr_data = self.all_data.iloc[3:7]\n",
        "\n",
        "        self.frames = len(self.gyr_data.columns)\n",
        "\n",
        "    def __str__(self):\n",
        "        return f\"ImuData object.\\nname:  '{self.name}'\\nframes: {self.frames}\"\n",
        "\n",
        "imuexample = ImuData('Left Lower Shank A03 ssws 01', trial_df, 4)\n",
        "print(imuexample)\n",
        "imuexample.start_row_index"
      ],
      "execution_count": null,
      "outputs": [
        {
          "output_type": "stream",
          "name": "stdout",
          "text": "ImuData object.\nname:  'Left Lower Shank A03 ssws 01'\nframes: 11716\n"
        },
        {
          "output_type": "execute_result",
          "data": {
            "text/plain": "62"
          },
          "metadata": {},
          "execution_count": 14
        }
      ]
    },
    {
      "cell_type": "markdown",
      "metadata": {
        "id": "qiImws5-FNOp",
        "deepnote_app_block_visible": true,
        "cell_id": "6f30d868f60e4e0187c07ea7088fb2d0",
        "deepnote_cell_type": "markdown"
      },
      "source": [
        "and initialize an instance of the object with the left lower shank IMU, then plot net acc"
      ]
    },
    {
      "cell_type": "code",
      "metadata": {
        "id": "L92DhfkYFUSy",
        "deepnote_app_block_visible": true,
        "deepnote_app_is_code_hidden": true,
        "cell_id": "25a5fc152c694e9087f1644ccc7eb6bc",
        "deepnote_cell_type": "code"
      },
      "source": [
        "lstrikes = [5016, 6286, 7475, 8615]\n",
        "ltoeoffs = [5800, 7006, 8232]\n",
        "rstrikes = [5697, 6867, 8036]\n",
        "fig = plt.figure(figsize=(10, 4))\n",
        "ax = fig.add_subplot(111)\n",
        "ax.set_title(f'{imuexample.name} Acceleration')\n",
        "ax.set_xlabel('time (milliseconds)')\n",
        "ax.set_ylabel('acceleration (m/s^2)')\n",
        "ax.plot(imuexample.net_acc*9.80665)\n",
        "for i, strike in enumerate(lstrikes):\n",
        "    ax.axvline(x=strike, color='brown', linestyle='--', linewidth=0.5, label='left heel strike' if i == 0 else '')\n",
        "for i, to in enumerate(ltoeoffs):\n",
        "    ax.axvline(x=to, color='black', linestyle='--', linewidth=0.5, label='left toe off' if i == 0 else '')\n",
        "for i, strike in enumerate(rstrikes):\n",
        "    ax.axvline(x=strike, color='grey', linestyle='--', linewidth=0.5, label='right heel strike' if i == 0 else '')\n",
        "for i in range(3):\n",
        "    ax.axvspan(lstrikes[i], ltoeoffs[i], color='lightgrey', alpha=0.5, label='stance phase' if i==0 else '')\n",
        "ax.axhline(y=9.80665, color='green', linestyle='--', label='gravity')\n",
        "ax.legend()\n",
        "plt.show()"
      ],
      "execution_count": null,
      "outputs": []
    },
    {
      "cell_type": "markdown",
      "metadata": {
        "id": "itc7bWBYnRKx",
        "deepnote_app_block_visible": true,
        "cell_id": "c854f473bddb4192bdf9190a1fcf9c0d",
        "deepnote_cell_type": "markdown"
      },
      "source": [
        "Using ```KalmanFilter``` to set up a filter."
      ]
    },
    {
      "cell_type": "code",
      "metadata": {
        "id": "jInHHhmyWsJS",
        "colab": {
          "height": 615,
          "base_uri": "https://localhost:8080/",
          "referenced_widgets": [
            "a778984871ad41e3aa895e80e93681fc",
            "796c8f3103b547a08cc92d02f3b72ad0",
            "9ab4a6a3fccf4ba0b12579775688f287",
            "da0683f4949f438b972bc0e6729f6adb",
            "5bca8ce7401e4d82866c8fae854b4cfc",
            "dbc5ed0ec16c4af99e429b924020ac36",
            "4ffd9bf6f681459ea21e0bdb1da4b04c",
            "e5c1f0e845154f74aadea1765c020f20",
            "3034d869e6e148a59fe3a849ccb7591f",
            "332d9024b8a44e2b8ce19f3fcd97b346",
            "cbfa4cb1d8724741959f3d81605250c2",
            "5228042df1a74360bdd09788ec19bd0e",
            "57b491e0e6f5482e864d596b57a958ec",
            "e016da905b3a4c1cba20a301bf859649",
            "c407d100614c4f2c8a2c409a98050b24",
            "fa75ee4896ee4315a3fee0e8b7224302"
          ]
        },
        "outputId": "e4ce4fff-8d8a-49b1-d6c0-f75651e34cf4",
        "deepnote_app_block_visible": true,
        "deepnote_app_is_code_hidden": true,
        "cell_id": "43a524df6de545e2bfa2a6a1dff77781",
        "deepnote_cell_type": "code"
      },
      "source": [
        "accdata = np.array(imuexample.net_acc*9.80665)\n",
        "\n",
        "def plot_filter(myQ, myP, myU, myR):\n",
        "    filtereddata = []\n",
        "    P=myP\n",
        "\n",
        "    for z in accdata:\n",
        "        x, P = kf.predict(x=10., P=P, u=myU, Q=myQ)\n",
        "        x, P = kf.update(x=x, P=P, z=z, R=myR)\n",
        "        filtereddata.append(x)\n",
        "\n",
        "    fig = plt.figure(figsize=(13, 5))\n",
        "    ax = fig.add_subplot(111)\n",
        "    ax.set_title(f'{imuexample.name} Acceleration')\n",
        "    ax.set_xlabel('time (milliseconds)')\n",
        "    ax.set_ylabel('acceleration (m/s^2)')\n",
        "    ax.plot(imuexample.net_acc*9.80665, label = 'raw', color='black',\n",
        "            linewidth=0.8)\n",
        "    ax.plot(filtereddata, label = 'filtered', linewidth=0.8)\n",
        "    for i, strike in enumerate(lstrikes):\n",
        "        ax.axvline(x=strike, color='brown', linestyle='--', linewidth=0.5,\n",
        "                   label='left heel strike' if i == 0 else '')\n",
        "    for i, to in enumerate(ltoeoffs):\n",
        "        ax.axvline(x=to, color='black', linestyle='--', linewidth=0.5,\n",
        "                   label='left toe off' if i == 0 else '')\n",
        "    for i, strike in enumerate(rstrikes):\n",
        "        ax.axvline(x=strike, color='grey', linestyle='--', linewidth=0.5,\n",
        "                   label='right heel strike' if i == 0 else '')\n",
        "    for i in range(3):\n",
        "        ax.axvspan(lstrikes[i], ltoeoffs[i], color='lightgrey', alpha=0.5,\n",
        "                   label='stance phase' if i==0 else '')\n",
        "    ax.axhline(y=9.80665, color='green', linestyle='--', label='gravity')\n",
        "    ax.legend()\n",
        "    plt.show()\n",
        "\n",
        "Q_slider = FloatSlider(\n",
        "    value=2.**2, min=0., max=50., step=0.01, description=\"Q\")\n",
        "P_slider = FloatSlider(\n",
        "    value=3., min=0.01, max=50.0, step=0.01, description=\"P\")\n",
        "u_slider = FloatSlider(\n",
        "    value=1., min=0., max=50.0, step=0.01, description=\"u\")\n",
        "R_slider = FloatSlider(\n",
        "    value=3.5**2, min=0., max=50.0, step=0.1, description=\"R\")\n",
        "\n",
        "interact(plot_filter, myQ=Q_slider, myP=P_slider, myU=u_slider, myR=R_slider);"
      ],
      "execution_count": null,
      "outputs": [
        {
          "output_type": "display_data",
          "data": {
            "text/plain": "interactive(children=(FloatSlider(value=4.0, description='Q', max=50.0, step=0.01), FloatSlider(value=3.0, des…",
            "application/vnd.jupyter.widget-view+json": {
              "version_major": 2,
              "version_minor": 0,
              "model_id": "a778984871ad41e3aa895e80e93681fc"
            }
          },
          "metadata": {}
        }
      ]
    },
    {
      "cell_type": "markdown",
      "metadata": {
        "id": "EAHHxonSw550",
        "deepnote_app_block_visible": true,
        "cell_id": "ec25b92a222249508f825e147fd5f521",
        "deepnote_cell_type": "markdown"
      },
      "source": [
        "# References"
      ]
    },
    {
      "cell_type": "markdown",
      "metadata": {
        "id": "-ah8DbvTw5NQ",
        "deepnote_app_block_visible": true,
        "cell_id": "dc7044d11db64b7995972baf83eca413",
        "deepnote_cell_type": "markdown"
      },
      "source": [
        "1. [Kalman and Baysian Filters in Python](https://github.com/rlabbe/Kalman-and-Bayesian-Filters-in-Python) - Roger Labbe\n",
        "2. \"[Visualizing quaternions (4d numbers) with stereographic projection](https://www.youtube.com/watch?v=d4EgbgTm0Bg)\", \"[Visualizing quaternions (4d numbers) with stereographic projection](https://www.youtube.com/watch?v=zjMuIxRvygQ)\", \"[Visualizing Quaternions](https://eater.net/quaternions)\" - Ben Eater and Grant Sanderson\n",
        "3. [kalmanfilter.net](https://www.kalmanfilter.net/background.html) - Alex Becker"
      ]
    },
    {
      "cell_type": "markdown",
      "metadata": {
        "id": "-rL8nhBrhyqe",
        "deepnote_app_block_visible": true,
        "cell_id": "e0dd1781afaf4ae8bd71345d4d440373",
        "deepnote_cell_type": "markdown"
      },
      "source": [
        "### Extra Bad Code"
      ]
    },
    {
      "cell_type": "markdown",
      "metadata": {
        "id": "oRTP7xdGsxub",
        "deepnote_app_block_visible": true,
        "cell_id": "6b0438b4c5854a69ad81b274508a0f51",
        "deepnote_cell_type": "markdown"
      },
      "source": [
        "This tells us that\n",
        "$$a_\\text{local} = \\frac{d\\left(\\mathbf R_k^T\\cdot v_\\text{world}\\right)}{dt}.$$\n",
        "Since the the dot product of $a_\\text{local}$ with our component vector $\\widehat{\\mathbf i}$ is\n",
        "$$a_\\text{local}\\cdot\\widehat{\\mathbf i} = a_\\text{local}\\cdot\\begin{bmatrix}1\\\\0\\\\0\\end{bmatrix} = a_{pitch},$$\n",
        "we have\n",
        "$$\\left(\\frac{d\\left(\\mathbf R_k^T\\cdot v_\\text{world}\\right)}{dt}\\right)\\widehat{\\mathbf i} = a_{pitch}.$$\n",
        "Substituting this into $\\overrightarrow{\\mathbf r_1}\\cdot\\mathbf x_x = a_{pitch},$ we know that the first row of $\\mathbf H$ must be a vector $\\overrightarrow{\\mathbf r_1}$ that satisfies\n",
        "$$\\overrightarrow{\\mathbf r_1}\\cdot\\mathbf x_x = \\left(\\frac{d\\left(\\mathbf R_k^T\\cdot v_\\text{world}\\right)}{dt}\\right)\\widehat{\\mathbf i}.$$\n",
        "By the same logic, the second and third rows of $\\mathbf H$ should satisfy\n",
        "\\begin{align}\n",
        "\\overrightarrow{\\mathbf r_2}\\cdot\\mathbf x_x &= \\left(\\frac{d\\left(\\mathbf R_k^T\\cdot v_\\text{world}\\right)}{dt}\\right)\\widehat{\\mathbf j}, \\\\\n",
        "\\overrightarrow{\\mathbf r_3}\\cdot\\mathbf x_x &= \\left(\\frac{d\\left(\\mathbf R_k^T\\cdot v_\\text{world}\\right)}{dt}\\right)\\widehat{\\mathbf k}.\n",
        "\\end{align}\n",
        "Maybe this can be solved numerically by the computer? I think maybe, but for now let's take a look at the next three rows.\n",
        "\n",
        "We want the fourth row of $\\mathbf H$ to be a vector $\\overrightarrow{\\mathbf r_4}$ that satisfies\n",
        "$$\\overrightarrow{\\mathbf r_4}\\cdot\\mathbf x_x = \\omega_{pitch}.$$\n",
        "Similarly to before, we would like to convert the world frame rotational velocity\n",
        "$$\\omega_\\text{world} = \\begin{bmatrix}\\omega_x \\\\ \\omega_y \\\\ \\omega_z\\end{bmatrix}$$\n",
        "into to the velocity in the local frame velocity\n",
        "$$\\omega_\\text{local} = \\begin{bmatrix}\\omega_{pitch} \\\\ \\omega_{roll} \\\\ \\omega_{yaw}\\end{bmatrix},$$\n",
        "using\n",
        "$$\\mathbf R_k^T\\cdot\\omega_\\text{world} =\\omega_\\text{local}.$$\n",
        "Since $\\omega_\\text{local}\\cdot\\widehat{\\mathbf i} = \\omega_{pitch}$, multiplying both sides by $\\widehat{\\mathbf i}$ gives\n",
        "$$\\left(\\mathbf R_k^T\\cdot\\omega_\\text{world}\\right)\\widehat{\\mathbf i} = \\omega_\\text{local}\\cdot\\widehat{\\mathbf i} = \\omega_{pitch},$$ so we have\n",
        "$$\\overrightarrow{\\mathbf r_4}\\cdot\\mathbf x_x = \\left(\\mathbf R_k^T\\cdot\\omega_\\text{world}\\right)\\widehat{\\mathbf i}.$$\n",
        "Also by the same logic, the 5th and 6th rows of $\\mathbf H$ should satisfy\n",
        "\\begin{align}\n",
        "\\overrightarrow{\\mathbf r_5}\\cdot\\mathbf x_x &= \\left(\\mathbf R_k^T\\cdot\\omega_\\text{world}\\right)\\widehat{\\mathbf j}, \\\\\n",
        "\\overrightarrow{\\mathbf r_6}\\cdot\\mathbf x_x &= \\left(\\mathbf R_k^T\\cdot\\omega_\\text{world}\\right)\\widehat{\\mathbf k}.\n",
        "\\end{align}\n",
        "\n",
        "**Summary of 'Finding H: Measurement Function'**\n",
        "\n",
        "$\\mathbf H$ should have rows $\\overrightarrow{\\mathbf r_1}, \\overrightarrow{\\mathbf r_2}, \\overrightarrow{\\mathbf r_3}, \\overrightarrow{\\mathbf r_4}, \\overrightarrow{\\mathbf r_5}, \\overrightarrow{\\mathbf r_6}$ which satisfy\n",
        "\\begin{align}\n",
        "\\overrightarrow{\\mathbf r_1}\\cdot\\mathbf x_x &= \\left(\\frac{d\\left(\\mathbf R_k^T\\cdot v_\\text{world}\\right)}{dt}\\right)\\widehat{\\mathbf i}, \\\\\n",
        "\\overrightarrow{\\mathbf r_2}\\cdot\\mathbf x_x &= \\left(\\frac{d\\left(\\mathbf R_k^T\\cdot v_\\text{world}\\right)}{dt}\\right)\\widehat{\\mathbf j}, \\\\\n",
        "\\overrightarrow{\\mathbf r_3}\\cdot\\mathbf x_x &= \\left(\\frac{d\\left(\\mathbf R_k^T\\cdot v_\\text{world}\\right)}{dt}\\right)\\widehat{\\mathbf k}, \\\\\n",
        "\\overrightarrow{\\mathbf r_4}\\cdot\\mathbf x_x &= \\left(\\mathbf R_k^T\\cdot\\omega_\\text{world}\\right)\\widehat{\\mathbf i}, \\\\\n",
        "\\overrightarrow{\\mathbf r_5}\\cdot\\mathbf x_x &= \\left(\\mathbf R_k^T\\cdot\\omega_\\text{world}\\right)\\widehat{\\mathbf j}, \\\\\n",
        "\\overrightarrow{\\mathbf r_6}\\cdot\\mathbf x_x &= \\left(\\mathbf R_k^T\\cdot\\omega_\\text{world}\\right)\\widehat{\\mathbf k}.\n",
        "\\end{align}"
      ]
    },
    {
      "cell_type": "markdown",
      "metadata": {
        "id": "2xx2s907h1jG",
        "deepnote_app_block_visible": true,
        "cell_id": "852514a5dec943b78ce7b88787651ea8",
        "deepnote_cell_type": "markdown"
      },
      "source": [
        "$$\\mathbf H = \\begin{bmatrix}\\cdot&\\cdot&\\cdot&\\cdot&\\cdot&\\cdot&\\cdot&\\cdot&\\cdot&\\cdot&\\cdot&\\cdot&\\cdot \\\\ \\cdot&\\cdot&\\cdot&\\cdot&\\cdot&\\cdot&\\cdot&\\cdot&\\cdot&\\cdot&\\cdot&\\cdot&\\cdot \\\\ \\cdot&\\cdot&\\cdot&\\cdot&\\cdot&\\cdot&\\cdot&\\cdot&\\cdot&\\cdot&\\cdot&\\cdot&\\cdot \\\\ \\cdot&\\cdot&\\cdot&\\cdot&\\cdot&\\cdot&\\cdot&\\cdot&\\cdot&\\cdot&\\cdot&\\cdot&\\cdot \\\\ \\cdot&\\cdot&\\cdot&\\cdot&\\cdot&\\cdot&\\cdot&\\cdot&\\cdot&\\cdot&\\cdot&\\cdot&\\cdot \\\\ \\cdot&\\cdot&\\cdot&\\cdot&\\cdot&\\cdot&\\cdot&\\cdot&\\cdot&\\cdot&\\cdot&\\cdot&\\cdot\\end{bmatrix},$$\n",
        "such that\n",
        "$$\\text{the residual} = \\begin{bmatrix}\\text{acc}_\\text{pitch} \\\\ \\text{acc}_{roll} \\\\ \\text{acc}_{yaw} \\\\ \\omega_\\text{pitch} \\\\ \\omega_{roll} \\\\ \\omega_{yaw}\\end{bmatrix} - \\left(\\begin{bmatrix}\\cdot&\\cdot&\\cdot&\\cdot&\\cdot&\\cdot&\\cdot&\\cdot&\\cdot&\\cdot&\\cdot&\\cdot&\\cdot \\\\ \\cdot&\\cdot&\\cdot&\\cdot&\\cdot&\\cdot&\\cdot&\\cdot&\\cdot&\\cdot&\\cdot&\\cdot&\\cdot \\\\ \\cdot&\\cdot&\\cdot&\\cdot&\\cdot&\\cdot&\\cdot&\\cdot&\\cdot&\\cdot&\\cdot&\\cdot&\\cdot \\\\ \\cdot&\\cdot&\\cdot&\\cdot&\\cdot&\\cdot&\\cdot&\\cdot&\\cdot&\\cdot&\\cdot&\\cdot&\\cdot \\\\ \\cdot&\\cdot&\\cdot&\\cdot&\\cdot&\\cdot&\\cdot&\\cdot&\\cdot&\\cdot&\\cdot&\\cdot&\\cdot \\\\ \\cdot&\\cdot&\\cdot&\\cdot&\\cdot&\\cdot&\\cdot&\\cdot&\\cdot&\\cdot&\\cdot&\\cdot&\\cdot\\end{bmatrix}\\begin{bmatrix}p_x \\\\ p_y \\\\ p_z \\\\ v_x \\\\ v_y \\\\ v_z \\\\ q_0 \\\\ q_1 \\\\ q_2 \\\\ q_3 \\\\ \\omega_x \\\\ \\omega_y \\\\ \\omega_z\\end{bmatrix}\\right),$$\n",
        "or, more succinctly,\n",
        "$$\\mathbf y = \\mathbf z_k - \\left(\\begin{bmatrix}\\cdot&\\cdot&\\cdot&\\cdot&\\cdot&\\cdot&\\cdot&\\cdot&\\cdot&\\cdot&\\cdot&\\cdot&\\cdot \\\\ \\cdot&\\cdot&\\cdot&\\cdot&\\cdot&\\cdot&\\cdot&\\cdot&\\cdot&\\cdot&\\cdot&\\cdot&\\cdot \\\\ \\cdot&\\cdot&\\cdot&\\cdot&\\cdot&\\cdot&\\cdot&\\cdot&\\cdot&\\cdot&\\cdot&\\cdot&\\cdot \\\\ \\cdot&\\cdot&\\cdot&\\cdot&\\cdot&\\cdot&\\cdot&\\cdot&\\cdot&\\cdot&\\cdot&\\cdot&\\cdot \\\\ \\cdot&\\cdot&\\cdot&\\cdot&\\cdot&\\cdot&\\cdot&\\cdot&\\cdot&\\cdot&\\cdot&\\cdot&\\cdot \\\\ \\cdot&\\cdot&\\cdot&\\cdot&\\cdot&\\cdot&\\cdot&\\cdot&\\cdot&\\cdot&\\cdot&\\cdot&\\cdot\\end{bmatrix}\\mathbf x_k\\right).$$ equals the residual."
      ]
    },
    {
      "cell_type": "markdown",
      "metadata": {
        "id": "e13z3xsm494m",
        "deepnote_app_block_visible": true,
        "cell_id": "1c00c809e4134afa8f52c8b8c2c2071e",
        "deepnote_cell_type": "markdown"
      },
      "source": [
        "#### my attempt"
      ]
    },
    {
      "cell_type": "markdown",
      "metadata": {
        "id": "o7bmKhI-gaKd",
        "deepnote_app_block_visible": true,
        "cell_id": "f5b86ab3ebd04b5c9a74e72be9e2651a",
        "deepnote_cell_type": "markdown"
      },
      "source": [
        "A simple kalman filter.\n",
        "\n",
        "Parameters\n",
        "-\n",
        "\n",
        "measurments: numpy array\n",
        "    Array of nx1 column vector measurments.\n",
        "\n",
        "initial_state: numpy array\n",
        "    predicted initial state as mx1 column vector.\n",
        "\n",
        "trial: str\n",
        "    trial number as string.\n",
        "    \n",
        "path: str\n",
        "    directory path as string. If you have set it up, using\n",
        "    adrien_c3d_folder() is reccomended.\n",
        "\n",
        "Returns\n",
        "-\n",
        "\n",
        "df: dataframe\n",
        "    dataframe containing trial data."
      ]
    },
    {
      "cell_type": "code",
      "metadata": {
        "id": "LCJ9iFKHgQad",
        "deepnote_app_block_visible": true,
        "deepnote_app_is_code_hidden": true,
        "cell_id": "0123004db88c47b5acb6525e7380adf1",
        "deepnote_cell_type": "code"
      },
      "source": [
        "def simplekalman(measurments, initial_state=0, initial_error_covariance=6,\n",
        "                 state_transition=1.03, measurement_model=1, process_noise=0,\n",
        "                 measurement_covariance=1):\n",
        "    # set variables\n",
        "    A = state_transition\n",
        "    At = np.transpose(A)\n",
        "    H = measurement_model\n",
        "    Ht = np.transpose(H)\n",
        "    Q = process_noise\n",
        "    R = measurement_covariance\n",
        "    x = initial_state\n",
        "    P = initial_error_covariance\n",
        "\n",
        "    filtered_data = []\n",
        "    # kalman algorithm\n",
        "    for z in measurments:\n",
        "        xp = A * x                      # state prediction\n",
        "        Pp = A * P * At + Q             # covariance prediction\n",
        "        K = Pp * Ht / (H * Pp * Ht + R) # kalman gain\n",
        "        x = xp + K * (z - H * xp)       # state update\n",
        "        P = Pp - K * H * Pp             # covariance update\n",
        "        filtered_data.append(x)\n",
        "    return filtered_data"
      ],
      "execution_count": null,
      "outputs": []
    },
    {
      "cell_type": "markdown",
      "metadata": {
        "id": "zQsmE5UzlxEI",
        "deepnote_app_block_visible": true,
        "cell_id": "cd7465823e35413aad1eb9860907a18f",
        "deepnote_cell_type": "markdown"
      },
      "source": [
        "Using filterpy, it must first be installed."
      ]
    },
    {
      "cell_type": "markdown",
      "metadata": {
        "id": "dZ58qg0K5CgC",
        "deepnote_app_block_visible": true,
        "cell_id": "2b500f8a63284803bfa5b5ebaadb8e4f",
        "deepnote_cell_type": "markdown"
      },
      "source": [
        "#### Using FilteryPy"
      ]
    },
    {
      "cell_type": "code",
      "metadata": {
        "id": "DGTD2fF9mL8d",
        "colab": {
          "base_uri": "https://localhost:8080/"
        },
        "outputId": "8aeb60b4-65f3-4a69-8e8e-f653c6859560",
        "deepnote_app_block_visible": true,
        "deepnote_app_is_code_hidden": true,
        "cell_id": "c13baf8b1f484796bf70a79419f1de7f",
        "deepnote_cell_type": "code"
      },
      "source": [
        "!pip install filterpy"
      ],
      "execution_count": null,
      "outputs": [
        {
          "output_type": "stream",
          "name": "stdout",
          "text": "Requirement already satisfied: filterpy in /usr/local/lib/python3.10/dist-packages (1.4.5)\nRequirement already satisfied: numpy in /usr/local/lib/python3.10/dist-packages (from filterpy) (1.26.4)\nRequirement already satisfied: scipy in /usr/local/lib/python3.10/dist-packages (from filterpy) (1.13.1)\nRequirement already satisfied: matplotlib in /usr/local/lib/python3.10/dist-packages (from filterpy) (3.8.0)\nRequirement already satisfied: contourpy>=1.0.1 in /usr/local/lib/python3.10/dist-packages (from matplotlib->filterpy) (1.3.0)\nRequirement already satisfied: cycler>=0.10 in /usr/local/lib/python3.10/dist-packages (from matplotlib->filterpy) (0.12.1)\nRequirement already satisfied: fonttools>=4.22.0 in /usr/local/lib/python3.10/dist-packages (from matplotlib->filterpy) (4.54.1)\nRequirement already satisfied: kiwisolver>=1.0.1 in /usr/local/lib/python3.10/dist-packages (from matplotlib->filterpy) (1.4.7)\nRequirement already satisfied: packaging>=20.0 in /usr/local/lib/python3.10/dist-packages (from matplotlib->filterpy) (24.1)\nRequirement already satisfied: pillow>=6.2.0 in /usr/local/lib/python3.10/dist-packages (from matplotlib->filterpy) (10.4.0)\nRequirement already satisfied: pyparsing>=2.3.1 in /usr/local/lib/python3.10/dist-packages (from matplotlib->filterpy) (3.2.0)\nRequirement already satisfied: python-dateutil>=2.7 in /usr/local/lib/python3.10/dist-packages (from matplotlib->filterpy) (2.8.2)\nRequirement already satisfied: six>=1.5 in /usr/local/lib/python3.10/dist-packages (from python-dateutil>=2.7->matplotlib->filterpy) (1.16.0)\n"
        }
      ]
    },
    {
      "cell_type": "markdown",
      "metadata": {
        "id": "Pk0rOC59nM7y",
        "deepnote_app_block_visible": true,
        "cell_id": "3fecaee282254d43b5a84792f90c81ae",
        "deepnote_cell_type": "markdown"
      },
      "source": [
        "example of ```predict``` function."
      ]
    },
    {
      "cell_type": "code",
      "metadata": {
        "id": "dfBg1pi_lzGw",
        "colab": {
          "base_uri": "https://localhost:8080/"
        },
        "outputId": "7b34f7d5-f741-4c86-9df3-353a8a0d82ef",
        "deepnote_app_block_visible": true,
        "deepnote_app_is_code_hidden": true,
        "cell_id": "ae1cb31339b6444ab0d3f03f349d60b2",
        "deepnote_cell_type": "code"
      },
      "source": [
        "import filterpy.kalman as kf\n",
        "x, P = kf.predict(x=10., P=3., u=1., Q=2.**2)\n",
        "print(f'{x:.3f}')\n",
        "\n",
        "x, P = kf.update(x=x, P=P, z=12., R=3.5**2)\n",
        "print(f'{x:.3f} {P:.3f}')"
      ],
      "execution_count": null,
      "outputs": [
        {
          "output_type": "stream",
          "name": "stdout",
          "text": "11.000\n11.364 4.455\n"
        }
      ]
    },
    {
      "cell_type": "code",
      "metadata": {
        "id": "W-30DrXsnVQu",
        "deepnote_app_block_visible": true,
        "deepnote_app_is_code_hidden": true,
        "cell_id": "2d5928e32c6e4036b0d26830e7f435f7",
        "deepnote_cell_type": "code"
      },
      "source": [
        "from filterpy.common import Q_discrete_white_noise\n",
        "\n",
        "def pos_vel_filter(x, P, R, Q=0., dt=1.0):\n",
        "    \"\"\" Returns a KalmanFilter which implements a\n",
        "    constant velocity model for a state [x dx].T\n",
        "    \"\"\"\n",
        "\n",
        "    myfilter = kf.KalmanFilter(dim_x=2, dim_z=1)\n",
        "    myfilter.x = np.array([x[0], x[1]]) # location and velocity\n",
        "    myfilter.F = np.array([[1., dt],\n",
        "                     [0.,  1.]])  # state transition matrix\n",
        "    myfilter.H = np.array([[1., 0]])    # Measurement function\n",
        "    myfilter.R *= R                     # measurement uncertainty\n",
        "    if np.isscalar(P):\n",
        "        myfilter.P *= P                 # covariance matrix\n",
        "    else:\n",
        "        myfilter.P[:] = P               # [:] makes deep copy\n",
        "    if np.isscalar(Q):\n",
        "        myfilter.Q = Q_discrete_white_noise(dim=2, dt=dt, var=Q)\n",
        "    else:\n",
        "        myfilter.Q[:] = Q\n",
        "    return myfilter"
      ],
      "execution_count": null,
      "outputs": []
    },
    {
      "cell_type": "markdown",
      "metadata": {
        "id": "KVXh0ckFoSVM",
        "deepnote_app_block_visible": true,
        "cell_id": "3f7e2e0acb4f45fe852f0287d21aa0a8",
        "deepnote_cell_type": "markdown"
      },
      "source": [
        "Setting filter values"
      ]
    },
    {
      "cell_type": "code",
      "metadata": {
        "id": "y_jV5XZQn1Nd",
        "deepnote_app_block_visible": true,
        "deepnote_app_is_code_hidden": true,
        "cell_id": "af8f5c03dfa94d479b5e12bda0225931",
        "deepnote_cell_type": "code"
      },
      "source": [
        "dt = .1\n",
        "x = np.array([0., 0.])\n",
        "kf_example = pos_vel_filter(x, P=500, R=5, Q=0.1, dt=dt)"
      ],
      "execution_count": null,
      "outputs": []
    },
    {
      "cell_type": "markdown",
      "metadata": {
        "id": "mqbls2z-oWRP",
        "deepnote_app_block_visible": true,
        "cell_id": "3aa69cf231b44070a105beef219bdc63",
        "deepnote_cell_type": "markdown"
      },
      "source": [
        "printing results"
      ]
    },
    {
      "cell_type": "code",
      "metadata": {
        "id": "DaS7pmIEn7aM",
        "colab": {
          "base_uri": "https://localhost:8080/"
        },
        "outputId": "912aec09-37b1-410a-a98e-e8bf0040b05c",
        "deepnote_app_block_visible": true,
        "deepnote_app_is_code_hidden": true,
        "cell_id": "54caa932f4f14abc8b39972b6520417f",
        "deepnote_cell_type": "code"
      },
      "source": [
        "kf_example"
      ],
      "execution_count": null,
      "outputs": [
        {
          "output_type": "execute_result",
          "data": {
            "text/plain": "KalmanFilter object\ndim_x = 2\ndim_z = 1\ndim_u = 0\nx = [0. 0.]\nP = [[500.   0.]\n     [  0. 500.]]\nx_prior = [[0. 0.]].T\nP_prior = [[1. 0.]\n           [0. 1.]]\nx_post = [[0. 0.]].T\nP_post = [[1. 0.]\n          [0. 1.]]\nF = [[1.  0.1]\n     [0.  1. ]]\nQ = [[2.5e-06 5.0e-05]\n     [5.0e-05 1.0e-03]]\nR = [[5.]]\nH = [[1. 0.]]\nK = [[0. 0.]].T\ny = [[0.]]\nS = [[0.]]\nSI = [[0.]]\nM = [[0.]]\nB = None\nz = [[None]]\nlog-likelihood = -708.3964185322641\nlikelihood = 2.2250738585072014e-308\nmahalanobis = 0.0\nalpha = 1.0\ninv = <function inv at 0x79c70f3f52d0>"
          },
          "metadata": {},
          "execution_count": 22
        }
      ]
    },
    {
      "cell_type": "markdown",
      "source": [
        "<a style='text-decoration:none;line-height:16px;display:flex;color:#5B5B62;padding:10px;justify-content:end;' href='https://deepnote.com?utm_source=created-in-deepnote-cell&projectId=329e02a9-9b4e-4c64-b98b-e74fe1411005' target=\"_blank\">\n",
        "<img alt='Created in deepnote.com' style='display:inline;max-height:16px;margin:0px;margin-right:7.5px;' src='data:image/svg+xml;base64,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' > </img>\n",
        "Created in <span style='font-weight:600;margin-left:4px;'>Deepnote</span></a>"
      ],
      "metadata": {
        "created_in_deepnote_cell": true,
        "deepnote_cell_type": "markdown",
        "id": "xbu6r_JP1DUW"
      }
    }
  ],
  "nbformat": 4,
  "nbformat_minor": 0,
  "metadata": {
    "deepnote_persisted_session": {
      "createdAt": "2024-11-19T16:45:17.795Z"
    },
    "deepnote_app_clear_outputs": false,
    "deepnote_app_layout": "powerful-article",
    "deepnote_app_table_of_contents_enabled": true,
    "deepnote_app_hide_all_code_blocks_enabled": true,
    "deepnote_app_width": "full-width",
    "deepnote_app_reactivity_enabled": true,
    "deepnote_app_run_on_load_enabled": false,
    "deepnote_notebook_id": "22a320d0daa7463abf28aaefb9b94def",
    "colab": {
      "provenance": [],
      "toc_visible": true
    }
  }
}