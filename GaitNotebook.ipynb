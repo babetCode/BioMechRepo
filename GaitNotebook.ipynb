{
 "cells": [
  {
   "cell_type": "markdown",
   "metadata": {
    "id": "R9bUwhaz1Gu9"
   },
   "source": [
    "# Project Outline"
   ]
  },
  {
   "cell_type": "markdown",
   "metadata": {
    "id": "yInS36u73wfh"
   },
   "source": [
    "## Project goals for IMU gait analysis:"
   ]
  },
  {
   "cell_type": "markdown",
   "metadata": {
    "id": "M0xpINMu2IZ0"
   },
   "source": [
    "* Determine heel strike events\n",
    "* Determine heel off events\n",
    "* Determine toe-off events\n",
    "* Determine stride length"
   ]
  },
  {
   "cell_type": "markdown",
   "metadata": {
    "id": "3N7QrGwY2Iy5"
   },
   "source": [
    "## Action Plan"
   ]
  },
  {
   "cell_type": "markdown",
   "metadata": {
    "id": "uwaUDMRT2JGr"
   },
   "source": [
    "* Learn what quaternions are\n",
    "* Learn how to filter data\n",
    "* Use filter to estimate orientation\n",
    "* Use spikes in vertical acceleration to estimate heel-strike, heel-off, and toe-off events\n",
    "* Use orientation and acceleration data to estimate position during swing phase\n",
    "* Use ZUPT for stance phase\n",
    "* Use position to calculate stride length"
   ]
  },
  {
   "cell_type": "markdown",
   "metadata": {
    "id": "hZmlOVhJACz8"
   },
   "source": [
    "# Setup Python Modules"
   ]
  },
  {
   "cell_type": "code",
   "execution_count": 1,
   "metadata": {
    "id": "FkfxapXpAOYQ"
   },
   "outputs": [],
   "source": [
    "import math\n",
    "import IPython\n",
    "import numpy as np\n",
    "import pandas as pd\n",
    "import ipywidgets as widgets\n",
    "import matplotlib.pyplot as plt\n",
    "import plotly.graph_objects as go\n",
    "from ipywidgets import interact, FloatSlider, IntSlider\n",
    "\n",
    "%matplotlib inline"
   ]
  },
  {
   "cell_type": "markdown",
   "metadata": {
    "id": "fOksBB7yh2sU"
   },
   "source": [
    "# Representing Rotation"
   ]
  },
  {
   "cell_type": "markdown",
   "metadata": {
    "id": "jgW2Nvlr6CKp"
   },
   "source": [
    "Here we explore two ways to represent rotation: matricies and quaternions."
   ]
  },
  {
   "cell_type": "markdown",
   "metadata": {
    "id": "jSxAWi9fivlX"
   },
   "source": [
    "## Rotation Matricies"
   ]
  },
  {
   "cell_type": "markdown",
   "metadata": {
    "id": "aZsTO3MCjFz7"
   },
   "source": [
    "Rotation matricies are the most straightforward way to represent rotations in 3d space. Here is a brief overview of how they can be used.\n",
    "\n",
    "in 3d space, we can represent any point $P$ as a vector $\\overrightarrow P$ from the origin like this, $$\\overrightarrow P = \\begin{bmatrix}x\\\\y\\\\z\\end{bmatrix},$$\n",
    "meaning that $P$ can be reached in the $x$-$y$-$z$ coordinate system by travling $x$ units along the $x$-axis, followed by $y$ units parallel to the $y$-axis, followed by $z$ units parallel to the $z$-axis. Another way of imagining this is using the three component vectors of the coordinate system,\n",
    "$$\\widehat{\\mathbf i} = \\begin{bmatrix}1\\\\0\\\\0\\end{bmatrix}, \\quad \\widehat{\\mathbf j} = \\begin{bmatrix}0\\\\1\\\\0\\end{bmatrix}, \\quad \\widehat{\\mathbf k} = \\begin{bmatrix}0\\\\0\\\\1\\end{bmatrix},$$\n",
    "which let us write $\\overrightarrow P$ as the sum\n",
    "$$\\overrightarrow P = x\\left(\\widehat{\\mathbf i}\\right) + y\\left(\\widehat{\\mathbf j}\\right) + z\\left(\\widehat{\\mathbf k}\\right).$$\n",
    " If we apply a linear transformation to our coordinate system (such as a rotation) that sends $P$ to $P^\\prime$, $\\widehat{\\mathbf i}$ to $\\widehat{\\mathbf i}^\\prime$, $\\widehat{\\mathbf j}$ to $\\widehat{\\mathbf j}^\\prime$, and $\\widehat{\\mathbf k}$ to $\\widehat{\\mathbf k}^\\prime$, and that transformation is linear, then we will have\n",
    "$$\\overrightarrow{P^\\prime} = x\\left(\\widehat{\\mathbf i}^\\prime\\right) + y\\left(\\widehat{\\mathbf j}^\\prime\\right) + z\\left(\\widehat{\\mathbf k}^\\prime\\right).$$\n",
    "In other words, we can represent any linear transformation in our coordinate system by where it sends our component vectors. In order to represent this information a little bit more succictly, we can put them together into something called a 'matrix', where  $\\widehat{\\mathbf i}^\\prime$ is the first column,  $\\widehat{\\mathbf j}^\\prime$ is the second column, and $\\widehat{\\mathbf k}^\\prime$ is the third column. For example, a transformation that does not move our component vectors at all (and therefore leaves all points where they are) would be represented by\n",
    "$$\\begin{bmatrix}1 & 0 & 0 \\\\ 0 & 1 & 0 \\\\ 0 & 0 & 1 \\end{bmatrix}.$$\n",
    "In fact, this do-nothing matrix is so important that we usually call it the '3x3 identity matrix'. More generally, any multiplication of a vector by a matrix can be represented as\n",
    "$$\\begin{bmatrix}a_1 & b_1 & c_1 \\\\ a_2 & b_2 & c_2 \\\\ a_3 & b_3 & c_3 \\end{bmatrix}\\begin{bmatrix}x\\\\y\\\\z\\end{bmatrix} = \\begin{bmatrix}xa_1 + yb_1 + zc_1 \\\\ xa_2 + yb_2 + zc_2 \\\\ xa_3 + yb_3 + zc_3\\end{bmatrix}.$$\n",
    "Similarlly, when multiplying two 3x3 matricies together the resulting matrix will have first column equal to the left matrix times the first column of the right one, etc....\n",
    "\n",
    " A basic 3d rotation (or elemental rotation) rotatetes an object around one of the three axes of the coordinate system. The rotation matricies to rotate vectors around the $x$, $y$, and $z$ axes respectively, are\n",
    "\n",
    "\\begin{align}\n",
    "R_x(\\theta) &= \\begin{bmatrix}\n",
    "1 & 0 & 0 \\\\\n",
    "0 & \\cos \\theta & -\\sin \\theta \\\\\n",
    "0 & \\sin \\theta & \\cos \\theta\n",
    "\\end{bmatrix} \\\\\\\\\n",
    "R_y(\\psi) &= \\begin{bmatrix}\n",
    "\\cos \\psi & 0 & \\sin \\psi \\\\\n",
    "0 & 1 & 0 \\\\\n",
    "-\\sin \\psi & 0 & \\cos \\psi\n",
    "\\end{bmatrix} \\\\\\\\\n",
    "R_z(\\phi) &= \\begin{bmatrix}\n",
    "\\cos \\phi & -\\sin \\phi & 0 \\\\\n",
    "\\sin \\phi & \\cos \\phi & 0 \\\\\n",
    "0 & 0 & 1\n",
    "\\end{bmatrix}.\n",
    "\\end{align}\n",
    "\n",
    "Therefore, the combined rotation matrix that represents a rotation of $\\theta$ about the $x$-axis, followed by $\\psi$ about the $y$-axis, followed by $\\phi$ aobut the $z$-axis is\n",
    "\\begin{align}\n",
    "R &= R_z(\\phi) R_y(\\psi) R_x(\\theta)  \\\\\n",
    "&= \\begin{bmatrix}\\cos \\phi & -\\sin \\phi & 0 \\\\\n",
    "\\sin \\phi & \\cos \\phi & 0 \\\\\n",
    "0 & 0 & 1\n",
    "\\end{bmatrix}\n",
    "\\begin{bmatrix}\n",
    "\\cos \\psi & 0 & \\sin \\psi \\\\\n",
    "0 & 1 & 0 \\\\\n",
    "-\\sin \\psi & 0 & \\cos \\psi\n",
    "\\end{bmatrix}\n",
    "\\begin{bmatrix}\n",
    "1 & 0 & 0 \\\\\n",
    "0 & \\cos \\theta & -\\sin \\theta \\\\\n",
    "0 & \\sin \\theta & \\cos \\theta\n",
    "\\end{bmatrix} \\\\\\\\\n",
    "&= \\begin{bmatrix}\n",
    "\\cos \\phi & -\\sin \\phi & 0 \\\\\n",
    "\\sin \\phi & \\cos \\phi & 0 \\\\\n",
    "0 & 0 & 1\n",
    "\\end{bmatrix}\n",
    "\\begin{bmatrix}\n",
    "\\cos\\psi & \\sin\\theta\\sin\\psi & \\cos\\theta\\sin\\psi \\\\\n",
    "0 & \\cos\\theta & -\\sin\\theta \\\\\n",
    "-\\sin\\psi & \\sin\\theta\\cos\\psi & \\cos\\theta\\cos\\psi\n",
    "\\end{bmatrix} \\\\\\\\\n",
    "&= \\begin{bmatrix}\n",
    "\\cos \\psi\\cos \\phi & \\sin\\theta\\sin\\psi\\cos\\phi - \\cos\\theta\\sin\\phi & \\cos\\theta\\sin\\psi\\cos\\phi + \\sin\\theta\\sin\\phi \\\\\n",
    "\\cos\\psi \\sin\\phi & \\sin\\theta\\sin\\psi\\sin\\phi + \\cos\\theta\\cos\\phi & \\cos\\theta\\sin\\psi\\sin\\phi - \\sin\\theta\\cos\\phi \\\\\n",
    "-\\sin\\psi & \\sin\\theta\\cos\\psi & \\cos \\theta\\cos \\psi\n",
    "\\end{bmatrix}. \\\\\n",
    "\\end{align}\n",
    "While this could in theory be\n",
    "\n",
    "For a more in depth explanation of vectors and matricies, see 3Blue1Brown's [videos on linear algebra](https://www.3blue1brown.com/topics/linear-algebra), where I learned everything I've written above."
   ]
  },
  {
   "cell_type": "code",
   "execution_count": 2,
   "metadata": {
    "id": "tVnngtNQilts"
   },
   "outputs": [],
   "source": [
    "from math import sin, cos, pi\n",
    "\n",
    "#set angles\n",
    "theta = pi/3\n",
    "phi = 0\n",
    "\n",
    "#make a 2d vector & rotation matrix\n",
    "vector2d = np.array([[1],[0]])\n",
    "rotation_matrix = np.array(\n",
    "    [[cos(theta), -sin(theta)], [sin(theta), cos(theta)]])\n",
    "\n",
    "#rotate 2d vector counterclockwise by theta\n",
    "def rotate2dvec(vec, theta):\n",
    "    matrix = np.array([[cos(theta), -sin(theta)], [sin(theta), cos(theta)]])\n",
    "    return(np.dot(matrix, vec))\n",
    "\n",
    "#make a 3d vector\n",
    "vec3d = np.array([[cos(theta)], [sin(theta)*cos(phi)], [sin(phi)]])\n",
    "\n",
    "#rotate vector by yaw A, ptich B, roll C\n",
    "def rotate3dvec(vec, A, B, C):\n",
    "    row1 = [cos(A)*cos(B), cos(A)*sin(B)*sin(C)-sin(A)*cos(C),\n",
    "            cos(A)*sin(B)*cos(C)+sin(A)*sin(B)]\n",
    "    row2 = [sin(A)*cos(B), sin(A)*sin(B)*sin(C)+cos(A)*cos(C),\n",
    "            sin(A)*sin(B)*cos(C)-cos(A)*sin(C)]\n",
    "    row3 = [-sin(B), cos(B)*sin(C), cos(B)*cos(C)]\n",
    "    matrix = np.array([row1, row2, row3])\n",
    "    return(np.dot(matrix, vec))\n",
    "\n",
    "#rotate around x, y, z, axes\n",
    "def rotateAxes(vector, x, y, z):\n",
    "    vec = vector\n",
    "    print(vec, '\\n \\n')\n",
    "    r_x = np.array([[1, 0, 0], [0, cos(x), -sin(x)], [0, sin(x), cos(x)]])\n",
    "    r_y = np.array([[cos(y), 0, sin(y)], [0, 1, 0], [-sin(y), 0, cos(y)]])\n",
    "    r_z = np.array([[cos(z), -sin(z), 0], [sin(z), cos(z), 0], [0, 0, 1]])\n",
    "    for i in [r_x, r_y, r_z]:\n",
    "        vec = np.dot(i, vec)\n",
    "        print(vec, '\\n \\n')\n",
    "\n",
    "\n",
    "#convert spherical coordinates to cartesian coordinates\n",
    "def sphere2cart():\n",
    "    print('empty')\n",
    "\n",
    "\"\"\"\n",
    "DEFINE MAIN FUNCTION\n",
    "\"\"\"\n",
    "def main():\n",
    "\n",
    "    rotateAxes(vec3d, pi, pi, pi/6)\n",
    "\n"
   ]
  },
  {
   "cell_type": "markdown",
   "metadata": {
    "id": "iCLUHJ8-8NOz"
   },
   "source": [
    "## Quaternions"
   ]
  },
  {
   "cell_type": "markdown",
   "metadata": {
    "id": "hHzaY98R8OwL"
   },
   "source": [
    "Quaternions are four-dimensional hypercomplex numbers which offer a powerful approach to orientation tracking because of their capacity for representing three-dimensional rotations. Specifically, a single unit quaternion can represent any 3d rotation without the common pitfalls of other rotation representations, such as gimbal lock. Moreover, quaternions allow for efficient and numerically stable calculations, especially beneficial in real-time tracking contexts like gait analysis. The quaternion-based approach simplifies the compounding of rotations by encapsulating complex rotational transformations in quaternion multiplication, reducing the risk of drift and improving accuracy in sensor fusion algorithms. This capability makes quaternions particularly well-suited for the recursive nature of state estimation models, where orientation data from consecutive IMU measurements need to be seamlessly integrated over time.\n",
    "\n",
    "Quaternions also support interpolation methods such as spherical linear interpolation (SLERP), which preserves the shortest path of rotation and minimizes error, critical in applications like gait analysis where precise orientation tracking is needed. This combination of stability, efficiency, and the ability to handle continuous rotations makes quaternions an optimal choice for robust and reliable orientation tracking in IMU-based gait analysis.\n",
    "\n",
    "Quaternions represent orientation through a four-dimensional structure that encodes three-dimensional rotation in a single unit quaternion, typically denoted $q = w + xi + yj + zk$, where $w$, $x$, $y$, and $z$ are real numbers and $i$, $j$, and $k$, are imaginary units. To represent a rotation, a quaternion should be normalized (i.e., has a unit magnitude), which ensures that it purely represents rotation without scaling effects. To represent an orientation, a quaternion is computed based on a rotation axis and angle: a rotation of $\\theta$ around an axis defined by a unit vector $(x, y, z)$ is represented as $q = \\cos(\\theta/2) + (xi, yj, zk)\\sin(\\theta/2)$. When applied to a vector (using quaternion multiplcation), this quaternion rotates it by the specified angle around the given axis. Quaternion multiplication combines two rotations in sequence, making it useful for updating orientations. Given two quaternions $q_1 = w_1 + x_1i + y_1j + z_1k$ and $q_2 = w_2 + x_2i + y_2j + z_2k$, their product $q = q_1 \\cdot q_2$ results in a new quaternion that represents the combined rotation of $q_1$ followed by $q_2$. The product $q = q_1 \\otimes q_2$ is calculated using the formula:\n",
    "\\begin{align}\n",
    "q=q_1 \\otimes q_2=&\\ \\left(w_1w_2 - x_1x_2 - y_1y_2 - z_1z_2\\right) \\\\\n",
    "&+ \\left(w_1x_2 + x_1w_2 + y_1z_2 - z_1y_2\\right)i \\\\\n",
    "&+ \\left(w_1y_2 - x_1z_2 + y_1w_2 + z_1x_2\\right)j \\\\\n",
    "&+ \\left(w_1z_2 + x_1y_2 - y_1x_2 + z_1w_2\\right)k.\n",
    "\\end{align}\n",
    "\n",
    "This non-commutative operation (order matters) allows quaternions to accurately represent compounded rotations, as each multiplication applies the rotation of one quaternion to the orientation described by another, creating a seamless update for tracking.\n",
    "\n",
    "Here is how we would use quaternions to represent rotation of a point $P$ by an angle of $\\theta$ around an axis $A$ which passes through the origin. First, we normalize the vector $A$ such that if it has components $x$, $y$, $z$, then $x^2+y^2+z^2=1$. Next, we construct a quaternion $q$ such that\n",
    "$$q = (\\cos(\\theta/2)+\\sin(\\theta/2)(xi+yj+zk)),$$\n",
    "and its inverse $q^{-1}$ such that\n",
    "$$q^{-1} = (\\cos(\\theta/2)-\\sin(\\theta/2)(xi+yj+zk)).$$\n",
    "Now, we make a quaternion for our point $P$ so that if our point $P$ had coordinates $a$, $b$, $c$, then our quaternion $p$ is defined by\n",
    "$$p = ai+bj+ck.$$\n",
    "Now, to find the projection $P^\\prime$ after the rotation, we have\n",
    "$$P^\\prime = q\\otimes p\\otimes q^{-1}.$$\n",
    "\n",
    "This framework for how quaternions work is admittedly quite non-intuitive. However, if a more in depth explanation of the mechanics is desired, it can be found in CGP Grey's videos \"[Visualizing quaternions (4d numbers) with stereographic projection](https://www.youtube.com/watch?v=d4EgbgTm0Bg)\" and \"[Visualizing quaternions (4d numbers) with stereographic projection](https://www.youtube.com/watch?v=zjMuIxRvygQ)\", as well as his \"[Visualizing Quaternions](https://eater.net/quaternions)\" webpage with Ben Eater. For the rest of this notebook, these rules will continue to be used without further explanation."
   ]
  },
  {
   "cell_type": "markdown",
   "metadata": {
    "id": "VQO6fMz4lMsv"
   },
   "source": [
    "### Building a ```quaternion_multiply``` function"
   ]
  },
  {
   "cell_type": "code",
   "execution_count": 3,
   "metadata": {
    "id": "at9Dl3DVgvDc"
   },
   "outputs": [],
   "source": [
    "def quaternion_multiply(q1, q2):\n",
    "    w1, x1, y1, z1 = q1\n",
    "    w2, x2, y2, z2 = q2\n",
    "    return np.array([\n",
    "        w1*w2 - x1*x2 - y1*y2 - z1*z2,\n",
    "        w1*x2 + x1*w2 + y1*z2 - z1*y2,\n",
    "        w1*y2 - x1*z2 + y1*w2 + z1*x2,\n",
    "        w1*z2 + x1*y2 - y1*x2 + z1*w2\n",
    "    ])"
   ]
  },
  {
   "cell_type": "markdown",
   "metadata": {
    "id": "rNGd1Yyulg2I"
   },
   "source": [
    "This code multiplies two quaternions ```q1``` and ```q2``` and returns the resulting quaternion as a numpy array."
   ]
  },
  {
   "cell_type": "markdown",
   "metadata": {
    "id": "dKBmQ7l-lp67"
   },
   "source": [
    "### Building a ```rotate_quaternion``` function"
   ]
  },
  {
   "cell_type": "code",
   "execution_count": 4,
   "metadata": {
    "id": "21Gfldkvgy6U"
   },
   "outputs": [],
   "source": [
    "def rotate_quaternion(point, axis, angle: float) -> list:\n",
    "    normalizedaxis = axis/np.linalg.norm(axis)\n",
    "    q_inv = [math.cos(angle/2)]\n",
    "    q = [math.cos(angle/2)]\n",
    "    for value in normalizedaxis:\n",
    "        q.append(math.sin(angle/2)*value)\n",
    "        q_inv.append(-math.sin(angle/2)*value)\n",
    "    pointquat = [0, point[0], point[1], point[2]]\n",
    "    rotation = quaternion_multiply(quaternion_multiply(q, pointquat), q_inv)\n",
    "    result = [float(i) for i in rotation[1:]]\n",
    "    return(result)\n"
   ]
  },
  {
   "cell_type": "markdown",
   "metadata": {
    "id": "8Ni2ojIrhdQU"
   },
   "source": [
    "Using ```quaternion_multiply```, this code represents rotations using quaternions. We can test this by checking that known rotations produce the correct result."
   ]
  },
  {
   "cell_type": "code",
   "execution_count": 5,
   "metadata": {
    "colab": {
     "base_uri": "https://localhost:8080/"
    },
    "id": "7Uw72screK3P",
    "outputId": "216f191a-cead-4bff-eec1-c8905f043daa"
   },
   "outputs": [
    {
     "name": "stdout",
     "output_type": "stream",
     "text": [
      "[2.220446049250313e-16, 0.0, -1.0]\n"
     ]
    }
   ],
   "source": [
    "print(rotate_quaternion([1, 0, 0], [0, 1, 0], np.pi/2))"
   ]
  },
  {
   "cell_type": "markdown",
   "metadata": {
    "id": "H9nEHisPmAeb"
   },
   "source": [
    "### Visualization Example"
   ]
  },
  {
   "cell_type": "markdown",
   "metadata": {
    "id": "KgajZ2k5htb2"
   },
   "source": [
    "Here are example visualizations we could build using ```quaternion_multiply``` and ```rotate_quaternion```."
   ]
  },
  {
   "cell_type": "markdown",
   "metadata": {
    "id": "ZDqcIaWFwxdj"
   },
   "source": [
    "#### Plotly Setup"
   ]
  },
  {
   "cell_type": "markdown",
   "metadata": {
    "id": "yfUyWajCJcCX"
   },
   "source": [
    "To plot in an interactive, java-script based window, we can use plotly."
   ]
  },
  {
   "cell_type": "code",
   "execution_count": 6,
   "metadata": {
    "id": "B0eJKatkwztY"
   },
   "outputs": [],
   "source": [
    "def plot_rotation_plotly(point, axis, angle, figure, label):\n",
    "    t = np.linspace(0.0, angle, 100)\n",
    "    x = np.zeros(100)\n",
    "    y = np.zeros(100)\n",
    "    z = np.zeros(100)\n",
    "    for i in range(100):\n",
    "        p = rotate_quaternion(point, axis, t[i])\n",
    "        x[i] = p[0]\n",
    "        y[i] = p[1]\n",
    "        z[i] = p[2]\n",
    "    figure.add_trace(go.Scatter3d(\n",
    "        x=x, y=y, z=z,\n",
    "        mode='lines',\n",
    "        name=label))\n",
    "    figure.add_trace(go.Scatter3d(\n",
    "        x=[0, axis[0]], y=[0, axis[1]], z=[0, axis[2]],\n",
    "        mode='lines',\n",
    "        name='Axis',\n",
    "        # line=dict(color='pink', width=5)\n",
    "        ))\n",
    "    figure.add_trace(go.Scatter3d(\n",
    "        x=[x[0]], y=[y[0]], z=[z[0]],\n",
    "        mode='markers',\n",
    "        name='Start',\n",
    "        # line=dict(color='pink', width=5)\n",
    "        ))\n",
    "    figure.add_trace(go.Scatter3d(\n",
    "        x=[x[-1]], y=[y[-1]], z=[z[-1]],\n",
    "        mode='markers',\n",
    "        name='End',\n",
    "        # line=dict(color='pink', width=5)\n",
    "        ))\n",
    "    return rotate_quaternion(point, axis, angle)\n",
    "\n",
    "def make3dplotly(name: str):\n",
    "    fig = go.Figure()\n",
    "    fig.update_layout(width=600, height=600, scene=dict(\n",
    "        aspectmode = 'cube',\n",
    "        xaxis=dict(nticks=4, range=[-1.2, 1.2]),\n",
    "        yaxis=dict(nticks=4, range=[-1.2, 1.2]),\n",
    "        zaxis=dict(nticks=4, range=[-1.2, 1.2]),\n",
    "        bgcolor=\"white\"),\n",
    "        title=name, paper_bgcolor='lightgrey')\n",
    "\n",
    "    fig.add_trace(go.Scatter3d(\n",
    "        x=[-1.2, 1.2], y=[0, 0], z=[0, 0],\n",
    "        mode='lines',\n",
    "        name='x-axis',\n",
    "        line=dict(color='black', width=5)\n",
    "    ))\n",
    "\n",
    "    fig.add_trace(go.Scatter3d(\n",
    "        y=[-1.2, 1.2], x=[0, 0], z=[0, 0],\n",
    "        mode='lines',\n",
    "        name='y-axis',\n",
    "        line=dict(color='black', width=5)\n",
    "    ))\n",
    "\n",
    "    fig.add_trace(go.Scatter3d(\n",
    "        z=[-1.2, 1.2], y=[0, 0], x=[0, 0],\n",
    "        mode='lines',\n",
    "        name='z-axis',\n",
    "        line=dict(color='black', width=5)\n",
    "    ))\n",
    "    return fig"
   ]
  },
  {
   "cell_type": "markdown",
   "metadata": {
    "id": "hP5ia6fqKRiO"
   },
   "source": [
    "Edit the lines\n",
    "> ```\n",
    "p = (1.,0.,0.)\n",
    "ax = (.05, .1, .5)\n",
    "ang = 3.29\n",
    "\n",
    "with your own values to visualize a different point, axis, or angle.\n",
    "\n",
    "*Note: the axes will not resize if you choose values that are too large to be in frame. If you would like to change this, you must modify lines 39-41 in the previous cell 'Plotly Setup'*."
   ]
  },
  {
   "cell_type": "code",
   "execution_count": 7,
   "metadata": {
    "colab": {
     "base_uri": "https://localhost:8080/",
     "height": 617
    },
    "id": "tgyl5UL5HsHu",
    "outputId": "8e5cad8b-82ed-4ef4-b3f4-97780dd7c0e2"
   },
   "outputs": [
    {
     "data": {
      "text/html": [
       "<html>\n",
       "<head><meta charset=\"utf-8\" /></head>\n",
       "<body>\n",
       "    <div>            <script src=\"https://cdnjs.cloudflare.com/ajax/libs/mathjax/2.7.5/MathJax.js?config=TeX-AMS-MML_SVG\"></script><script type=\"text/javascript\">if (window.MathJax && window.MathJax.Hub && window.MathJax.Hub.Config) {window.MathJax.Hub.Config({SVG: {font: \"STIX-Web\"}});}</script>                <script type=\"text/javascript\">window.PlotlyConfig = {MathJaxConfig: 'local'};</script>\n",
       "        <script charset=\"utf-8\" src=\"https://cdn.plot.ly/plotly-2.35.2.min.js\"></script>                <div id=\"e47edbd8-4af4-4137-98b4-cd95c97075db\" class=\"plotly-graph-div\" style=\"height:600px; width:600px;\"></div>            <script type=\"text/javascript\">                                    window.PLOTLYENV=window.PLOTLYENV || {};                                    if (document.getElementById(\"e47edbd8-4af4-4137-98b4-cd95c97075db\")) {                    Plotly.newPlot(                        \"e47edbd8-4af4-4137-98b4-cd95c97075db\",                        [{\"line\":{\"color\":\"black\",\"width\":5},\"mode\":\"lines\",\"name\":\"x-axis\",\"x\":[-1.2,1.2],\"y\":[0,0],\"z\":[0,0],\"type\":\"scatter3d\"},{\"line\":{\"color\":\"black\",\"width\":5},\"mode\":\"lines\",\"name\":\"y-axis\",\"x\":[0,0],\"y\":[-1.2,1.2],\"z\":[0,0],\"type\":\"scatter3d\"},{\"line\":{\"color\":\"black\",\"width\":5},\"mode\":\"lines\",\"name\":\"z-axis\",\"x\":[0,0],\"y\":[0,0],\"z\":[-1.2,1.2],\"type\":\"scatter3d\"},{\"mode\":\"lines\",\"name\":\"rotation\",\"x\":[1.0,0.9994518874037374,0.9978081548878359,0.9950706176025618,0.9912422985711149,0.9863274253513492,0.9803314253673404,0.9732609199159598,0.9651237168550698,0.9559288019814198,0.9456863291077594,0.9344076088501272,0.9221050961377009,0.9087923764589969,0.8944841508596104,0.879196219708061,0.862945465247672,0.8457498329537512,0.8276283117166592,0.8086009128726517,0.7886886481056449,0.7679135062443155,0.7462984289801528,0.7238672855332761,0.7006448462939974,0.6766567554692348,0.6519295027639824,0.6264903941291073,0.6003675216077805,0.5735897323138355,0.5461865965763145,0.5181883752853773,0.48962598647563293,0.4605309711837994,0.43093545861838634,0.40087213067987215,0.37037418587054793,0.33947530263388853,0.3082096021639296,0.2766116107257216,0.24471622152846956,0.2125586561934633,0.18017442585934454,0.14759929196766697,0.11486922677204647,0.08202037361451803,0.04908900701296129,0.01611149260367012,-0.016875753016699052,-0.049836302505452595,-0.08273375800005359,-0.11553179131175678,-0.14819418404231124,-0.18068486757941407,-0.2129679629267669,-0.2450078203247327,-0.27676905861785805,-0.30821660432577447,-0.33931573037434104,-0.37003209444425406,-0.40033177689477933,-0.4301813182207235,-0.4595477560012883,-0.48839866129999876,-0.5167021744755124,-0.5444270403637652,-0.5715426427926028,-0.5980190383907776,-0.6238269896539885,-0.6489379972314343,-0.6733243313972403,-0.6969590626719984,-0.7198160915606022,-0.7418701773735488,-0.7630969660998683,-0.7834730173009103,-0.8029758299952839,-0.8215838675063692,-0.8392765812449609,-0.856034433400781,-0.8718389185178017,-0.8866725839295574,-0.9005190490318724,-0.9133630233717276,-0.9251903235322896,-0.9359878887954541,-0.9457437955646101,-0.9544472705316958,-0.962088702574009,-0.9686596533676339,-0.9741528667057577,-0.9785622765115984,-0.9818830135370864,-0.9841114107399043,-0.9852450073329493,-0.9852825515017465,-0.9842240017868082,-0.9820705271294172,-0.978824505580783,-0.9744895216759917],\"y\":[0.0,0.02841124554980651,0.056839479844372875,0.0852533099918907,0.11362135900684475,0.1419123004591686,0.17009489306757242,0.1981380151988422,0.22601069923501355,0.2536821657704684,0.2811218576011918,0.30829947346865405,0.335185001521057,0.3617487524549912,0.387961392300909,0.4137939748162063,0.43921797345014374,0.46420531284530786,0.48872839984082617,0.5127601539430993,0.5362740372304018,0.559244083658329,0.5816449277337286,0.6034518325254498,0.6246407169809827,0.6451881825188202,0.6650715388671754,0.6842688291205238,0.7027588539862997,0.7205211951949709,0.7375362380476419,0.753785193076284,0.7692501167926756,0.7839139315031404,0.7977604441671984,0.8107743642793089,0.8229413207539574,0.8342478777954385,0.8446815497348127,0.8542308148176523,0.8628851279273495,0.8706349322299372,0.8774716697275643,0.8833877907089696,0.8883767620865198,0.892433074610606,0.8955522489534268,0.8977308406554475,0.8989664439290661,0.8992576943152921,0.8986042701904968,0.8970068931215789,0.894467327069148,0.8909883764396092,0.886573882988295,0.8812287215770731,0.8749587947911033,0.8677710264206993,0.8596733538154853,0.8506747191192949,0.8407850593954894,0.8300152956536018,0.8183773207894218,0.8058839864518414,0.7925490888509642,0.7783873535231463,0.7634144190697992,0.7476468198879062,0.7311019679113234,0.7137981333830322,0.695754424679571,0.6769907672099279,0.6575278814121998,0.6373872598723053,0.616591143590035,0.5951624974186297,0.5731249847050237,0.5505029411587518,0.5273213479783698,0.5036058042650784,0.4793824987540015,0.45467818089434,0.4295201313103407,0.4039361316756912,0.3779544340346173,0.3516037296035558,0.3249131170878532,0.2979120705484852,0.27063040685427053,0.24309825275553149,0.21534601161555622,0.18740432983659733,0.15930406301749242,0.1310762418802655,0.10275203800334654,0.07436272939924499,0.04593966597468621,0.017514234911361753,-0.010882173994488459,-0.03921820299537718],\"z\":[0.0,-0.01699193607025764,-0.03388450339540733,-0.05065904775539059,-0.06729704526121832,-0.08378012281063607,-0.10009007837727747,-0.11620890111090125,-0.1321187912265151,-0.14780217966042303,-0.163241747471491,-0.17842044496620516,-0.19332151052640426,-0.2079284891188944,-0.22222525046650643,-0.23619600686052988,-0.24982533059485343,-0.2630981710025598,-0.2759998710761616,-0.2885161836531247,-0.3006332871488055,-0.31233780081942897,-0.32361679953825234,-0.33445782806859736,-0.3448489148179893,-0.3547785850582155,-0.36423587359670345,-0.373210336885225,-0.38169206455255783,-0.3896716903483661,-0.3971404024862166,-0.40408995337430814,-0.4105126687231686,-0.4164014560202642,-0.42174981236215764,-0.4265518316355726,-0.43080221103942923,-0.4344962569406518,-0.4376298900572806,-0.4401996499631635,-0.44220269890925656,-0.44363682495730866,-0.44450044442247294,-0.4447926036221483,-0.44451297992911637,-0.4436618821278153,-0.4422402500733521,-0.44024965365363533,-0.43769229105576973,-0.4345709863386299,-0.4308891863142926,-0.42665095674177156,-0.42186097783725773,-0.41652453910582404,-0.41064753350030025,-0.4042364509137705,-0.39729837101287613,-0.38984095541984204,-0.381872439251857,-0.37340162202715144,-0.3644378579478156,-0.35499104557008865,-0.3450716168735242,-0.334690525741105,-0.32385923586302723,-0.31258970807751124,-0.3008943871626192,-0.28878618809366585,-0.2762784817813951,-0.26338508030667596,-0.2501202216680184,-0.23649855405875686,-0.22253511969125953,-0.2082453381860282,-0.1936449895440341,-0.1787501967210867,-0.16357740782348582,-0.14814337794461405,-0.13246515066252576,-0.11656003921896887,-0.1004456074006207,-0.08413965014364821,-0.06766017388301712,-0.05102537666824192,-0.03425362806754134,-0.017363448882588006,-0.0003734906962508666,0.016697484724078532,0.03383062614483865,0.05100701368344451,0.06820767970124209,0.0854136297492015,0.10260586354321322,0.1197653959458311,0.13687327793128704,0.15391061751062768,0.17085860059386912,0.18769851176612473,0.20441175495477143,0.22097987396482552],\"type\":\"scatter3d\"},{\"mode\":\"lines\",\"name\":\"Axis\",\"x\":[0,0.05],\"y\":[0,0.3],\"z\":[0,0.5],\"type\":\"scatter3d\"},{\"mode\":\"markers\",\"name\":\"Start\",\"x\":[1.0],\"y\":[0.0],\"z\":[0.0],\"type\":\"scatter3d\"},{\"mode\":\"markers\",\"name\":\"End\",\"x\":[-0.9744895216759917],\"y\":[-0.03921820299537718],\"z\":[0.22097987396482552],\"type\":\"scatter3d\"}],                        {\"template\":{\"data\":{\"histogram2dcontour\":[{\"type\":\"histogram2dcontour\",\"colorbar\":{\"outlinewidth\":0,\"ticks\":\"\"},\"colorscale\":[[0.0,\"#0d0887\"],[0.1111111111111111,\"#46039f\"],[0.2222222222222222,\"#7201a8\"],[0.3333333333333333,\"#9c179e\"],[0.4444444444444444,\"#bd3786\"],[0.5555555555555556,\"#d8576b\"],[0.6666666666666666,\"#ed7953\"],[0.7777777777777778,\"#fb9f3a\"],[0.8888888888888888,\"#fdca26\"],[1.0,\"#f0f921\"]]}],\"choropleth\":[{\"type\":\"choropleth\",\"colorbar\":{\"outlinewidth\":0,\"ticks\":\"\"}}],\"histogram2d\":[{\"type\":\"histogram2d\",\"colorbar\":{\"outlinewidth\":0,\"ticks\":\"\"},\"colorscale\":[[0.0,\"#0d0887\"],[0.1111111111111111,\"#46039f\"],[0.2222222222222222,\"#7201a8\"],[0.3333333333333333,\"#9c179e\"],[0.4444444444444444,\"#bd3786\"],[0.5555555555555556,\"#d8576b\"],[0.6666666666666666,\"#ed7953\"],[0.7777777777777778,\"#fb9f3a\"],[0.8888888888888888,\"#fdca26\"],[1.0,\"#f0f921\"]]}],\"heatmap\":[{\"type\":\"heatmap\",\"colorbar\":{\"outlinewidth\":0,\"ticks\":\"\"},\"colorscale\":[[0.0,\"#0d0887\"],[0.1111111111111111,\"#46039f\"],[0.2222222222222222,\"#7201a8\"],[0.3333333333333333,\"#9c179e\"],[0.4444444444444444,\"#bd3786\"],[0.5555555555555556,\"#d8576b\"],[0.6666666666666666,\"#ed7953\"],[0.7777777777777778,\"#fb9f3a\"],[0.8888888888888888,\"#fdca26\"],[1.0,\"#f0f921\"]]}],\"heatmapgl\":[{\"type\":\"heatmapgl\",\"colorbar\":{\"outlinewidth\":0,\"ticks\":\"\"},\"colorscale\":[[0.0,\"#0d0887\"],[0.1111111111111111,\"#46039f\"],[0.2222222222222222,\"#7201a8\"],[0.3333333333333333,\"#9c179e\"],[0.4444444444444444,\"#bd3786\"],[0.5555555555555556,\"#d8576b\"],[0.6666666666666666,\"#ed7953\"],[0.7777777777777778,\"#fb9f3a\"],[0.8888888888888888,\"#fdca26\"],[1.0,\"#f0f921\"]]}],\"contourcarpet\":[{\"type\":\"contourcarpet\",\"colorbar\":{\"outlinewidth\":0,\"ticks\":\"\"}}],\"contour\":[{\"type\":\"contour\",\"colorbar\":{\"outlinewidth\":0,\"ticks\":\"\"},\"colorscale\":[[0.0,\"#0d0887\"],[0.1111111111111111,\"#46039f\"],[0.2222222222222222,\"#7201a8\"],[0.3333333333333333,\"#9c179e\"],[0.4444444444444444,\"#bd3786\"],[0.5555555555555556,\"#d8576b\"],[0.6666666666666666,\"#ed7953\"],[0.7777777777777778,\"#fb9f3a\"],[0.8888888888888888,\"#fdca26\"],[1.0,\"#f0f921\"]]}],\"surface\":[{\"type\":\"surface\",\"colorbar\":{\"outlinewidth\":0,\"ticks\":\"\"},\"colorscale\":[[0.0,\"#0d0887\"],[0.1111111111111111,\"#46039f\"],[0.2222222222222222,\"#7201a8\"],[0.3333333333333333,\"#9c179e\"],[0.4444444444444444,\"#bd3786\"],[0.5555555555555556,\"#d8576b\"],[0.6666666666666666,\"#ed7953\"],[0.7777777777777778,\"#fb9f3a\"],[0.8888888888888888,\"#fdca26\"],[1.0,\"#f0f921\"]]}],\"mesh3d\":[{\"type\":\"mesh3d\",\"colorbar\":{\"outlinewidth\":0,\"ticks\":\"\"}}],\"scatter\":[{\"fillpattern\":{\"fillmode\":\"overlay\",\"size\":10,\"solidity\":0.2},\"type\":\"scatter\"}],\"parcoords\":[{\"type\":\"parcoords\",\"line\":{\"colorbar\":{\"outlinewidth\":0,\"ticks\":\"\"}}}],\"scatterpolargl\":[{\"type\":\"scatterpolargl\",\"marker\":{\"colorbar\":{\"outlinewidth\":0,\"ticks\":\"\"}}}],\"bar\":[{\"error_x\":{\"color\":\"#2a3f5f\"},\"error_y\":{\"color\":\"#2a3f5f\"},\"marker\":{\"line\":{\"color\":\"#E5ECF6\",\"width\":0.5},\"pattern\":{\"fillmode\":\"overlay\",\"size\":10,\"solidity\":0.2}},\"type\":\"bar\"}],\"scattergeo\":[{\"type\":\"scattergeo\",\"marker\":{\"colorbar\":{\"outlinewidth\":0,\"ticks\":\"\"}}}],\"scatterpolar\":[{\"type\":\"scatterpolar\",\"marker\":{\"colorbar\":{\"outlinewidth\":0,\"ticks\":\"\"}}}],\"histogram\":[{\"marker\":{\"pattern\":{\"fillmode\":\"overlay\",\"size\":10,\"solidity\":0.2}},\"type\":\"histogram\"}],\"scattergl\":[{\"type\":\"scattergl\",\"marker\":{\"colorbar\":{\"outlinewidth\":0,\"ticks\":\"\"}}}],\"scatter3d\":[{\"type\":\"scatter3d\",\"line\":{\"colorbar\":{\"outlinewidth\":0,\"ticks\":\"\"}},\"marker\":{\"colorbar\":{\"outlinewidth\":0,\"ticks\":\"\"}}}],\"scattermapbox\":[{\"type\":\"scattermapbox\",\"marker\":{\"colorbar\":{\"outlinewidth\":0,\"ticks\":\"\"}}}],\"scatterternary\":[{\"type\":\"scatterternary\",\"marker\":{\"colorbar\":{\"outlinewidth\":0,\"ticks\":\"\"}}}],\"scattercarpet\":[{\"type\":\"scattercarpet\",\"marker\":{\"colorbar\":{\"outlinewidth\":0,\"ticks\":\"\"}}}],\"carpet\":[{\"aaxis\":{\"endlinecolor\":\"#2a3f5f\",\"gridcolor\":\"white\",\"linecolor\":\"white\",\"minorgridcolor\":\"white\",\"startlinecolor\":\"#2a3f5f\"},\"baxis\":{\"endlinecolor\":\"#2a3f5f\",\"gridcolor\":\"white\",\"linecolor\":\"white\",\"minorgridcolor\":\"white\",\"startlinecolor\":\"#2a3f5f\"},\"type\":\"carpet\"}],\"table\":[{\"cells\":{\"fill\":{\"color\":\"#EBF0F8\"},\"line\":{\"color\":\"white\"}},\"header\":{\"fill\":{\"color\":\"#C8D4E3\"},\"line\":{\"color\":\"white\"}},\"type\":\"table\"}],\"barpolar\":[{\"marker\":{\"line\":{\"color\":\"#E5ECF6\",\"width\":0.5},\"pattern\":{\"fillmode\":\"overlay\",\"size\":10,\"solidity\":0.2}},\"type\":\"barpolar\"}],\"pie\":[{\"automargin\":true,\"type\":\"pie\"}]},\"layout\":{\"autotypenumbers\":\"strict\",\"colorway\":[\"#636efa\",\"#EF553B\",\"#00cc96\",\"#ab63fa\",\"#FFA15A\",\"#19d3f3\",\"#FF6692\",\"#B6E880\",\"#FF97FF\",\"#FECB52\"],\"font\":{\"color\":\"#2a3f5f\"},\"hovermode\":\"closest\",\"hoverlabel\":{\"align\":\"left\"},\"paper_bgcolor\":\"white\",\"plot_bgcolor\":\"#E5ECF6\",\"polar\":{\"bgcolor\":\"#E5ECF6\",\"angularaxis\":{\"gridcolor\":\"white\",\"linecolor\":\"white\",\"ticks\":\"\"},\"radialaxis\":{\"gridcolor\":\"white\",\"linecolor\":\"white\",\"ticks\":\"\"}},\"ternary\":{\"bgcolor\":\"#E5ECF6\",\"aaxis\":{\"gridcolor\":\"white\",\"linecolor\":\"white\",\"ticks\":\"\"},\"baxis\":{\"gridcolor\":\"white\",\"linecolor\":\"white\",\"ticks\":\"\"},\"caxis\":{\"gridcolor\":\"white\",\"linecolor\":\"white\",\"ticks\":\"\"}},\"coloraxis\":{\"colorbar\":{\"outlinewidth\":0,\"ticks\":\"\"}},\"colorscale\":{\"sequential\":[[0.0,\"#0d0887\"],[0.1111111111111111,\"#46039f\"],[0.2222222222222222,\"#7201a8\"],[0.3333333333333333,\"#9c179e\"],[0.4444444444444444,\"#bd3786\"],[0.5555555555555556,\"#d8576b\"],[0.6666666666666666,\"#ed7953\"],[0.7777777777777778,\"#fb9f3a\"],[0.8888888888888888,\"#fdca26\"],[1.0,\"#f0f921\"]],\"sequentialminus\":[[0.0,\"#0d0887\"],[0.1111111111111111,\"#46039f\"],[0.2222222222222222,\"#7201a8\"],[0.3333333333333333,\"#9c179e\"],[0.4444444444444444,\"#bd3786\"],[0.5555555555555556,\"#d8576b\"],[0.6666666666666666,\"#ed7953\"],[0.7777777777777778,\"#fb9f3a\"],[0.8888888888888888,\"#fdca26\"],[1.0,\"#f0f921\"]],\"diverging\":[[0,\"#8e0152\"],[0.1,\"#c51b7d\"],[0.2,\"#de77ae\"],[0.3,\"#f1b6da\"],[0.4,\"#fde0ef\"],[0.5,\"#f7f7f7\"],[0.6,\"#e6f5d0\"],[0.7,\"#b8e186\"],[0.8,\"#7fbc41\"],[0.9,\"#4d9221\"],[1,\"#276419\"]]},\"xaxis\":{\"gridcolor\":\"white\",\"linecolor\":\"white\",\"ticks\":\"\",\"title\":{\"standoff\":15},\"zerolinecolor\":\"white\",\"automargin\":true,\"zerolinewidth\":2},\"yaxis\":{\"gridcolor\":\"white\",\"linecolor\":\"white\",\"ticks\":\"\",\"title\":{\"standoff\":15},\"zerolinecolor\":\"white\",\"automargin\":true,\"zerolinewidth\":2},\"scene\":{\"xaxis\":{\"backgroundcolor\":\"#E5ECF6\",\"gridcolor\":\"white\",\"linecolor\":\"white\",\"showbackground\":true,\"ticks\":\"\",\"zerolinecolor\":\"white\",\"gridwidth\":2},\"yaxis\":{\"backgroundcolor\":\"#E5ECF6\",\"gridcolor\":\"white\",\"linecolor\":\"white\",\"showbackground\":true,\"ticks\":\"\",\"zerolinecolor\":\"white\",\"gridwidth\":2},\"zaxis\":{\"backgroundcolor\":\"#E5ECF6\",\"gridcolor\":\"white\",\"linecolor\":\"white\",\"showbackground\":true,\"ticks\":\"\",\"zerolinecolor\":\"white\",\"gridwidth\":2}},\"shapedefaults\":{\"line\":{\"color\":\"#2a3f5f\"}},\"annotationdefaults\":{\"arrowcolor\":\"#2a3f5f\",\"arrowhead\":0,\"arrowwidth\":1},\"geo\":{\"bgcolor\":\"white\",\"landcolor\":\"#E5ECF6\",\"subunitcolor\":\"white\",\"showland\":true,\"showlakes\":true,\"lakecolor\":\"white\"},\"title\":{\"x\":0.05},\"mapbox\":{\"style\":\"light\"}}},\"scene\":{\"xaxis\":{\"nticks\":4,\"range\":[-1.2,1.2]},\"yaxis\":{\"nticks\":4,\"range\":[-1.2,1.2]},\"zaxis\":{\"nticks\":4,\"range\":[-1.2,1.2]},\"aspectmode\":\"cube\",\"bgcolor\":\"white\"},\"width\":600,\"height\":600,\"title\":{\"text\":\"Rotation of (1.0, 0.0, 0.0) by 3.29 radians around (0.05, 0.3, 0.5)\"},\"paper_bgcolor\":\"lightgrey\"},                        {\"responsive\": true}                    ).then(function(){\n",
       "                            \n",
       "var gd = document.getElementById('e47edbd8-4af4-4137-98b4-cd95c97075db');\n",
       "var x = new MutationObserver(function (mutations, observer) {{\n",
       "        var display = window.getComputedStyle(gd).display;\n",
       "        if (!display || display === 'none') {{\n",
       "            console.log([gd, 'removed!']);\n",
       "            Plotly.purge(gd);\n",
       "            observer.disconnect();\n",
       "        }}\n",
       "}});\n",
       "\n",
       "// Listen for the removal of the full notebook cells\n",
       "var notebookContainer = gd.closest('#notebook-container');\n",
       "if (notebookContainer) {{\n",
       "    x.observe(notebookContainer, {childList: true});\n",
       "}}\n",
       "\n",
       "// Listen for the clearing of the current output cell\n",
       "var outputEl = gd.closest('.output');\n",
       "if (outputEl) {{\n",
       "    x.observe(outputEl, {childList: true});\n",
       "}}\n",
       "\n",
       "                        })                };                            </script>        </div>\n",
       "</body>\n",
       "</html>"
      ]
     },
     "metadata": {},
     "output_type": "display_data"
    }
   ],
   "source": [
    "p = (1.,0.,0.)\n",
    "ax = (.05, .3, .5)\n",
    "ang = 3.29\n",
    "\n",
    "myfig = make3dplotly(\n",
    "f'Rotation of ({p[0]}, {p[1]}, {p[2]}) by {ang} radians around \\\n",
    "({ax[0]}, {ax[1]}, {ax[2]})'\n",
    ")\n",
    "final_point = plot_rotation_plotly(p, ax, ang, myfig, 'rotation')\n",
    "display(myfig)"
   ]
  },
  {
   "cell_type": "markdown",
   "metadata": {
    "id": "D8nmvH2aQq0J"
   },
   "source": [
    "#### Widgets Setup\n",
    "\n"
   ]
  },
  {
   "cell_type": "markdown",
   "metadata": {
    "id": "fWwZJVB5LpvB"
   },
   "source": [
    "To add interactivity to a plot using IPython, we can use widgets."
   ]
  },
  {
   "cell_type": "code",
   "execution_count": 8,
   "metadata": {
    "id": "_prUoVvgRKqr"
   },
   "outputs": [],
   "source": [
    "def plot_rotation_mpl(point, axis, angle, figure, name):\n",
    "    t = np.linspace(0.0, angle, 100)\n",
    "    x = np.zeros(100)\n",
    "    y = np.zeros(100)\n",
    "    z = np.zeros(100)\n",
    "    for i in range(100):\n",
    "        p = rotate_quaternion(point, axis, t[i])\n",
    "        x[i] = p[0]\n",
    "        y[i] = p[1]\n",
    "        z[i] = p[2]\n",
    "    figure.plot(x, y, z, label=name)\n",
    "    ax_x = np.array([0, axis[0]])\n",
    "    ax_y = np.array([0, axis[1]])\n",
    "    ax_z = np.array([0, axis[2]])\n",
    "    figure.plot(ax_x, ax_y, ax_z, label='Axis')\n",
    "    return(rotate_quaternion(point, axis, angle))\n",
    "\n",
    "def make3dfigure():\n",
    "    figure = plt.figure().add_subplot(projection='3d')\n",
    "    figure.set_xlabel('x')\n",
    "    figure.set_ylabel('y')\n",
    "    figure.set_zlabel('z')\n",
    "    return figure\n",
    "\n",
    "def plot3axes(figure):\n",
    "    figure.plot((-1.3,1.3), (0,0), (0,0), label='x')\n",
    "    figure.plot((0,0), (-1.3,1.3), (0,0), label='y')\n",
    "    figure.plot((0,0), (0,0), (-1.3,1.3), label='z')\n",
    "\n",
    "def plot_widget_rotation(px, py, pz, axx, axy, axz, angle, elevation, azimuth):\n",
    "    my_widget_fig = make3dfigure()\n",
    "    my_widget_fig.view_init(elevation,azimuth)\n",
    "    plot3axes(my_widget_fig)\n",
    "    plot_rotation_mpl([px, py, pz], [axx, axy, axz], angle, my_widget_fig, 'path')\n",
    "    plt.legend()\n",
    "    plt.show()\n",
    "\n",
    "def get_rotation_widgets():\n",
    "    angle_slider = FloatSlider(\n",
    "        value=ang, min=0., max=2*math.pi, step=0.1, description=\"Angle\")\n",
    "    axx_slider = FloatSlider(\n",
    "        value=ax[0], min=0., max=1.0, step=0.1, description=\"Axis x\")\n",
    "    axy_slider = FloatSlider(\n",
    "        value=ax[1], min=0., max=1.0, step=0.1, description=\"Axis y\")\n",
    "    axz_slider = FloatSlider(\n",
    "        value=ax[2], min=0., max=1.0, step=0.1, description=\"Axis z\")\n",
    "    px_slider = FloatSlider(\n",
    "        value=p[0], min=-1., max=1.0, step=0.1, description=\"Point x\")\n",
    "    py_slider = FloatSlider(\n",
    "        value=p[1], min=-1., max=1.0, step=0.1, description=\"Point y\")\n",
    "    pz_slider = FloatSlider(\n",
    "        value=p[2], min=-1., max=1.0, step=0.1, description=\"Point z\")\n",
    "    elevation_slider= IntSlider(\n",
    "        value=35, min=-90, max=90,step=5, continuous_update=False)\n",
    "    azimuth_slider= IntSlider(\n",
    "        value=45, min=0, max=360,step=5, continuous_update=False)\n",
    "    return [px_slider, py_slider, pz_slider, axx_slider, axy_slider, axz_slider, angle_slider, elevation_slider, azimuth_slider]"
   ]
  },
  {
   "cell_type": "markdown",
   "metadata": {
    "id": "6vpOgSc_4dj5"
   },
   "source": [
    "Now we can visualize rotations using MatPlotLib and widgets:"
   ]
  },
  {
   "cell_type": "code",
   "execution_count": 9,
   "metadata": {
    "colab": {
     "base_uri": "https://localhost:8080/",
     "height": 698,
     "referenced_widgets": [
      "fd23253230f94de7a93dcd56535fb85a",
      "c03c4e1ef4a641988729c3c7c34d728c",
      "a1664c74c8e24c1eb4dd08f040fc4699",
      "cc6bcd389ab14981aa14eee780b9073a",
      "95842d129b36482a9f105f305a6902f1",
      "1602b28b5abb48e4b45b4fb7208b8714",
      "818e790ab6b5421aad948ee9118f95d9",
      "238ee2514d01448a97d48050105682e0",
      "b861afe6e6574b9b9efd8d0171e924fd",
      "01092ed4efd14bdb8325bc1cfcea8521",
      "d6c30162647443c889c384cb11e94d75",
      "ed7d05148d1d463db4928a852c979052",
      "a561c4d45bff451486ac6dd367e49ee3",
      "e5f60297f270497ba3b0bfdd121e9582",
      "55f6272fd9044bf7a29078c05916b3d0",
      "d23eacc13e4b447c8c2399e66a89efb3",
      "9882d2874ab840a8ad7b35bbf652d214",
      "d739d74ed8e64c909d7f57b78bb83ef0",
      "b4ea4fabf46f42389b588c75a8046a21",
      "f2fea79a3ebd4397ae458bc14cb9f064",
      "b9136524c0e547488ce91fd07db42435",
      "7d8d684b03ad432492281f3c0ab74f49",
      "445cbcf7e3f7470f81af8a16ba9cc28f",
      "ea4c66b7a6e340b5a40ab93f2b9dd223",
      "2505067c34b548c8baebd0667c6633e5",
      "526dd0ea48844e028080a76cedafdb19",
      "b13184be77c044828d64753011f68a71",
      "69b663399bc24c93a6e2eacb319244c7",
      "ef599a8144b0408e90bbba7da8303e76",
      "4fa3ec42f2fa46208de8b050e7481f8b",
      "1f5b4dab36a347ff89b034a85a12f22a"
     ]
    },
    "id": "mGepuHante8W",
    "outputId": "6e5c3fa6-91a2-483d-d6ac-50b7b8eab447"
   },
   "outputs": [
    {
     "data": {
      "application/vnd.jupyter.widget-view+json": {
       "model_id": "fd23253230f94de7a93dcd56535fb85a",
       "version_major": 2,
       "version_minor": 0
      },
      "text/plain": [
       "interactive(children=(FloatSlider(value=1.0, description='Point x', max=1.0, min=-1.0), FloatSlider(value=0.0,…"
      ]
     },
     "metadata": {},
     "output_type": "display_data"
    }
   ],
   "source": [
    "(px_slider, py_slider, pz_slider, axx_slider, axy_slider, axz_slider,\n",
    " angle_slider, elevation_slider, azimuth_slider) = get_rotation_widgets()\n",
    "\n",
    "interact(plot_widget_rotation, px=px_slider, py=py_slider, pz=pz_slider,\n",
    "    axx=axx_slider, axy=axy_slider, axz=axz_slider, angle=angle_slider,\n",
    "    elevation=elevation_slider, azimuth=azimuth_slider);"
   ]
  },
  {
   "cell_type": "markdown",
   "metadata": {
    "id": "dkAqIlulaCYo"
   },
   "source": [
    "These quaterions will come back when storing orientation data for the IMUs, but first, filtering the data will be addressed."
   ]
  },
  {
   "cell_type": "markdown",
   "metadata": {
    "id": "BprN_KUPgTjP"
   },
   "source": [
    "# Filters"
   ]
  },
  {
   "cell_type": "markdown",
   "metadata": {
    "id": "aO4JRZPd5AzZ"
   },
   "source": [
    "Here, we will address filtering. We will begin with the g-h (aka the $\\alpha$-$\\beta$) filter and build our way up to the Kalman Filter."
   ]
  },
  {
   "cell_type": "markdown",
   "metadata": {
    "id": "dZzY6FU3OrMo"
   },
   "source": [
    "#### Install ```filterpy```"
   ]
  },
  {
   "cell_type": "code",
   "execution_count": null,
   "metadata": {
    "colab": {
     "base_uri": "https://localhost:8080/"
    },
    "id": "yemC4cWFOtPZ",
    "outputId": "bdb66a85-a308-4bbb-9d5b-ac541a5fc68d"
   },
   "outputs": [
    {
     "name": "stdout",
     "output_type": "stream",
     "text": [
      "Collecting filterpy\n",
      "  Downloading filterpy-1.4.5.zip (177 kB)\n",
      "\u001b[?25l     \u001b[90m━━━━━━━━━━━━━━━━━━━━━━━━━━━━━━━━━━━━━━━━\u001b[0m \u001b[32m0.0/178.0 kB\u001b[0m \u001b[31m?\u001b[0m eta \u001b[36m-:--:--\u001b[0m\r\u001b[2K     \u001b[90m━━━━━━━━━━━━━━━━━━━━━━━━━━━━━━━━━━━━━━━━\u001b[0m \u001b[32m178.0/178.0 kB\u001b[0m \u001b[31m5.0 MB/s\u001b[0m eta \u001b[36m0:00:00\u001b[0m\n",
      "\u001b[?25h  Preparing metadata (setup.py) ... \u001b[?25l\u001b[?25hdone\n",
      "Requirement already satisfied: numpy in /usr/local/lib/python3.10/dist-packages (from filterpy) (1.26.4)\n",
      "Requirement already satisfied: scipy in /usr/local/lib/python3.10/dist-packages (from filterpy) (1.13.1)\n",
      "Requirement already satisfied: matplotlib in /usr/local/lib/python3.10/dist-packages (from filterpy) (3.8.0)\n",
      "Requirement already satisfied: contourpy>=1.0.1 in /usr/local/lib/python3.10/dist-packages (from matplotlib->filterpy) (1.3.0)\n",
      "Requirement already satisfied: cycler>=0.10 in /usr/local/lib/python3.10/dist-packages (from matplotlib->filterpy) (0.12.1)\n",
      "Requirement already satisfied: fonttools>=4.22.0 in /usr/local/lib/python3.10/dist-packages (from matplotlib->filterpy) (4.54.1)\n",
      "Requirement already satisfied: kiwisolver>=1.0.1 in /usr/local/lib/python3.10/dist-packages (from matplotlib->filterpy) (1.4.7)\n",
      "Requirement already satisfied: packaging>=20.0 in /usr/local/lib/python3.10/dist-packages (from matplotlib->filterpy) (24.2)\n",
      "Requirement already satisfied: pillow>=6.2.0 in /usr/local/lib/python3.10/dist-packages (from matplotlib->filterpy) (11.0.0)\n",
      "Requirement already satisfied: pyparsing>=2.3.1 in /usr/local/lib/python3.10/dist-packages (from matplotlib->filterpy) (3.2.0)\n",
      "Requirement already satisfied: python-dateutil>=2.7 in /usr/local/lib/python3.10/dist-packages (from matplotlib->filterpy) (2.8.2)\n",
      "Requirement already satisfied: six>=1.5 in /usr/local/lib/python3.10/dist-packages (from python-dateutil>=2.7->matplotlib->filterpy) (1.16.0)\n",
      "Building wheels for collected packages: filterpy\n",
      "  Building wheel for filterpy (setup.py) ... \u001b[?25l\u001b[?25hdone\n",
      "  Created wheel for filterpy: filename=filterpy-1.4.5-py3-none-any.whl size=110458 sha256=4a02049cb6911dcab64714dece46d89a0a9c508377b07814ae222a6bbce504d8\n",
      "  Stored in directory: /root/.cache/pip/wheels/0f/0c/ea/218f266af4ad626897562199fbbcba521b8497303200186102\n",
      "Successfully built filterpy\n",
      "Installing collected packages: filterpy\n",
      "Successfully installed filterpy-1.4.5\n"
     ]
    }
   ],
   "source": [
    "!pip install filterpy\n",
    "import filterpy.kalman as kf"
   ]
  },
  {
   "cell_type": "markdown",
   "metadata": {
    "id": "ga5OcXfx8B2y"
   },
   "source": [
    "## The g-h Filter"
   ]
  },
  {
   "cell_type": "markdown",
   "metadata": {
    "id": "GOZoEWFByWLf"
   },
   "source": [
    "The g-h filter is a recursive algorithm used to estimate the state of dynamic systems from noisy measurements. One of its applications is tracking the position and velocity of objects. The g-h filter helps smooth out this noisy data by using two parameters, g (alpha) and h (beta), to adjust the level of filtering applied to the position and velocity estimates. By dynamically adjusting these parameters, the filter can be tuned to respond more or less aggressively to changes in the measured data, providing a balance between the system's predictions and real-time observations. This makes it particularly useful for systems where the state changes gradually over time. The g-h filter's simplicity and computational efficiency make it suitable for real-time applications, where computational resources may be limited. It offers a practical solution for integrating noisy sensor data with a predictive model to produce optimal state estimates, much like the Kalman Filter, but with fewer computational demands. Interestingly, the Kalman Filter can be viewed as an advanced version of the g-h filter, employing more sophisticated methods to dynamically update the g and h parameters. Starting with the g-h filter is an excellent entry point for building up to the more complex Kalman Filter, as it lays the foundational understanding of recursive filtering and state estimation. The following code performs a g-h filter on 1 state variable with a fixed g and h."
   ]
  },
  {
   "cell_type": "markdown",
   "metadata": {
    "id": "mNpOPLF9tOQ-"
   },
   "source": [
    "### g-h in Python"
   ]
  },
  {
   "cell_type": "code",
   "execution_count": null,
   "metadata": {
    "cellView": "code",
    "id": "aef1nOWt3X3b"
   },
   "outputs": [],
   "source": [
    "def g_h_filter(data, x0, dx, g, h, dt):\n",
    "    estimates = []\n",
    "    x = x0\n",
    "    for z in data:\n",
    "        #prediction step\n",
    "        xp = x + (dx * dt)\n",
    "\n",
    "        #update step\n",
    "        residual = z - xp\n",
    "        dx += h * (residual / dt)\n",
    "        x = xp + (g * residual)\n",
    "        estimates.append(x)\n",
    "    return np.array(estimates)"
   ]
  },
  {
   "cell_type": "markdown",
   "metadata": {
    "id": "p5GLzKmMtWyU"
   },
   "source": [
    "### The logic behind ```g_h_filter```"
   ]
  },
  {
   "cell_type": "markdown",
   "metadata": {
    "id": "AIUgKu5ppLjM"
   },
   "source": [
    "The arguments passed to the function are:\n",
    "* ```data``` contains the data to be filtered.\n",
    "* ```x0``` is the initial value for our state variable.\n",
    "* ```dx``` is the initial change rate for our state variable.\n",
    "* ```g``` is the g-h's g scale factor.\n",
    "* ```h``` is the g-h's h scale factor.\n",
    "* ```dt``` is the length of the time step.\n",
    "\n",
    "The function then uses the following logic:\n",
    "* Create a list to hold the ```estimates``` and set the initial estimate with ```x = x0```\n",
    "* Iterate through the ```data``` and filter\n",
    "\n",
    "    * Predict the state with ```xp = x + (dx * dt)```. Here, ```x``` is the last extimate and ```(dx * dt)``` is the (rate-of-change × time-step).\n",
    "\n",
    "    * Calculate the ```residual``` as the difference of measurement (```z```) and predicted state (```xp```).\n",
    "\n",
    "    * Update the rate-of-change (```dx```) by adding ```h * (residual / dt)```. The purpose of this is to weight the new information on rate-of-change with a factor of $h$, and our previous information with a factor of $(1-h)$. To see why this is the correct adjustment to ```dx```, note that this is equivalent to \\begin{aligned}\\text{new dx} &= \\text{old dx} + h\\left(\\frac{\\text{residual}}{\\text{dt}}\\right)\\\\ &= \\text{old dx} + h\\left(\\frac{\\text{z - xp}}{\\text{dt}}\\right)\\\\ &= \\text{old dx} + h\\left(\\frac{\\text{z - (x + (old dx} * \\text{dt))}}{\\text{dt}}\\right)\\\\ &= \\text{old dx} + h\\left(\\frac{\\text{z - x}}{\\text{dt}} - \\text{old dx}\\right)\\\\ &= \\text{old dx}(1-h) + h\\left(\\frac{\\text{z - x}}{\\text{dt}}\\right).\\end{aligned} Thus, ```dx``` is correctly adjusted by weighting the the $\\text{dx}$ suggested by the measurement with a factor of $h$, and weighting the old $\\text{dx}$ with a factor of $(1-h)$.\n",
    "\n",
    "    * Update the state of with ```x = xp + (g * residual)```. Similarly, the purpose of this is to weight the new information on the state with a factor of $g$, and our previous information with a factor of $(1-g)$. To see that this is the correct expression for ```x```, note that this is equivalent to \\begin{aligned}\\text{x} &= \\text{xp} + (g * \\text{residual})\\\\ &= \\text{xp} + g * \\text{(z - xp)}\\\\ &= \\text{xp}(1-g) + g(\\text{z}),\\end{aligned} as desired.\n",
    "\n",
    "    * Append the estimate ```x``` to the list of estimates\n",
    "* Return the list ```estimates``` as a numpy array.\n",
    "\n",
    "This g-h filter logic is the same general framework that a kalman filter uses, though the kalman is a bit more complex than the simple g-h."
   ]
  },
  {
   "cell_type": "markdown",
   "metadata": {
    "id": "1OGJPOSgosuV"
   },
   "source": [
    "## The Kalman Filter"
   ]
  },
  {
   "cell_type": "markdown",
   "metadata": {
    "id": "8KrSEOzUQM01"
   },
   "source": [
    "The Kalman Filter is a recursive algorithm used to estimate the state of dynamic systems from noisy measurements. One of its application is tracking the orientation of an Inertial Measurement Unit (IMU). IMUs provide data on acceleration and angular velocity but are prone to noise and drift over time. The Kalman Filter helps fuse this noisy sensor data with a predictive model to more accurately estimate the IMU's orientation given the measurement errors. In general, the Kalman Filter's ability to combine system predictions with real-time observations to produce optimal state estimates makes it useful in dynamic systems where the state changes over time. It is also computationally efficient due to its recursive nature, making it suitable for real-time applications."
   ]
  },
  {
   "cell_type": "markdown",
   "metadata": {
    "id": "wI0OA2bqQQoV"
   },
   "source": [
    "### Kalman Equations for Linear Systems"
   ]
  },
  {
   "cell_type": "markdown",
   "metadata": {
    "id": "khxQzdC1pNy1"
   },
   "source": [
    "The simple kalman filter estimates an nx1 column vector state variable \\(x_k\\), based on some mx1 column vector measurement \\(z_k\\), using a system model:\n",
    "\\begin{align*}\n",
    "\\text{state transition matrix} &: A  &(& \\text{nxn matrix}), \\\\\n",
    "\\text{process noise covariance} &: Q  &(& \\text{nxn diagonal matrix}), \\\\\n",
    "\\text{measurement covariance} &: R  &(& \\text{mxm matrix}). \\\\\n",
    "\\text{measurement model matrix} &: H  &(& \\text{mxn matrix}), \\\\\n",
    "\\end{align*}\n",
    "\n",
    "After the system model has been set, there are five steps of the simple kalman filter: \\\\\n",
    "\n",
    "0. Set initial values\n",
    "\\begin{align*}\n",
    "\\widehat{x}_0 &= \\text{initial state} &(& \\text{nx1 column vector}), \\\\\n",
    "P_0 &= \\text{initial error covariance} &(& \\text{nxn matrix}).\n",
    "\\end{align*}\n",
    "\n",
    "1. Predict state and error covariance:\n",
    "\\begin{align*}\n",
    "\\widehat{x}^-_k &= A\\widehat{x}_{k-1}, \\\\\n",
    "P^-_K &= AP_{k-1}A^t+Q.\n",
    "\\end{align*}\n",
    "\n",
    "2. Compute kalman gain:\n",
    "$$K_k = P^-_kH^T(HP^-_kH^T+R)^{-1}.$$\n",
    "\n",
    "3. Compute the estimate (state update equation):\n",
    "$$\\widehat{x}_k = \\widehat{x}^-_k+K_k (z_k-H\\widehat{x}^-_k).$$\n",
    "\n",
    "4. Compute the error covariance:\n",
    "$$P_K = P^-_k-K_kHP^-_k.$$\n",
    "\n",
    "Steps 1-4 are then repeated to recursively update with each new $z_k$.\n",
    "\n",
    "*Notes:*\n",
    "1. *Here, the minus-sign superscripts denote predicted values before measurement*\n",
    "\n",
    "2. *The term $(z_k-H\\widehat{x}^-_k)$ in the state update equation is important, because it represents the gap between our prediction, and our measurement. Because of this importance, it is given the name \"measurement residual\" or \"innovation\"*\n",
    "\n",
    "This can be applied to both uni-variate or multi-variate systems, and the notation is unfortunates not always consistent. Below is an explanation from Roger Labbe in his book [Kalman and Bayesian Filters in Python](https://github.com/rlabbe/Kalman-and-Bayesian-Filters-in-Python) (note that Labbe refers to the state transition as $\\mathbf F$ rather than $\\mathbf A$, uses the overbar rather than the \"-\" superscript, and does not use hat notation):\n",
    "\n",
    ">\"[the univariate and multivariate equations]... are quite similar.\n",
    ">\n",
    "><u>**Predict**</u>\n",
    ">\n",
    ">$\\begin{array}{|l|l|l|}\n",
    "\\hline\n",
    "\\text{Univariate} & \\text{Univariate} & \\text{Multivariate}\\\\\n",
    "& \\text{(Kalman form)} & \\\\\n",
    "\\hline\n",
    "\\bar \\mu = \\mu + \\mu_{f_x} & \\bar x = x + dx & \\bar{\\mathbf x} = \\mathbf{Fx} + \\mathbf{Bu}\\\\\n",
    "\\bar\\sigma^2 = \\sigma_x^2 + \\sigma_{f_x}^2 & \\bar P = P + Q & \\bar{\\mathbf P} = \\mathbf{FPF}^\\mathsf T + \\mathbf Q \\\\\n",
    "\\hline\n",
    "\\end{array}$\n",
    ">\n",
    ">Without worrying about the specifics of the linear algebra, we can see that:\n",
    "$\\mathbf x,\\, \\mathbf P$ are the state mean and covariance. They correspond to $x$ and $\\sigma^2$.\n",
    "$\\mathbf F$ is the *state transition function*. When multiplied by $\\bf x$ it computes the prior.\n",
    "$\\mathbf Q$ is the process covariance. It corresponds to $\\sigma^2_{f_x}$.\n",
    "$\\mathbf B$ and $\\mathbf u$ are new to us. They let us model control inputs to the system.\n",
    ">\n",
    "><u>**Update**</u>\n",
    ">\n",
    ">$\\begin{array}{|l|l|l|}\n",
    "\\hline\n",
    "\\text{Univariate} & \\text{Univariate} & \\text{Multivariate}\\\\\n",
    "& \\text{(Kalman form)} & \\\\\n",
    "\\hline\n",
    "& y = z - \\bar x & \\mathbf y = \\mathbf z - \\mathbf{H\\bar x} \\\\\n",
    "& K = \\frac{\\bar P}{\\bar P+R}&\n",
    "\\mathbf K = \\mathbf{\\bar{P}H}^\\mathsf T (\\mathbf{H\\bar{P}H}^\\mathsf T + \\mathbf R)^{-1} \\\\\n",
    "\\mu=\\frac{\\bar\\sigma^2\\, \\mu_z + \\sigma_z^2 \\, \\bar\\mu} {\\bar\\sigma^2 + \\sigma_z^2} & x = \\bar x + Ky & \\mathbf x = \\bar{\\mathbf x} + \\mathbf{Ky} \\\\\n",
    "\\sigma^2 = \\frac{\\sigma_1^2\\sigma_2^2}{\\sigma_1^2+\\sigma_2^2} & P = (1-K)\\bar P &\n",
    "\\mathbf P = (\\mathbf I - \\mathbf{KH})\\mathbf{\\bar{P}} \\\\\n",
    "\\hline\n",
    "\\end{array}$\n",
    ">\n",
    ">$\\mathbf H$ is the measurement function. We haven't seen this yet in this book and I'll explain it later. If you mentally remove $\\mathbf H$ from the equations, you should be able to see these equations are similar as well.\n",
    "$\\mathbf z,\\, \\mathbf R$ are the measurement mean and noise covariance. They correspond to $z$ and $\\sigma_z^2$ in the univariate filter (I've substituted $\\mu$ with $x$ for the univariate equations to make the notation as similar as possible).\n",
    "$\\mathbf y$ and $\\mathbf K$ are the residual and Kalman gain.\n",
    "The details will be different than the univariate filter because these are vectors and matrices, but the concepts are exactly the same:\n",
    "-  Use a Gaussian to represent our estimate of the state and error\n",
    "-  Use a Gaussian to represent the measurement and its error\n",
    "-  Use a Gaussian to represent the process model\n",
    "-  Use the process model to predict the next state (the prior)\n",
    "-  Form an estimate part way between the measurement and the prior\n",
    ">\n",
    ">Your job as a designer will be to design the state $\\left(\\mathbf x, \\mathbf P\\right)$, the process $\\left(\\mathbf F, \\mathbf Q\\right)$, the measurement $\\left(\\mathbf z, \\mathbf R\\right)$, and the  measurement function $\\mathbf H$. If the system has control inputs, such as a robot, you will also design $\\mathbf B$ and $\\mathbf u$.\"\n",
    "\n",
    "To get the hang of this, lets try applying it to a simplified system before we tackle the whole problem of the IMU."
   ]
  },
  {
   "cell_type": "markdown",
   "metadata": {
    "id": "FvSA0Tm7VhQk"
   },
   "source": [
    "### Estimating Position from Velocity (Linear Example)"
   ]
  },
  {
   "cell_type": "markdown",
   "metadata": {
    "id": "mwnYsvLkVpbN"
   },
   "source": [
    "Suppose we have a sensor which gives us measurements of its velocity along the global axes in the form\n",
    "$$z = [v_x, v_y, v_z]^T,$$\n",
    "and we want to estimate its position along these world axes using a state variable of the form\n",
    "$$x = [p_x, p_y, p_z, v_x, v_y, v_z]^T.$$"
   ]
  },
  {
   "cell_type": "markdown",
   "metadata": {
    "id": "JdJog0OHumzz"
   },
   "source": [
    "#### A - State Transition (Linear)"
   ]
  },
  {
   "cell_type": "markdown",
   "metadata": {
    "id": "j-T3zMXGuqm2"
   },
   "source": [
    "Here, to build our state transition matrix $\\mathbf A$ (which Labbe calls $\\mathbf F$), we want a matrix which satisfies\n",
    "$$\\widehat x^-_k = \\mathbf A\\cdot\\widehat x_{k-1}.$$\n",
    "Since $\\widehat x^-_k$ is 6-dimensional, $\\mathbf A$ will be a 6x6 matrix. If we don't expect the velocity to change much, then we probably want to use\n",
    "$$\\begin{bmatrix}\n",
    "1 & 0 & 0 & \\Delta t & 0 & 0\\\\\n",
    "0 & 1 & 0 & 0 & \\Delta t & 0\\\\\n",
    "0 & 0 & 1 & 0 & 0 & \\Delta t\\\\\n",
    "0 & 0 & 0 & 1 & 0 & 0\\\\\n",
    "0 & 0 & 0 & 0 & 1 & 0\\\\\n",
    "0 & 0 & 0 & 0 & 0 & 1\n",
    "\\end{bmatrix}\n",
    "\\begin{bmatrix}\n",
    "p_x\\\\\n",
    "p_y\\\\\n",
    "p_z\\\\\n",
    "v_x\\\\\n",
    "v_y\\\\\n",
    "v_z\\end{bmatrix}$$\n",
    "in order to update the positions based on our velocity information, so the matrix on the left can be $\\mathbf A$."
   ]
  },
  {
   "cell_type": "markdown",
   "metadata": {
    "id": "d8wxpcQ4xvBz"
   },
   "source": [
    "#### Q - Proccess (Linear)"
   ]
  },
  {
   "cell_type": "markdown",
   "metadata": {
    "id": "lF_6cMMgx6RU"
   },
   "source": [
    "The process noise covariance matrix Q represents the uncertainties in the system dynamics. For our state vector, a reasonable choice for Q would be:\n",
    "$$Q = \\begin{bmatrix}\n",
    "\\sigma_p^2 & 0 & 0 & 0 & 0 & 0\\\\\n",
    "0 & \\sigma_p^2 & 0 & 0 & 0 & 0\\\\\n",
    "0 & 0 & \\sigma_p^2 & 0 & 0 & 0\\\\\n",
    "0 & 0 & 0 & \\sigma_v^2 & 0 & 0\\\\\n",
    "0 & 0 & 0 & 0 & \\sigma_v^2 & 0\\\\\n",
    "0 & 0 & 0 & 0 & 0 & \\sigma_v^2\n",
    "\\end{bmatrix},$$\n",
    "Where: $\\sigma_p^2$ is the variance in the position components, and $\\sigma_v^2$ is the variance in the velocity components. The specific values for these variances would depend on the characteristics of the system and the expected process noise."
   ]
  },
  {
   "cell_type": "markdown",
   "metadata": {
    "id": "WrdKfPRvzFvP"
   },
   "source": [
    "#### R - Measurement Covariance (Linear)"
   ]
  },
  {
   "cell_type": "markdown",
   "metadata": {
    "id": "YOEW6V7azKXV"
   },
   "source": [
    "The measurement covariance matrix R represents the uncertainties in our velocity measurements. Since our measurement vector z = [vx, vy, vz] is 3-dimensional, R would be a 3x3 matrix:\n",
    "$$R = \\begin{bmatrix}\n",
    "\\sigma_{vx}^2 & 0 & 0\\\\\\\\\n",
    "0 & \\sigma_{vy}^2 & 0\\\\\\\\\n",
    "0 & 0 & \\sigma_{vz}^2\n",
    "\\end{bmatrix}$$\n",
    "Where $\\sigma_{vx}^2$ is the variance in x-velocity measurements, $\\sigma_{vy}^2$ is the variance in y-velocity measurements, and $\\sigma_{vz}^2$ is the variance in z-velocity measurements. If the sensor has similar noise characteristics in all directions, all these values could be set equal, like:\n",
    "$$R = \\begin{bmatrix}\n",
    "\\sigma_v^2 & 0 & 0\\\\\\\\\n",
    "0 & \\sigma_v^2 & 0\\\\\\\\\n",
    "0 & 0 & \\sigma_v^2\n",
    "\\end{bmatrix}$$\n",
    "The value of $\\sigma_v^2$ would typically come from your sensor's specifications or from experimental characterization of the sensor's noise. For the sake of simplicity, let's use the second option for this example, where all axes have the same variance.\n"
   ]
  },
  {
   "cell_type": "markdown",
   "metadata": {
    "id": "NuQWZdnP4xcN"
   },
   "source": [
    "#### H - Measurment Function (Linear)"
   ]
  },
  {
   "cell_type": "markdown",
   "metadata": {
    "id": "UChk6hQK45vt"
   },
   "source": [
    "We want to be able to calculate the residual $y$ using\n",
    "$$y = z_k-H\\widehat{x}^-_k,$$\n",
    "and since $z$ and $x$ are 3 and 6 dimensional, respectively, we are looking for a 3x6 matrix. Since we have a linear relationship between our state x=[px,py,pz,vx,vy,vz] and measurements.\n",
    "H would be:\n",
    "$$H = \\begin{bmatrix}\n",
    "0 & 0 & 0 & 1 & 0 & 0\\\\\n",
    "0 & 0 & 0 & 0 & 1 & 0\\\\\n",
    "0 & 0 & 0 & 0 & 0 & 1\n",
    "\\end{bmatrix}.$$\n",
    "This H matrix simply \"picks out\" the velocity components from our state vector to relate them to our velocity measurements."
   ]
  },
  {
   "cell_type": "markdown",
   "metadata": {
    "id": "9N9UnM36nX7M"
   },
   "source": [
    "#### Putting it All Together (Linear)"
   ]
  },
  {
   "cell_type": "markdown",
   "metadata": {
    "id": "_hB3Jmdyniy5"
   },
   "source": [
    "So to recap, we have:\n",
    "\\begin{align}\n",
    "z &= [v_x, v_y, v_z]^T,\\\\\n",
    "x &= [p_x, p_y, p_z, v_x, v_y, v_z]^T,\\\\\n",
    "\\mathbf A &= \\begin{bmatrix}\n",
    "1 & 0 & 0 & \\Delta t & 0 & 0\\\\\n",
    "0 & 1 & 0 & 0 & \\Delta t & 0\\\\\n",
    "0 & 0 & 1 & 0 & 0 & \\Delta t\\\\\n",
    "0 & 0 & 0 & 1 & 0 & 0\\\\\n",
    "0 & 0 & 0 & 0 & 1 & 0\\\\\n",
    "0 & 0 & 0 & 0 & 0 & 1\n",
    "\\end{bmatrix},\\\\\n",
    "Q &= \\begin{bmatrix}\n",
    "\\sigma_p^2 & 0 & 0 & 0 & 0 & 0\\\\\n",
    "0 & \\sigma_p^2 & 0 & 0 & 0 & 0\\\\\n",
    "0 & 0 & \\sigma_p^2 & 0 & 0 & 0\\\\\n",
    "0 & 0 & 0 & \\sigma_v^2 & 0 & 0\\\\\n",
    "0 & 0 & 0 & 0 & \\sigma_v^2 & 0\\\\\n",
    "0 & 0 & 0 & 0 & 0 & \\sigma_v^2\n",
    "\\end{bmatrix},\\\\\n",
    "R &= \\begin{bmatrix}\n",
    "\\sigma_v^2 & 0 & 0\\\\\\\\\n",
    "0 & \\sigma_v^2 & 0\\\\\\\\\n",
    "0 & 0 & \\sigma_v^2\n",
    "\\end{bmatrix},\\\\\n",
    "H &= \\begin{bmatrix}\n",
    "0 & 0 & 0 & 1 & 0 & 0\\\\\n",
    "0 & 0 & 0 & 0 & 1 & 0\\\\\n",
    "0 & 0 & 0 & 0 & 0 & 1\n",
    "\\end{bmatrix}.\n",
    "\\end{align}\n",
    "\n",
    "Now, we must choose our initial values for the initial state $\\widehat{x}_0$ (6x1 column vector), as well as our initial error covariance $P_0$ (6x6 matrix).\n",
    "\n",
    "A reasonable $P_0$ would be:\n",
    "$$P_0 = \\begin{bmatrix}\n",
    "\\sigma_{p0}^2 & 0 & 0 & 0 & 0 & 0\\\\\n",
    "0 & \\sigma_{p0}^2 & 0 & 0 & 0 & 0\\\\\n",
    "0 & 0 & \\sigma_{p0}^2 & 0 & 0 & 0\\\\\n",
    "0 & 0 & 0 & \\sigma_{v0}^2 & 0 & 0\\\\\n",
    "0 & 0 & 0 & 0 & \\sigma_{v0}^2 & 0\\\\\n",
    "0 & 0 & 0 & 0 & 0 & \\sigma_{v0}^2\n",
    "\\end{bmatrix}.$$\n",
    "The values should reflect:\n",
    "- $\\sigma_{p0}^2$: Initial position uncertainty (could be several meters squared if GPS-like, or smaller if more precise initialization)\n",
    "- $\\sigma_{v0}^2$: Initial velocity uncertainty (could be a few meters/second squared)\n",
    "\n",
    "Practical tips for choosing values:\n",
    "- If you have no idea about initial position, use large values (e.g., 100² m²)\n",
    "- If you know starting position precisely, use small values (e.g., 0.1² m²)\n",
    "- For velocity, if starting from rest, you might use small values (e.g., 0.1² (m/s)²)\n",
    "- Better to overestimate than underestimate - the filter will converge if P_0 is too large, but might not if it's too small\n",
    "\n",
    "As for $\\widehat{x}_0$, we may choose\n",
    "$$\\widehat{x}_0 = [0,0,0,0,0,0]^T$$\n",
    "if we think the sensor will be stationary to begin with, and we aren't compelled to place the origin elsewhere.\n",
    "\n",
    "Lets put this into code."
   ]
  },
  {
   "cell_type": "markdown",
   "metadata": {
    "id": "mjeiiZpRyByv"
   },
   "source": [
    "#### Putting it into Code (Linear)"
   ]
  },
  {
   "cell_type": "code",
   "execution_count": null,
   "metadata": {
    "colab": {
     "base_uri": "https://localhost:8080/"
    },
    "id": "xEv88J3Na_J0",
    "outputId": "cc609862-ed76-459f-eb71-290fb5f9f7c6"
   },
   "outputs": [
    {
     "name": "stdout",
     "output_type": "stream",
     "text": [
      "[[0.]\n",
      " [0.]\n",
      " [0.]]\n",
      "[[0.5]\n",
      " [0. ]\n",
      " [0. ]]\n",
      "[[1.]\n",
      " [0.]\n",
      " [0.]]\n"
     ]
    }
   ],
   "source": [
    "dataset_test = np.array([np.array([0., 0., 0.]).reshape(-1,1),\n",
    "                         np.array([.5, 0., 0.]).reshape(-1,1),\n",
    "                         np.array([1., 0., 0.]).reshape(-1,1)])\n",
    "for i in dataset_test:\n",
    "    print(i)"
   ]
  },
  {
   "cell_type": "code",
   "execution_count": null,
   "metadata": {
    "colab": {
     "base_uri": "https://localhost:8080/"
    },
    "id": "U23WyJaPtpIz",
    "outputId": "7d946cf0-2764-4dd9-823f-7b49783d9674"
   },
   "outputs": [
    {
     "data": {
      "text/plain": [
       "array([[[0.        ],\n",
       "        [0.        ],\n",
       "        [0.        ],\n",
       "        [0.        ],\n",
       "        [0.        ],\n",
       "        [0.        ]],\n",
       "\n",
       "       [[0.08333333],\n",
       "        [0.        ],\n",
       "        [0.        ],\n",
       "        [0.33333333],\n",
       "        [0.        ],\n",
       "        [0.        ]],\n",
       "\n",
       "       [[0.375     ],\n",
       "        [0.        ],\n",
       "        [0.        ],\n",
       "        [0.75      ],\n",
       "        [0.        ],\n",
       "        [0.        ]],\n",
       "\n",
       "       [[0.9       ],\n",
       "        [0.        ],\n",
       "        [0.        ],\n",
       "        [1.2       ],\n",
       "        [0.        ],\n",
       "        [0.        ]]])"
      ]
     },
     "execution_count": 25,
     "metadata": {},
     "output_type": "execute_result"
    }
   ],
   "source": [
    "def kf_pos_vel(px_0=0., py_0=0., pz_0=0., vx_0=0., vy_0=0., vz_0=0., pvar=10.,\n",
    "               vvar=1., dt=.5, dataset=np.array(\n",
    "                        [np.array([0., 0., 0.]).reshape(-1,1),\n",
    "                         np.array([.5, 0., 0.]).reshape(-1,1),\n",
    "                         np.array([1., 0., 0.]).reshape(-1,1),\n",
    "                         np.array([1.5, 0.,0.]).reshape(-1,1)])):\n",
    "    xp = np.array([px_0, py_0, pz_0, vx_0, vy_0, vz_0]).reshape(-1,1)\n",
    "\n",
    "    Pp = np.zeros((6,6))\n",
    "    Pp[0:3,0:3] = np.eye(3) * pvar\n",
    "    Pp[3:6,3:6] = np.eye(3) * vvar\n",
    "\n",
    "    A = np.eye(6)\n",
    "    A[0:3,3:6] = np.eye(3) * dt\n",
    "    At = np.transpose(A)\n",
    "\n",
    "    Q = np.zeros((6,6))\n",
    "    Q[0:3,0:3] = np.eye(3) * pvar\n",
    "    Q[3:6,3:6] = np.eye(3) * vvar\n",
    "\n",
    "    R = np.eye(3) * vvar\n",
    "\n",
    "    H = np.zeros((3,6))\n",
    "    H[0:3,3:6] = np.eye(3)\n",
    "    Ht = np.transpose(H)\n",
    "\n",
    "    filtered_data = []\n",
    "\n",
    "    for z in dataset:\n",
    "        # Compute Kalman Gain\n",
    "        K = Pp @ Ht @ np.linalg.inv(H @ Pp @ Ht + R)\n",
    "        # Compute State Update\n",
    "        x = xp + K @ (z - H @ xp)\n",
    "        filtered_data.append(x)\n",
    "        # Compute Error Covariance\n",
    "        P = (np.eye(6) - K @ H) @ Pp\n",
    "        # Predict State\n",
    "        xp = A @ xp\n",
    "        Pp = A @ Pp @ At + Q\n",
    "    return np.array(filtered_data)\n",
    "\n",
    "\n",
    "kf_pos_vel()"
   ]
  },
  {
   "cell_type": "markdown",
   "metadata": {
    "id": "OohKyuMkRDAh"
   },
   "source": [
    "### Estimating Velocity & Position from Acceleration (Non-Linear Example)\n",
    "\n",
    "(THIS SECTION HAS NOT BEEN UPDATED)"
   ]
  },
  {
   "cell_type": "markdown",
   "metadata": {
    "id": "PjSAwV7fSYbt"
   },
   "source": [
    "Now, suppose we have a sensor which gives us measurements of its acceleration (NOT velocity) along the global axes in the form\n",
    "$$z_k = [ax_k, ay_k, az_k]^T,$$\n",
    "and we want to estimate its position and velocity along these world axes using a state variable of the form\n",
    "$$\\widehat x_k = [px_k, py_k, pz_k, vx_k, vy_k, vz_k]^T.$$\n",
    "We could extend our state to a 9x1 vector and include acceleration, but there is another way aswell. Since acceleration does not have a linear relationship to position and instead has second derivative relationship, we will adjust our equations to account for this non-linearity."
   ]
  },
  {
   "cell_type": "markdown",
   "metadata": {
    "id": "8Y8Zj9GOSbJZ"
   },
   "source": [
    "\n",
    "#### A - State Transition (Non-Linear)"
   ]
  },
  {
   "cell_type": "markdown",
   "metadata": {
    "id": "03-GE6L9pafj"
   },
   "source": [
    "The following state transtion function $f(x)$ propogates (or \"evolves\") the state forward in time:\n",
    "$$f(\\widehat x_k) =\n",
    "\\begin{bmatrix}\n",
    "px_k + vx_k \\cdot dt\\\\\n",
    "py_k + vy_k \\cdot dt\\\\\n",
    "pz_k + vz_k \\cdot dt\\\\\n",
    "vx_k\\\\\n",
    "vy_k\\\\\n",
    "vz_k\n",
    "\\end{bmatrix}$$\n",
    "In this case, taking the jacobian of this matrix actually ends up giving us the same matrix\n",
    "$$\\mathbf A =\n",
    "\\begin{bmatrix}\n",
    "1 & 0 & 0 & \\Delta t & 0 & 0\\\\\n",
    "0 & 1 & 0 & 0 & \\Delta t & 0\\\\\n",
    "0 & 0 & 1 & 0 & 0 & \\Delta t\\\\\n",
    "0 & 0 & 0 & 1 & 0 & 0\\\\\n",
    "0 & 0 & 0 & 0 & 1 & 0\\\\\n",
    "0 & 0 & 0 & 0 & 0 & 1\n",
    "\\end{bmatrix}.$$"
   ]
  },
  {
   "cell_type": "markdown",
   "metadata": {
    "id": "x9d1YtnSTIzU"
   },
   "source": [
    "#### Q - Proccess (Non-Linear)"
   ]
  },
  {
   "cell_type": "markdown",
   "metadata": {
    "id": "4TE-9wAuToYW"
   },
   "source": [
    "The process noise covariance matrix Q represents the uncertainties in the system dynamics. For our state vector, a reasonable choice for Q would be:\n",
    "$$Q = \\begin{bmatrix}\n",
    "\\sigma_p^2 & 0 & 0 & 0 & 0 & 0\\\\\n",
    "0 & \\sigma_p^2 & 0 & 0 & 0 & 0\\\\\n",
    "0 & 0 & \\sigma_p^2 & 0 & 0 & 0\\\\\n",
    "0 & 0 & 0 & \\sigma_v^2 & 0 & 0\\\\\n",
    "0 & 0 & 0 & 0 & \\sigma_v^2 & 0\\\\\n",
    "0 & 0 & 0 & 0 & 0 & \\sigma_v^2\n",
    "\\end{bmatrix},$$\n",
    "Where: $\\sigma_p^2$ is the variance in the position components, and $\\sigma_v^2$ is the variance in the velocity components. The specific values for these variances would depend on the characteristics of the system and the expected process noise."
   ]
  },
  {
   "cell_type": "markdown",
   "metadata": {
    "id": "bZUuVYkBUIf0"
   },
   "source": [
    "#### R - Measurement Covariance (Non-Linear)"
   ]
  },
  {
   "cell_type": "markdown",
   "metadata": {
    "id": "Ye-62MT9UGPB"
   },
   "source": [
    "The measurement covariance matrix R represents the uncertainties in our acceleration measurements. Since our measurement vector z = [ax, ay, az] is 3-dimensional, R would be a 3x3 matrix:\n",
    "$$R = \\begin{bmatrix}\n",
    "\\sigma_{ax}^2 & 0 & 0\\\\\\\\\n",
    "0 & \\sigma_{ay}^2 & 0\\\\\\\\\n",
    "0 & 0 & \\sigma_{az}^2\n",
    "\\end{bmatrix}$$\n",
    "Where $\\sigma_{ax}^2$ is the variance in x-acceleration measurements, $\\sigma_{ay}^2$ is the variance in y-acceleration measurements, and $\\sigma_{az}^2$ is the variance in z-acceleration measurements. If the accelerometer has similar noise characteristics in all directions, all these values could be set equal, like:\n",
    "$$R = \\begin{bmatrix}\n",
    "\\sigma_a^2 & 0 & 0\\\\\\\\\n",
    "0 & \\sigma_a^2 & 0\\\\\\\\\n",
    "0 & 0 & \\sigma_a^2\n",
    "\\end{bmatrix}$$\n",
    "The value of $\\sigma_a^2$ would typically come from your sensor's specifications or from experimental characterization of the sensor's noise.\n"
   ]
  },
  {
   "cell_type": "markdown",
   "metadata": {
    "id": "zIwLh9KpTMIB"
   },
   "source": [
    "#### H - Measurement Function (Non-Linear)"
   ]
  },
  {
   "cell_type": "markdown",
   "metadata": {
    "id": "GJyzHI1pUYKb"
   },
   "source": [
    "the measurement function $h(x)$ relates the state variables (positions and velocities) to the acceleration measurements:\n",
    "$$h(\\widehat x_k^-) =\n",
    "\\begin{bmatrix}\n",
    "vx^2 + vy^2 + vz^2\\\\\n",
    "0\\\\\n",
    "0\n",
    "\\end{bmatrix}.$$"
   ]
  },
  {
   "cell_type": "markdown",
   "metadata": {
    "id": "npYjAqNT15n7"
   },
   "source": [
    "## **Applying this to IMU Data**\n",
    "\n",
    "Let's explore the math here in the context of IMU data. In our state vector, we would like to keep track of the\n",
    "- position,\n",
    "- velocity,\n",
    "- accelaration (optional),\n",
    "- orientation,\n",
    "- rotational velocity.\n",
    "\n",
    "If we represent position, velocity, acceleration, and rotational velocity  with respect to the global $x$-$y$-$z$-axes, and we represent orientation using quaternions, then we will be working with a state variable of the form\n",
    "$$\\mathbf x_k = [px_k, py_k, pz_k, vx_k, vy_k, vz_k, ax_k, ay_k, az_k, q0_k, q1_k, q2_k, q3_k, \\omega x_k, \\omega y_k, \\omega z_k]^T.$$\n",
    "Since the sensor will make measurement relative to the local pitch-roll-yaw-axes, we will have measurements of the form $$\\mathbf z_k = \\left[a_{pitch}, a_{roll}, a_{yaw}, \\omega_{pitch}, \\omega_{roll}, \\omega_{yaw}\\right]^T.$$\n",
    "Since our measurements will use a different coordinate system than our state variable, we will probably want to have some internal computation that lets us convert between local and world axes. One way to do this would be to stick to our quaternion guns, but due to numpy's optimization of linear algebra, this matrix can be more efficient:\n",
    "$$\\mathbf R_k = \\begin{bmatrix}\n",
    "1 - 2[(q2_k)^2 + (q3_k)^2] & 2[q_1 (q2_k) - (q0_k) (q3_k)] & 2[(q1_k) (q3_k) + (q0_k) (q2_k)] \\\\\n",
    "2[(q1_k) (q2_k) + (q0_k) (q3_k)] & 1 - 2[(q1_k)^2 + (q3_k)^2] & 2[(q2_k) (q3_k) - (q0_k) (q1_k)] \\\\\n",
    "2[(q1_k) (q3_k) - (q0_k) (q2_k)] & 2[(q2_k) (q3_k) + (q0_k) (q1_k)] & 1 - 2[(q1_k)^2 + (q2_k)^2]\\end{bmatrix}.$$\n",
    "Specifically, this rotation matrix $\\mathbf R_k$ transforms vectors from the IMU frame (pitch-roll-yaw-axes) to the global frame ($x$-$y$-$z$-axes). Now that we have this in our toolbox, let's tackle the design of the filter."
   ]
  },
  {
   "cell_type": "markdown",
   "metadata": {
    "id": "eP7pyhOQO1gB"
   },
   "source": [
    "### <u>**Designing x, P: State**</u>"
   ]
  },
  {
   "cell_type": "markdown",
   "metadata": {
    "id": "SUXGMDw3_wqR"
   },
   "source": [
    "The state of the kalman filter is described by state variable $\\mathbf x$ and the covariance $\\mathbf P$. In this case, $\\mathbf x$ will be the 16x1 vector described above (though we could simplify it to 13x1 by removing linear acceleration). The state covariance $\\mathbf P$ will be a 16x16 (or 13x13) matrix which we have yet to construct."
   ]
  },
  {
   "cell_type": "markdown",
   "metadata": {
    "id": "7ao4JyuO9qpj"
   },
   "source": [
    "### <u>**Designing F, Q: Process**</u>"
   ]
  },
  {
   "cell_type": "markdown",
   "metadata": {
    "id": "v-ptlkdD4a9Z"
   },
   "source": [
    "The process of the kalman filter is described by $\\mathbf F$ (the state transition function) and $\\mathbf Q$ (the process covariance). First, let's address $\\mathbf F$. There are a few things we want $\\mathbf F$ to do.\n",
    "\n",
    "1. We want it to update the postion $\\mathbf p = [px_k, py_k, pz_k]^T$ in a way that satisfies\n",
    "$$\\mathbf p_{k+1} = \\mathbf p_k + (\\mathbf v_k)dt,$$ where $\\mathbf v = [vx_k, vy_k, vz_k]^T$, and $dt$ is the time step between measurements.\n",
    "2. We  want it to update the velocity in way that satisfies\n",
    "$$\\mathbf v_{k+1} = \\mathbf v_k + (\\mathbf a_k - g)dt,$$\n",
    "where $\\mathbf a = [ax_k, ay_k, az_k]^T$, and the $-g$ term corrects for gravity.\n",
    "3. We want it to update the orientation in a way that satisfies\n",
    "$$\\mathbf q_{k+1} = \\mathbf q_k+\\frac12dt\\cdot\\mathbf q_k\\otimes\\begin{bmatrix}0 \\\\ \\omega x_k \\\\ \\omega y_k \\\\ \\omega z_k\\end{bmatrix},$$\n",
    "where $\\otimes$ denotes quaternion multiplication.\n",
    "\n",
    "If we represent acceleration in our state vector in a way that already accounts for gravity (meaning we built a measurement function $\\mathbf H$ such that $||\\mathbf a||$ should be zero when the sensor is stationary), then we could have a state transition function like\n",
    "$$\\widehat x_{k+1}^- =\n",
    "f\\left(\\begin{bmatrix}\n",
    "px_k\\\\ py_k\\\\ pz_k\\\\ vx_k\\\\ vy_k\\\\ vz_k\\\\ ax_k\\\\ ay_k\\\\ az_k\\\\ q0_k\\\\ q1_k\\\\ q2_k\\\\ q3_k\\\\ \\omega x_k\\\\ \\omega y_k\\\\ \\omega z_k\n",
    "\\end{bmatrix}\\right) =\n",
    "\\begin{bmatrix}\n",
    "px_k + vx_k \\cdot dt\\\\\n",
    "py_k + vy_k \\cdot dt\\\\\n",
    "pz_k + vz_k \\cdot dt\\\\\n",
    "vx_k + ax_k \\cdot dt\\\\\n",
    "vy_k + ay_k \\cdot dt\\\\\n",
    "vz_k + az_k \\cdot dt\\\\\n",
    "ax_k\\\\\n",
    "ay_k\\\\\n",
    "az_k\\\\\n",
    "\\text{rotation}(q0_k)\\\\\n",
    "\\text{rotation}(q1_k)\\\\\n",
    "\\text{rotation}(q2_k)\\\\\n",
    "\\text{rotation}(q3_k)\\\\\n",
    "\\omega x_k\\\\\n",
    "\\omega y_k\\\\\n",
    "\\omega z_k\\end{bmatrix},$$\n",
    "where $\\text{rotation}(q)$ represents the evolution of the orientation. Therefore, a reasonable state transition matrix might look like\n",
    "$$\\begin{bmatrix}\n",
    "1&0&0&dt&0&0&0&0&0&0&0&0&0&0&0&0\\\\\n",
    "0&1&0&0&dt&0&0&0&0&0&0&0&0&0&0&0\\\\\n",
    "0&0&1&0&0&dt&0&0&0&0&0&0&0&0&0&0\\\\\n",
    "0&0&0&1&0&0&dt&0&0&0&0&0&0&0&0&0\\\\\n",
    "0&0&0&0&1&0&0&dt&0&0&0&0&0&0&0&0\\\\\n",
    "0&0&0&0&0&1&0&0&dt&0&0&0&0&0&0&0\\\\\n",
    "0&0&0&0&0&0&1&0&0&0&0&0&0&0&0&0\\\\\n",
    "0&0&0&0&0&0&0&1&0&0&0&0&0&0&0&0\\\\\n",
    "0&0&0&0&0&0&0&0&1&0&0&0&0&0&0&0\\\\\n",
    "\\cdot&\\cdot&\\cdot&\\cdot&\\cdot&\\cdot&\\cdot&\\cdot&\\cdot&\\cdot&\\cdot&\\cdot&\\cdot&\\cdot&\\cdot&\\cdot\\\\\n",
    "\\cdot&\\cdot&\\cdot&\\cdot&\\cdot&\\cdot&\\cdot&\\cdot&\\cdot&\\cdot&\\cdot&\\cdot&\\cdot&\\cdot&\\cdot&\\cdot\\\\\n",
    "\\cdot&\\cdot&\\cdot&\\cdot&\\cdot&\\cdot&\\cdot&\\cdot&\\cdot&\\cdot&\\cdot&\\cdot&\\cdot&\\cdot&\\cdot&\\cdot\\\\\n",
    "\\cdot&\\cdot&\\cdot&\\cdot&\\cdot&\\cdot&\\cdot&\\cdot&\\cdot&\\cdot&\\cdot&\\cdot&\\cdot&\\cdot&\\cdot&\\cdot\\\\\n",
    "0&0&0&0&0&0&0&0&0&0&0&0&0&1&0&0\\\\\n",
    "0&0&0&0&0&0&0&0&0&0&0&0&0&0&1&0\\\\\n",
    "0&0&0&0&0&0&0&0&0&0&0&0&0&0&0&1\\\\\n",
    "\\end{bmatrix}$$\n",
    "where the 10th through 13th rows will represent the quaternion rotation. So how do we set these rows to satisfy our rotation update equation\n",
    "$$\\mathbf q_{k+1} = \\mathbf q_k+\\frac12dt\\cdot\\mathbf q_k\\otimes\\begin{bmatrix}0 \\\\ \\omega_x \\\\ \\omega_y \\\\ \\omega_z\\end{bmatrix}?$$\n",
    "Let's start by expanding our quaternion multiplication term.\n",
    "\n",
    "We know that given two quaternions $q_1 = w_1 + x_1i + y_1j + z_1k$ and $q_2 = w_2 + x_2i + y_2j + z_2k$, their product $q = q_1 \\cdot q_2$ results in a new quaternion that represents the combined rotation of $q_1$ followed by $q_2$. The product $q = q_1 \\otimes q_2$ is calculated using the formula:\n",
    "\\begin{align}\n",
    "q=q_1 \\otimes q_2=&\\ \\ \\ \\left(w_1w_2 - x_1x_2 - y_1y_2 - z_1z_2\\right) \\\\\n",
    "&+ \\left(w_1x_2 + x_1w_2 + y_1z_2 - z_1y_2\\right)i \\\\\n",
    "&+ \\left(w_1y_2 - x_1z_2 + y_1w_2 + z_1x_2\\right)j \\\\\n",
    "&+ \\left(w_1z_2 + x_1y_2 - y_1x_2 + z_1w_2\\right)k.\n",
    "\\end{align}\n",
    "Substituting\n",
    "\\begin{align}\n",
    "\\begin{bmatrix}w_1\\\\x_1\\\\y_1\\\\z_1\\end{bmatrix} &= \\begin{bmatrix}q0_k\\\\q1_k\\\\q2_k\\\\q3_k\\end{bmatrix},\\\\\n",
    "\\begin{bmatrix}w_2\\\\x_2\\\\y_2\\\\z_2\\end{bmatrix} &= \\begin{bmatrix}0 \\\\ \\omega_x \\\\ \\omega_y \\\\ \\omega_z\\end{bmatrix},\n",
    "\\end{align}\n",
    "gives\n",
    "\\begin{align}\n",
    "q_k\\otimes\\begin{bmatrix}0 \\\\ \\omega_x \\\\ \\omega_y \\\\ \\omega_z\\end{bmatrix} &= \\begin{bmatrix}q0_k \\\\ q1_k \\\\ q2_k \\\\ q3_k\\end{bmatrix}\\begin{bmatrix}0 \\\\ \\omega_x \\\\ \\omega_y \\\\ \\omega_z\\end{bmatrix} \\\\\n",
    "&= \\left((q0_k)(0) - (q1_k)(\\omega x_k) - (q2_k)(\\omega y_k) - (q3_k)(\\omega z_k)\\right) \\\\\n",
    "&\\ \\ \\ \\ + \\left((q0_k)(\\omega x_k) + (q1_k)(0) + (q2_k)(\\omega z_k) - (q3_k)(\\omega y_k)\\right)i \\\\\n",
    "&\\ \\ \\ \\ + \\left((q0_k)(\\omega y_k) - (q1_k)(\\omega z_k) + (q2_k)(0) + (q3_k)(\\omega x_k)\\right)j \\\\\n",
    "&\\ \\ \\ \\ + \\left((q0_k)(\\omega z_k) + (q1_k)(\\omega y_k) - (q2_k)(\\omega x_k) + (q3_k)(0)\\right)k.\n",
    "\\end{align}\n",
    "\n",
    "Writing this result in vector form, we see that each component is in the form $[a(q0_k)+b(q1_k)+c(q2_k)+d(q3_k)]$, for some constants $a$, $b$, $c$, and $d$:\n",
    "$$\n",
    "\\begin{bmatrix}\n",
    "(q0_k)(0) &- (q1_k)(\\omega x_k) &- (q2_k)(\\omega y_k) &- (q3_k)(\\omega z_k) \\\\\n",
    "(q0_k)(\\omega x_k) &+ (q1_k)(0) &+ (q2_k)(\\omega z_k) &- (q3_k)(\\omega y_k) \\\\\n",
    "(q0_k)(\\omega y_k) &- (q1_k)(\\omega z_k) &+ (q2_k)(0) &+ (q3_k)(\\omega x_k) \\\\\n",
    "(q0_k)(\\omega z_k) &+ (q1_k)(\\omega y_k) &- (q2_k)(\\omega x_k) &+ (q3_k)(0) \\\\\n",
    "\\end{bmatrix}.$$\n",
    "\n",
    "This is looking quite close to the form we would like for our state transition matrix! We can substite\n",
    "$$q_k\\otimes\\begin{bmatrix}0 \\\\ \\omega_x \\\\ \\omega_y \\\\ \\omega_z\\end{bmatrix} = \\begin{bmatrix}\n",
    "(q0_k)(0) &- (q1_k)(\\omega x_k) &- (q2_k)(\\omega y_k) &- (q3_k)(\\omega z_k) \\\\\n",
    "(q0_k)(\\omega x_k) &+ (q1_k)(0) &+ (q2_k)(\\omega z_k) &- (q3_k)(\\omega y_k) \\\\\n",
    "(q0_k)(\\omega y_k) &- (q1_k)(\\omega z_k) &+ (q2_k)(0) &+ (q3_k)(\\omega x_k) \\\\\n",
    "(q0_k)(\\omega z_k) &+ (q1_k)(\\omega y_k) &- (q2_k)(\\omega x_k) &+ (q3_k)(0) \\\\\n",
    "\\end{bmatrix}$$\n",
    "into our rotation update equation to get\n",
    "$$\\mathbf q_{k+1} = \\mathbf q_k+\\frac12dt\\cdot\\begin{bmatrix}\n",
    "(q0_k)(0) &- (q1_k)(\\omega x_k) &- (q2_k)(\\omega y_k) &- (q3_k)(\\omega z_k) \\\\\n",
    "(q0_k)(\\omega x_k) &+ (q1_k)(0) &+ (q2_k)(\\omega z_k) &- (q3_k)(\\omega y_k) \\\\\n",
    "(q0_k)(\\omega y_k) &- (q1_k)(\\omega z_k) &+ (q2_k)(0) &+ (q3_k)(\\omega x_k) \\\\\n",
    "(q0_k)(\\omega z_k) &+ (q1_k)(\\omega y_k) &- (q2_k)(\\omega x_k) &+ (q3_k)(0) \\\\\n",
    "\\end{bmatrix}.$$\n",
    "\n",
    "Writing the whole right side as one vector gives\n",
    "$$\n",
    "\\mathbf q_{k+1} = \\begin{bmatrix}\n",
    "q0_k + (dt/2)((q0_k)(0) - (q1_k)(\\omega x_k) - (q2_k)(\\omega y_k) - (q3_k)(\\omega z_k)) \\\\\n",
    "q1_k + (dt/2)((q0_k)(\\omega x_k) + (q1_k)(0) + (q2_k)(\\omega z_k) - (q3_k)(\\omega y_k)) \\\\\n",
    "q2_k + (dt/2)((q0_k)(\\omega y_k) - (q1_k)(\\omega z_k) + (q2_k)(0) + (q3_k)(\\omega x_k)) \\\\\n",
    "q3_k + (dt/2)((q0_k)(\\omega z_k) + (q1_k)(\\omega y_k) - (q2_k)(\\omega x_k) + (q3_k)(0)) \\\\\n",
    "\\end{bmatrix}.$$\n",
    "\n",
    "Each component is still in the form $[a(q0_k)+b(q1_k)+c(q2_k)+d(q3_k)]$, yay! That means we can now write\n",
    "$$\\widehat x_{k+1}^- = \\begin{bmatrix}\n",
    "1&0&0&dt&0&0&0&0&0&0&0&0&0&0&0&0\\\\\n",
    "0&1&0&0&dt&0&0&0&0&0&0&0&0&0&0&0\\\\\n",
    "0&0&1&0&0&dt&0&0&0&0&0&0&0&0&0&0\\\\\n",
    "0&0&0&1&0&0&dt&0&0&0&0&0&0&0&0&0\\\\\n",
    "0&0&0&0&1&0&0&dt&0&0&0&0&0&0&0&0\\\\\n",
    "0&0&0&0&0&1&0&0&dt&0&0&0&0&0&0&0\\\\\n",
    "0&0&0&0&0&0&1&0&0&0&0&0&0&0&0&0\\\\\n",
    "0&0&0&0&0&0&0&1&0&0&0&0&0&0&0&0\\\\\n",
    "0&0&0&0&0&0&0&0&1&0&0&0&0&0&0&0\\\\\n",
    "0&0&0&0&0&0&0&0&0&1&-(dt\\cdot\\omega x_k)/2&-(dt\\cdot\\omega y_k)/2&-(dt\\cdot\\omega z_k)/2&0&0&0\\\\\n",
    "0&0&0&0&0&0&0&0&0&(dt\\cdot\\omega x_k)/2&1&(dt\\cdot\\omega z_k)/2&-(dt\\cdot\\omega y_k)/2&0&0&0\\\\\n",
    "0&0&0&0&0&0&0&0&0&(dt\\cdot\\omega y_k)/2&-(dt\\cdot\\omega z_k)/2&1&(dt\\cdot\\omega x_k)/2&0&0&0\\\\\n",
    "0&0&0&0&0&0&0&0&0&(dt\\cdot\\omega z_k)/2&(dt\\cdot\\omega y_k)/2&-(dt\\cdot\\omega x_k)/2&1&0&0&0\\\\\n",
    "0&0&0&0&0&0&0&0&0&0&0&0&0&1&0&0\\\\\n",
    "0&0&0&0&0&0&0&0&0&0&0&0&0&0&1&0\\\\\n",
    "0&0&0&0&0&0&0&0&0&0&0&0&0&0&0&1\\\\\n",
    "\\end{bmatrix}\n",
    "\\begin{bmatrix}\n",
    "px_k\\\\ py_k\\\\ pz_k\\\\ vx_k\\\\ vy_k\\\\ vz_k\\\\ ax_k\\\\ ay_k\\\\ az_k\\\\ q0_k\\\\ q1_k\\\\ q2_k\\\\ q3_k\\\\ \\omega x_k\\\\ \\omega y_k\\\\ \\omega z_k\n",
    "\\end{bmatrix}.$$\n",
    "\n",
    "*Notes:*\n",
    "- *We were able to write lines 10-13 of this matrix using our  observation that each component of $\\mathbf q_{k+1}$ was of the form $[a(q0_k)+b(q1_k)+c(q2_k)+d(q3_k)]$, but we could have also found the form of the $\\zeta^\\text{th}$ component to be $[q\\zeta_k + a(\\omega x_k)+b(\\omega y_k)+c(\\omega z_k)]$. This second form will let us write a second, equavalent matrix to help double check we have placed our values correctly.*\n",
    "- *This state transition matrix assumes acceleration at time $t_{k+1}$ will approximately equal acceleration at time $t_k$, which is not necessarily true during jerky events such as heel strike.*"
   ]
  },
  {
   "cell_type": "markdown",
   "metadata": {
    "id": "OitqZll9E--T"
   },
   "source": [
    "### <u>**Designing z, R: Measurement**</u>\n",
    "\n",
    "The kalman filter's measurment is described by the measurement mean $\\mathbf z$ (the 6x1 vector described above), and the noise covariance $\\mathbf R$ (a 6x6 matrix which we have yet to calculate)."
   ]
  },
  {
   "cell_type": "markdown",
   "metadata": {
    "id": "O2kR_tGiYFl-"
   },
   "source": [
    "### <u>**Designing H: Measurement Function**</u>\n",
    "\n",
    "Our given forms of $\\mathbf x_k$ and $\\mathbf z_k$ mean we'll have some 6x16 measurement function $\\mathbf H$ such that\n",
    "$$\\mathbf y = \\mathbf z_k - \\left(\\mathbf H \\mathbf\\cdot\\mathbf x_k\\right).$$\n",
    "Let's look at how we might calculate the correct $\\mathbf H$ matrix here. We see that the first three rows will be dotted with $\\mathbf x_k$ to get the local acceleration, and the next three rows will be dotted with $\\mathbf x_k$ to get the local rotational velocity. Let's start by trying to find the first row of this matrix.\n",
    "\n",
    "We want the first row of $\\mathbf H$ to be a vector $\\overrightarrow{\\mathbf r_1}$ that satisfies\n",
    "$$\\overrightarrow{\\mathbf r_1}\\cdot\\mathbf x_x = a_{pitch}.$$\n",
    "In order to calculate $a_{pitch}$ from our $\\mathbf x_k$, we need to convert between the local axes and the world axes. This a job for $\\mathbf R_k$. Specifically, we would like to convert the world frame velocity\n",
    "$$v_\\text{world} = \\begin{bmatrix}v_x \\\\ v_y \\\\ v_z\\end{bmatrix}$$\n",
    "into to the velocity in the local frame velocity\n",
    "$$v_\\text{local} = \\begin{bmatrix}v_{pitch} \\\\ v_{roll} \\\\ v_{yaw}\\end{bmatrix},$$\n",
    "so that we can determine the local frame acceleration $a_\\text{local}$ using the equation $$a_\\text{local} = \\frac{d(v_\\text{local})}{dt}.$$\n",
    "Since $\\mathbf R_k$ is an orthogonal matrix, we know that the product $\\mathbf R_k\\cdot\\mathbf R_k^T$ is equal to the identity matrix $\\mathbf I_\\text{3x3}$, so we can use the transpose $\\mathbf R_k^T$ to convert from the world frame to the local frame. This tells us that\n",
    "$$a_\\text{local} = \\frac{d\\left(\\mathbf R_k^T\\cdot v_\\text{world}\\right)}{dt}.$$\n",
    "Since the the dot product of $a_\\text{local}$ with our component vector $\\widehat{\\mathbf i}$ is\n",
    "$$a_\\text{local}\\cdot\\widehat{\\mathbf i} = a_\\text{local}\\cdot\\begin{bmatrix}1\\\\0\\\\0\\end{bmatrix} = a_{pitch},$$\n",
    "we have\n",
    "$$\\left(\\frac{d\\left(\\mathbf R_k^T\\cdot v_\\text{world}\\right)}{dt}\\right)\\widehat{\\mathbf i} = a_{pitch}.$$\n",
    "Substituting this into $\\overrightarrow{\\mathbf r_1}\\cdot\\mathbf x_x = a_{pitch},$ we know that the first row of $\\mathbf H$ must be a vector $\\overrightarrow{\\mathbf r_1}$ that satisfies\n",
    "$$\\overrightarrow{\\mathbf r_1}\\cdot\\mathbf x_x = \\left(\\frac{d\\left(\\mathbf R_k^T\\cdot v_\\text{world}\\right)}{dt}\\right)\\widehat{\\mathbf i}.$$\n",
    "By the same logic, the second and third rows of $\\mathbf H$ should satisfy\n",
    "\\begin{align}\n",
    "\\overrightarrow{\\mathbf r_2}\\cdot\\mathbf x_x &= \\left(\\frac{d\\left(\\mathbf R_k^T\\cdot v_\\text{world}\\right)}{dt}\\right)\\widehat{\\mathbf j}, \\\\\n",
    "\\overrightarrow{\\mathbf r_3}\\cdot\\mathbf x_x &= \\left(\\frac{d\\left(\\mathbf R_k^T\\cdot v_\\text{world}\\right)}{dt}\\right)\\widehat{\\mathbf k}.\n",
    "\\end{align}\n",
    "Maybe this can be solved numerically by the computer? I think maybe, but for now let's take a look at the next three rows.\n",
    "\n",
    "We want the fourth row of $\\mathbf H$ to be a vector $\\overrightarrow{\\mathbf r_4}$ that satisfies\n",
    "$$\\overrightarrow{\\mathbf r_4}\\cdot\\mathbf x_x = \\omega_{pitch}.$$\n",
    "Similarly to before, we would like to convert the world frame rotational velocity\n",
    "$$\\omega_\\text{world} = \\begin{bmatrix}\\omega_x \\\\ \\omega_y \\\\ \\omega_z\\end{bmatrix}$$\n",
    "into to the velocity in the local frame velocity\n",
    "$$\\omega_\\text{local} = \\begin{bmatrix}\\omega_{pitch} \\\\ \\omega_{roll} \\\\ \\omega_{yaw}\\end{bmatrix},$$\n",
    "using\n",
    "$$\\mathbf R_k^T\\cdot\\omega_\\text{world} =\\omega_\\text{local}.$$\n",
    "Since $\\omega_\\text{local}\\cdot\\widehat{\\mathbf i} = \\omega_{pitch}$, multiplying both sides by $\\widehat{\\mathbf i}$ gives\n",
    "$$\\left(\\mathbf R_k^T\\cdot\\omega_\\text{world}\\right)\\widehat{\\mathbf i} = \\omega_\\text{local}\\cdot\\widehat{\\mathbf i} = \\omega_{pitch},$$ so we have\n",
    "$$\\overrightarrow{\\mathbf r_4}\\cdot\\mathbf x_x = \\left(\\mathbf R_k^T\\cdot\\omega_\\text{world}\\right)\\widehat{\\mathbf i}.$$\n",
    "Also by the same logic, the 5th and 6th rows of $\\mathbf H$ should satisfy\n",
    "\\begin{align}\n",
    "\\overrightarrow{\\mathbf r_5}\\cdot\\mathbf x_x &= \\left(\\mathbf R_k^T\\cdot\\omega_\\text{world}\\right)\\widehat{\\mathbf j}, \\\\\n",
    "\\overrightarrow{\\mathbf r_6}\\cdot\\mathbf x_x &= \\left(\\mathbf R_k^T\\cdot\\omega_\\text{world}\\right)\\widehat{\\mathbf k}.\n",
    "\\end{align}\n",
    "\n",
    "**Summary of 'Finding H: Measurement Function'**\n",
    "\n",
    "$\\mathbf H$ should have rows $\\overrightarrow{\\mathbf r_1}, \\overrightarrow{\\mathbf r_2}, \\overrightarrow{\\mathbf r_3}, \\overrightarrow{\\mathbf r_4}, \\overrightarrow{\\mathbf r_5}, \\overrightarrow{\\mathbf r_6}$ which satisfy\n",
    "\\begin{align}\n",
    "\\overrightarrow{\\mathbf r_1}\\cdot\\mathbf x_x &= \\left(\\frac{d\\left(\\mathbf R_k^T\\cdot v_\\text{world}\\right)}{dt}\\right)\\widehat{\\mathbf i}, \\\\\n",
    "\\overrightarrow{\\mathbf r_2}\\cdot\\mathbf x_x &= \\left(\\frac{d\\left(\\mathbf R_k^T\\cdot v_\\text{world}\\right)}{dt}\\right)\\widehat{\\mathbf j}, \\\\\n",
    "\\overrightarrow{\\mathbf r_3}\\cdot\\mathbf x_x &= \\left(\\frac{d\\left(\\mathbf R_k^T\\cdot v_\\text{world}\\right)}{dt}\\right)\\widehat{\\mathbf k}, \\\\\n",
    "\\overrightarrow{\\mathbf r_4}\\cdot\\mathbf x_x &= \\left(\\mathbf R_k^T\\cdot\\omega_\\text{world}\\right)\\widehat{\\mathbf i}, \\\\\n",
    "\\overrightarrow{\\mathbf r_5}\\cdot\\mathbf x_x &= \\left(\\mathbf R_k^T\\cdot\\omega_\\text{world}\\right)\\widehat{\\mathbf j}, \\\\\n",
    "\\overrightarrow{\\mathbf r_6}\\cdot\\mathbf x_x &= \\left(\\mathbf R_k^T\\cdot\\omega_\\text{world}\\right)\\widehat{\\mathbf k}.\n",
    "\\end{align}"
   ]
  },
  {
   "cell_type": "markdown",
   "metadata": {
    "id": "eqD3f1yw3eqy"
   },
   "source": [
    "## A03_SSWS_01 Data Example"
   ]
  },
  {
   "cell_type": "markdown",
   "metadata": {
    "id": "eKcanStsY21C"
   },
   "source": [
    "mount google drive:"
   ]
  },
  {
   "cell_type": "code",
   "execution_count": null,
   "metadata": {
    "colab": {
     "base_uri": "https://localhost:8080/"
    },
    "id": "LmsyuuY7U6X3",
    "outputId": "55e6b74d-9262-4d87-b38a-9786ae2189a7"
   },
   "outputs": [
    {
     "name": "stdout",
     "output_type": "stream",
     "text": [
      "Mounted at /content/gdrive\n"
     ]
    }
   ],
   "source": [
    "from google.colab import drive\n",
    "drive.mount('/content/gdrive')\n",
    "# replace with your own drive path\n",
    "drive_path = '/content/gdrive/My Drive/490R_research/A03_SSWS_01_df.csv'"
   ]
  },
  {
   "cell_type": "markdown",
   "metadata": {
    "id": "RbqRZctfU7KV"
   },
   "source": [
    "Read the csv into Pandas:"
   ]
  },
  {
   "cell_type": "code",
   "execution_count": null,
   "metadata": {
    "colab": {
     "base_uri": "https://localhost:8080/",
     "height": 495
    },
    "id": "kPb89cTe_hxL",
    "outputId": "e6004cbb-7961-412d-f8d3-0e724c85aaf3"
   },
   "outputs": [
    {
     "data": {
      "application/vnd.google.colaboratory.intrinsic+json": {
       "type": "dataframe"
      },
      "text/html": [
       "\n",
       "  <div id=\"df-8d31ff00-d4c8-47f3-9fd4-72d83b4f17b3\" class=\"colab-df-container\">\n",
       "    <div>\n",
       "<style scoped>\n",
       "    .dataframe tbody tr th:only-of-type {\n",
       "        vertical-align: middle;\n",
       "    }\n",
       "\n",
       "    .dataframe tbody tr th {\n",
       "        vertical-align: top;\n",
       "    }\n",
       "\n",
       "    .dataframe thead th {\n",
       "        text-align: right;\n",
       "    }\n",
       "</style>\n",
       "<table border=\"1\" class=\"dataframe\">\n",
       "  <thead>\n",
       "    <tr style=\"text-align: right;\">\n",
       "      <th></th>\n",
       "      <th>0</th>\n",
       "      <th>1</th>\n",
       "      <th>2</th>\n",
       "      <th>3</th>\n",
       "      <th>4</th>\n",
       "      <th>5</th>\n",
       "      <th>6</th>\n",
       "      <th>7</th>\n",
       "      <th>8</th>\n",
       "      <th>9</th>\n",
       "      <th>...</th>\n",
       "      <th>11706</th>\n",
       "      <th>11707</th>\n",
       "      <th>11708</th>\n",
       "      <th>11709</th>\n",
       "      <th>11710</th>\n",
       "      <th>11711</th>\n",
       "      <th>11712</th>\n",
       "      <th>11713</th>\n",
       "      <th>11714</th>\n",
       "      <th>11715</th>\n",
       "    </tr>\n",
       "  </thead>\n",
       "  <tbody>\n",
       "    <tr>\n",
       "      <th>DelsysTrignoBase 1: Sensor 4IM ACC Pitch</th>\n",
       "      <td>0.068359</td>\n",
       "      <td>0.068359</td>\n",
       "      <td>0.068359</td>\n",
       "      <td>0.068359</td>\n",
       "      <td>0.067206</td>\n",
       "      <td>0.066917</td>\n",
       "      <td>0.066629</td>\n",
       "      <td>0.066406</td>\n",
       "      <td>0.066406</td>\n",
       "      <td>0.066406</td>\n",
       "      <td>...</td>\n",
       "      <td>0.198848</td>\n",
       "      <td>0.222713</td>\n",
       "      <td>0.246579</td>\n",
       "      <td>0.270444</td>\n",
       "      <td>0.275879</td>\n",
       "      <td>0.275879</td>\n",
       "      <td>0.275879</td>\n",
       "      <td>0.275879</td>\n",
       "      <td>0.275879</td>\n",
       "      <td>0.275879</td>\n",
       "    </tr>\n",
       "    <tr>\n",
       "      <th>DelsysTrignoBase 1: Sensor 4IM ACC Roll</th>\n",
       "      <td>-0.984863</td>\n",
       "      <td>-0.984863</td>\n",
       "      <td>-0.984863</td>\n",
       "      <td>-0.984863</td>\n",
       "      <td>-0.982556</td>\n",
       "      <td>-0.981979</td>\n",
       "      <td>-0.981402</td>\n",
       "      <td>-0.980957</td>\n",
       "      <td>-0.980957</td>\n",
       "      <td>-0.980957</td>\n",
       "      <td>...</td>\n",
       "      <td>-1.375996</td>\n",
       "      <td>-1.352996</td>\n",
       "      <td>-1.329996</td>\n",
       "      <td>-1.306996</td>\n",
       "      <td>-1.301758</td>\n",
       "      <td>-1.301758</td>\n",
       "      <td>-1.301758</td>\n",
       "      <td>-1.301758</td>\n",
       "      <td>-1.301758</td>\n",
       "      <td>-1.301758</td>\n",
       "    </tr>\n",
       "    <tr>\n",
       "      <th>DelsysTrignoBase 1: Sensor 4IM ACC Yaw</th>\n",
       "      <td>-0.242676</td>\n",
       "      <td>-0.242676</td>\n",
       "      <td>-0.242676</td>\n",
       "      <td>-0.242676</td>\n",
       "      <td>-0.242676</td>\n",
       "      <td>-0.242676</td>\n",
       "      <td>-0.242676</td>\n",
       "      <td>-0.242676</td>\n",
       "      <td>-0.242676</td>\n",
       "      <td>-0.242676</td>\n",
       "      <td>...</td>\n",
       "      <td>-0.305525</td>\n",
       "      <td>-0.411008</td>\n",
       "      <td>-0.516490</td>\n",
       "      <td>-0.621973</td>\n",
       "      <td>-0.645996</td>\n",
       "      <td>-0.645996</td>\n",
       "      <td>-0.645996</td>\n",
       "      <td>-0.645996</td>\n",
       "      <td>-0.645996</td>\n",
       "      <td>-0.645996</td>\n",
       "    </tr>\n",
       "    <tr>\n",
       "      <th>DelsysTrignoBase 1: Sensor 4IM GYR Pitch</th>\n",
       "      <td>-9.329268</td>\n",
       "      <td>-9.329268</td>\n",
       "      <td>-9.329268</td>\n",
       "      <td>-9.329268</td>\n",
       "      <td>-9.185208</td>\n",
       "      <td>-9.149194</td>\n",
       "      <td>-9.113179</td>\n",
       "      <td>-9.085366</td>\n",
       "      <td>-9.085366</td>\n",
       "      <td>-9.085366</td>\n",
       "      <td>...</td>\n",
       "      <td>-220.532761</td>\n",
       "      <td>-220.046555</td>\n",
       "      <td>-219.560364</td>\n",
       "      <td>-219.074158</td>\n",
       "      <td>-218.963425</td>\n",
       "      <td>-218.963425</td>\n",
       "      <td>-218.963425</td>\n",
       "      <td>-218.963425</td>\n",
       "      <td>-218.963425</td>\n",
       "      <td>-218.963425</td>\n",
       "    </tr>\n",
       "    <tr>\n",
       "      <th>DelsysTrignoBase 1: Sensor 4IM GYR Roll</th>\n",
       "      <td>2.926829</td>\n",
       "      <td>2.926829</td>\n",
       "      <td>2.926829</td>\n",
       "      <td>2.926829</td>\n",
       "      <td>3.106904</td>\n",
       "      <td>3.151923</td>\n",
       "      <td>3.196941</td>\n",
       "      <td>3.231707</td>\n",
       "      <td>3.231707</td>\n",
       "      <td>3.231707</td>\n",
       "      <td>...</td>\n",
       "      <td>76.105865</td>\n",
       "      <td>78.275772</td>\n",
       "      <td>80.445671</td>\n",
       "      <td>82.615570</td>\n",
       "      <td>83.109756</td>\n",
       "      <td>83.109756</td>\n",
       "      <td>83.109756</td>\n",
       "      <td>83.109756</td>\n",
       "      <td>83.109756</td>\n",
       "      <td>83.109756</td>\n",
       "    </tr>\n",
       "    <tr>\n",
       "      <th>DelsysTrignoBase 1: Sensor 4IM GYR Yaw</th>\n",
       "      <td>-0.670732</td>\n",
       "      <td>-0.670732</td>\n",
       "      <td>-0.670732</td>\n",
       "      <td>-0.670732</td>\n",
       "      <td>-0.634717</td>\n",
       "      <td>-0.625713</td>\n",
       "      <td>-0.616709</td>\n",
       "      <td>-0.609756</td>\n",
       "      <td>-0.609756</td>\n",
       "      <td>-0.609756</td>\n",
       "      <td>...</td>\n",
       "      <td>36.055073</td>\n",
       "      <td>37.711761</td>\n",
       "      <td>39.368446</td>\n",
       "      <td>41.025135</td>\n",
       "      <td>41.402439</td>\n",
       "      <td>41.402439</td>\n",
       "      <td>41.402439</td>\n",
       "      <td>41.402439</td>\n",
       "      <td>41.402439</td>\n",
       "      <td>41.402439</td>\n",
       "    </tr>\n",
       "  </tbody>\n",
       "</table>\n",
       "<p>6 rows × 11716 columns</p>\n",
       "</div>\n",
       "    <div class=\"colab-df-buttons\">\n",
       "\n",
       "  <div class=\"colab-df-container\">\n",
       "    <button class=\"colab-df-convert\" onclick=\"convertToInteractive('df-8d31ff00-d4c8-47f3-9fd4-72d83b4f17b3')\"\n",
       "            title=\"Convert this dataframe to an interactive table.\"\n",
       "            style=\"display:none;\">\n",
       "\n",
       "  <svg xmlns=\"http://www.w3.org/2000/svg\" height=\"24px\" viewBox=\"0 -960 960 960\">\n",
       "    <path d=\"M120-120v-720h720v720H120Zm60-500h600v-160H180v160Zm220 220h160v-160H400v160Zm0 220h160v-160H400v160ZM180-400h160v-160H180v160Zm440 0h160v-160H620v160ZM180-180h160v-160H180v160Zm440 0h160v-160H620v160Z\"/>\n",
       "  </svg>\n",
       "    </button>\n",
       "\n",
       "  <style>\n",
       "    .colab-df-container {\n",
       "      display:flex;\n",
       "      gap: 12px;\n",
       "    }\n",
       "\n",
       "    .colab-df-convert {\n",
       "      background-color: #E8F0FE;\n",
       "      border: none;\n",
       "      border-radius: 50%;\n",
       "      cursor: pointer;\n",
       "      display: none;\n",
       "      fill: #1967D2;\n",
       "      height: 32px;\n",
       "      padding: 0 0 0 0;\n",
       "      width: 32px;\n",
       "    }\n",
       "\n",
       "    .colab-df-convert:hover {\n",
       "      background-color: #E2EBFA;\n",
       "      box-shadow: 0px 1px 2px rgba(60, 64, 67, 0.3), 0px 1px 3px 1px rgba(60, 64, 67, 0.15);\n",
       "      fill: #174EA6;\n",
       "    }\n",
       "\n",
       "    .colab-df-buttons div {\n",
       "      margin-bottom: 4px;\n",
       "    }\n",
       "\n",
       "    [theme=dark] .colab-df-convert {\n",
       "      background-color: #3B4455;\n",
       "      fill: #D2E3FC;\n",
       "    }\n",
       "\n",
       "    [theme=dark] .colab-df-convert:hover {\n",
       "      background-color: #434B5C;\n",
       "      box-shadow: 0px 1px 3px 1px rgba(0, 0, 0, 0.15);\n",
       "      filter: drop-shadow(0px 1px 2px rgba(0, 0, 0, 0.3));\n",
       "      fill: #FFFFFF;\n",
       "    }\n",
       "  </style>\n",
       "\n",
       "    <script>\n",
       "      const buttonEl =\n",
       "        document.querySelector('#df-8d31ff00-d4c8-47f3-9fd4-72d83b4f17b3 button.colab-df-convert');\n",
       "      buttonEl.style.display =\n",
       "        google.colab.kernel.accessAllowed ? 'block' : 'none';\n",
       "\n",
       "      async function convertToInteractive(key) {\n",
       "        const element = document.querySelector('#df-8d31ff00-d4c8-47f3-9fd4-72d83b4f17b3');\n",
       "        const dataTable =\n",
       "          await google.colab.kernel.invokeFunction('convertToInteractive',\n",
       "                                                    [key], {});\n",
       "        if (!dataTable) return;\n",
       "\n",
       "        const docLinkHtml = 'Like what you see? Visit the ' +\n",
       "          '<a target=\"_blank\" href=https://colab.research.google.com/notebooks/data_table.ipynb>data table notebook</a>'\n",
       "          + ' to learn more about interactive tables.';\n",
       "        element.innerHTML = '';\n",
       "        dataTable['output_type'] = 'display_data';\n",
       "        await google.colab.output.renderOutput(dataTable, element);\n",
       "        const docLink = document.createElement('div');\n",
       "        docLink.innerHTML = docLinkHtml;\n",
       "        element.appendChild(docLink);\n",
       "      }\n",
       "    </script>\n",
       "  </div>\n",
       "\n",
       "\n",
       "<div id=\"df-187fbb7c-88c0-4b68-bb11-0801c38720f9\">\n",
       "  <button class=\"colab-df-quickchart\" onclick=\"quickchart('df-187fbb7c-88c0-4b68-bb11-0801c38720f9')\"\n",
       "            title=\"Suggest charts\"\n",
       "            style=\"display:none;\">\n",
       "\n",
       "<svg xmlns=\"http://www.w3.org/2000/svg\" height=\"24px\"viewBox=\"0 0 24 24\"\n",
       "     width=\"24px\">\n",
       "    <g>\n",
       "        <path d=\"M19 3H5c-1.1 0-2 .9-2 2v14c0 1.1.9 2 2 2h14c1.1 0 2-.9 2-2V5c0-1.1-.9-2-2-2zM9 17H7v-7h2v7zm4 0h-2V7h2v10zm4 0h-2v-4h2v4z\"/>\n",
       "    </g>\n",
       "</svg>\n",
       "  </button>\n",
       "\n",
       "<style>\n",
       "  .colab-df-quickchart {\n",
       "      --bg-color: #E8F0FE;\n",
       "      --fill-color: #1967D2;\n",
       "      --hover-bg-color: #E2EBFA;\n",
       "      --hover-fill-color: #174EA6;\n",
       "      --disabled-fill-color: #AAA;\n",
       "      --disabled-bg-color: #DDD;\n",
       "  }\n",
       "\n",
       "  [theme=dark] .colab-df-quickchart {\n",
       "      --bg-color: #3B4455;\n",
       "      --fill-color: #D2E3FC;\n",
       "      --hover-bg-color: #434B5C;\n",
       "      --hover-fill-color: #FFFFFF;\n",
       "      --disabled-bg-color: #3B4455;\n",
       "      --disabled-fill-color: #666;\n",
       "  }\n",
       "\n",
       "  .colab-df-quickchart {\n",
       "    background-color: var(--bg-color);\n",
       "    border: none;\n",
       "    border-radius: 50%;\n",
       "    cursor: pointer;\n",
       "    display: none;\n",
       "    fill: var(--fill-color);\n",
       "    height: 32px;\n",
       "    padding: 0;\n",
       "    width: 32px;\n",
       "  }\n",
       "\n",
       "  .colab-df-quickchart:hover {\n",
       "    background-color: var(--hover-bg-color);\n",
       "    box-shadow: 0 1px 2px rgba(60, 64, 67, 0.3), 0 1px 3px 1px rgba(60, 64, 67, 0.15);\n",
       "    fill: var(--button-hover-fill-color);\n",
       "  }\n",
       "\n",
       "  .colab-df-quickchart-complete:disabled,\n",
       "  .colab-df-quickchart-complete:disabled:hover {\n",
       "    background-color: var(--disabled-bg-color);\n",
       "    fill: var(--disabled-fill-color);\n",
       "    box-shadow: none;\n",
       "  }\n",
       "\n",
       "  .colab-df-spinner {\n",
       "    border: 2px solid var(--fill-color);\n",
       "    border-color: transparent;\n",
       "    border-bottom-color: var(--fill-color);\n",
       "    animation:\n",
       "      spin 1s steps(1) infinite;\n",
       "  }\n",
       "\n",
       "  @keyframes spin {\n",
       "    0% {\n",
       "      border-color: transparent;\n",
       "      border-bottom-color: var(--fill-color);\n",
       "      border-left-color: var(--fill-color);\n",
       "    }\n",
       "    20% {\n",
       "      border-color: transparent;\n",
       "      border-left-color: var(--fill-color);\n",
       "      border-top-color: var(--fill-color);\n",
       "    }\n",
       "    30% {\n",
       "      border-color: transparent;\n",
       "      border-left-color: var(--fill-color);\n",
       "      border-top-color: var(--fill-color);\n",
       "      border-right-color: var(--fill-color);\n",
       "    }\n",
       "    40% {\n",
       "      border-color: transparent;\n",
       "      border-right-color: var(--fill-color);\n",
       "      border-top-color: var(--fill-color);\n",
       "    }\n",
       "    60% {\n",
       "      border-color: transparent;\n",
       "      border-right-color: var(--fill-color);\n",
       "    }\n",
       "    80% {\n",
       "      border-color: transparent;\n",
       "      border-right-color: var(--fill-color);\n",
       "      border-bottom-color: var(--fill-color);\n",
       "    }\n",
       "    90% {\n",
       "      border-color: transparent;\n",
       "      border-bottom-color: var(--fill-color);\n",
       "    }\n",
       "  }\n",
       "</style>\n",
       "\n",
       "  <script>\n",
       "    async function quickchart(key) {\n",
       "      const quickchartButtonEl =\n",
       "        document.querySelector('#' + key + ' button');\n",
       "      quickchartButtonEl.disabled = true;  // To prevent multiple clicks.\n",
       "      quickchartButtonEl.classList.add('colab-df-spinner');\n",
       "      try {\n",
       "        const charts = await google.colab.kernel.invokeFunction(\n",
       "            'suggestCharts', [key], {});\n",
       "      } catch (error) {\n",
       "        console.error('Error during call to suggestCharts:', error);\n",
       "      }\n",
       "      quickchartButtonEl.classList.remove('colab-df-spinner');\n",
       "      quickchartButtonEl.classList.add('colab-df-quickchart-complete');\n",
       "    }\n",
       "    (() => {\n",
       "      let quickchartButtonEl =\n",
       "        document.querySelector('#df-187fbb7c-88c0-4b68-bb11-0801c38720f9 button');\n",
       "      quickchartButtonEl.style.display =\n",
       "        google.colab.kernel.accessAllowed ? 'block' : 'none';\n",
       "    })();\n",
       "  </script>\n",
       "</div>\n",
       "\n",
       "    </div>\n",
       "  </div>\n"
      ],
      "text/plain": [
       "                                                 0         1         2  \\\n",
       "DelsysTrignoBase 1: Sensor 4IM ACC Pitch  0.068359  0.068359  0.068359   \n",
       "DelsysTrignoBase 1: Sensor 4IM ACC Roll  -0.984863 -0.984863 -0.984863   \n",
       "DelsysTrignoBase 1: Sensor 4IM ACC Yaw   -0.242676 -0.242676 -0.242676   \n",
       "DelsysTrignoBase 1: Sensor 4IM GYR Pitch -9.329268 -9.329268 -9.329268   \n",
       "DelsysTrignoBase 1: Sensor 4IM GYR Roll   2.926829  2.926829  2.926829   \n",
       "DelsysTrignoBase 1: Sensor 4IM GYR Yaw   -0.670732 -0.670732 -0.670732   \n",
       "\n",
       "                                                 3         4         5  \\\n",
       "DelsysTrignoBase 1: Sensor 4IM ACC Pitch  0.068359  0.067206  0.066917   \n",
       "DelsysTrignoBase 1: Sensor 4IM ACC Roll  -0.984863 -0.982556 -0.981979   \n",
       "DelsysTrignoBase 1: Sensor 4IM ACC Yaw   -0.242676 -0.242676 -0.242676   \n",
       "DelsysTrignoBase 1: Sensor 4IM GYR Pitch -9.329268 -9.185208 -9.149194   \n",
       "DelsysTrignoBase 1: Sensor 4IM GYR Roll   2.926829  3.106904  3.151923   \n",
       "DelsysTrignoBase 1: Sensor 4IM GYR Yaw   -0.670732 -0.634717 -0.625713   \n",
       "\n",
       "                                                 6         7         8  \\\n",
       "DelsysTrignoBase 1: Sensor 4IM ACC Pitch  0.066629  0.066406  0.066406   \n",
       "DelsysTrignoBase 1: Sensor 4IM ACC Roll  -0.981402 -0.980957 -0.980957   \n",
       "DelsysTrignoBase 1: Sensor 4IM ACC Yaw   -0.242676 -0.242676 -0.242676   \n",
       "DelsysTrignoBase 1: Sensor 4IM GYR Pitch -9.113179 -9.085366 -9.085366   \n",
       "DelsysTrignoBase 1: Sensor 4IM GYR Roll   3.196941  3.231707  3.231707   \n",
       "DelsysTrignoBase 1: Sensor 4IM GYR Yaw   -0.616709 -0.609756 -0.609756   \n",
       "\n",
       "                                                 9  ...       11706  \\\n",
       "DelsysTrignoBase 1: Sensor 4IM ACC Pitch  0.066406  ...    0.198848   \n",
       "DelsysTrignoBase 1: Sensor 4IM ACC Roll  -0.980957  ...   -1.375996   \n",
       "DelsysTrignoBase 1: Sensor 4IM ACC Yaw   -0.242676  ...   -0.305525   \n",
       "DelsysTrignoBase 1: Sensor 4IM GYR Pitch -9.085366  ... -220.532761   \n",
       "DelsysTrignoBase 1: Sensor 4IM GYR Roll   3.231707  ...   76.105865   \n",
       "DelsysTrignoBase 1: Sensor 4IM GYR Yaw   -0.609756  ...   36.055073   \n",
       "\n",
       "                                               11707       11708       11709  \\\n",
       "DelsysTrignoBase 1: Sensor 4IM ACC Pitch    0.222713    0.246579    0.270444   \n",
       "DelsysTrignoBase 1: Sensor 4IM ACC Roll    -1.352996   -1.329996   -1.306996   \n",
       "DelsysTrignoBase 1: Sensor 4IM ACC Yaw     -0.411008   -0.516490   -0.621973   \n",
       "DelsysTrignoBase 1: Sensor 4IM GYR Pitch -220.046555 -219.560364 -219.074158   \n",
       "DelsysTrignoBase 1: Sensor 4IM GYR Roll    78.275772   80.445671   82.615570   \n",
       "DelsysTrignoBase 1: Sensor 4IM GYR Yaw     37.711761   39.368446   41.025135   \n",
       "\n",
       "                                               11710       11711       11712  \\\n",
       "DelsysTrignoBase 1: Sensor 4IM ACC Pitch    0.275879    0.275879    0.275879   \n",
       "DelsysTrignoBase 1: Sensor 4IM ACC Roll    -1.301758   -1.301758   -1.301758   \n",
       "DelsysTrignoBase 1: Sensor 4IM ACC Yaw     -0.645996   -0.645996   -0.645996   \n",
       "DelsysTrignoBase 1: Sensor 4IM GYR Pitch -218.963425 -218.963425 -218.963425   \n",
       "DelsysTrignoBase 1: Sensor 4IM GYR Roll    83.109756   83.109756   83.109756   \n",
       "DelsysTrignoBase 1: Sensor 4IM GYR Yaw     41.402439   41.402439   41.402439   \n",
       "\n",
       "                                               11713       11714       11715  \n",
       "DelsysTrignoBase 1: Sensor 4IM ACC Pitch    0.275879    0.275879    0.275879  \n",
       "DelsysTrignoBase 1: Sensor 4IM ACC Roll    -1.301758   -1.301758   -1.301758  \n",
       "DelsysTrignoBase 1: Sensor 4IM ACC Yaw     -0.645996   -0.645996   -0.645996  \n",
       "DelsysTrignoBase 1: Sensor 4IM GYR Pitch -218.963425 -218.963425 -218.963425  \n",
       "DelsysTrignoBase 1: Sensor 4IM GYR Roll    83.109756   83.109756   83.109756  \n",
       "DelsysTrignoBase 1: Sensor 4IM GYR Yaw     41.402439   41.402439   41.402439  \n",
       "\n",
       "[6 rows x 11716 columns]"
      ]
     },
     "execution_count": 13,
     "metadata": {},
     "output_type": "execute_result"
    }
   ],
   "source": [
    "trial_df = pd.read_csv(drive_path, index_col=0)\n",
    "trial_df.iloc[62:68]"
   ]
  },
  {
   "cell_type": "markdown",
   "metadata": {
    "id": "5zEiPplhEjSR"
   },
   "source": [
    "Object for storing the data"
   ]
  },
  {
   "cell_type": "code",
   "execution_count": null,
   "metadata": {
    "colab": {
     "base_uri": "https://localhost:8080/"
    },
    "id": "jwH3VpXOEmmT",
    "outputId": "3350200e-f697-4e37-8011-9966a331a246"
   },
   "outputs": [
    {
     "name": "stdout",
     "output_type": "stream",
     "text": [
      "ImuData object.\n",
      "name:  'Left Lower Shank A03 ssws 01'\n",
      "frames: 11716\n"
     ]
    },
    {
     "data": {
      "text/plain": [
       "62"
      ]
     },
     "execution_count": 14,
     "metadata": {},
     "output_type": "execute_result"
    }
   ],
   "source": [
    "class ImuData:\n",
    "    def __init__(self, name, df, sensor_num):\n",
    "        self.name = name\n",
    "        self.indices = [row for row in df.index] # list of analog labels\n",
    "\n",
    "        self.start_row_index = self.indices.index(\n",
    "            'DelsysTrignoBase 1: Sensor '+str(sensor_num)+'IM ACC Pitch')\n",
    "\n",
    "        self.all_data = df.iloc[self.start_row_index : self.start_row_index+6]\n",
    "\n",
    "        self.acc_data = self.all_data.iloc[0:3]\n",
    "\n",
    "        sqrt_acc = np.square(self.acc_data)\n",
    "        net_acc_sq = sqrt_acc.apply(np.sum, axis=0, raw=True)\n",
    "        self.net_acc = np.sqrt(net_acc_sq) # net acc for each frame\n",
    "\n",
    "        self.gyr_data = self.all_data.iloc[3:7]\n",
    "\n",
    "        self.frames = len(self.gyr_data.columns)\n",
    "\n",
    "    def __str__(self):\n",
    "        return f\"ImuData object.\\nname:  '{self.name}'\\nframes: {self.frames}\"\n",
    "\n",
    "imuexample = ImuData('Left Lower Shank A03 ssws 01', trial_df, 4)\n",
    "print(imuexample)\n",
    "imuexample.start_row_index"
   ]
  },
  {
   "cell_type": "markdown",
   "metadata": {
    "id": "qiImws5-FNOp"
   },
   "source": [
    "and initialize an instance of the object with the left lower shank IMU, then plot net acc"
   ]
  },
  {
   "cell_type": "code",
   "execution_count": null,
   "metadata": {
    "colab": {
     "base_uri": "https://localhost:8080/",
     "height": 410
    },
    "id": "L92DhfkYFUSy",
    "outputId": "7d0c7b04-df99-422e-9a39-7aadf56f55a0"
   },
   "outputs": [
    {
     "data": {
      "image/png": "[encoded data removed]",
      "text/plain": [
       "<Figure size 1000x400 with 1 Axes>"
      ]
     },
     "metadata": {},
     "output_type": "display_data"
    }
   ],
   "source": [
    "lstrikes = [5016, 6286, 7475, 8615]\n",
    "ltoeoffs = [5800, 7006, 8232]\n",
    "rstrikes = [5697, 6867, 8036]\n",
    "fig = plt.figure(figsize=(10, 4))\n",
    "ax = fig.add_subplot(111)\n",
    "ax.set_title(f'{imuexample.name} Acceleration')\n",
    "ax.set_xlabel('time (milliseconds)')\n",
    "ax.set_ylabel('acceleration (m/s^2)')\n",
    "ax.plot(imuexample.net_acc*9.80665)\n",
    "for i, strike in enumerate(lstrikes):\n",
    "    ax.axvline(x=strike, color='brown', linestyle='--', linewidth=0.5, label='left heel strike' if i == 0 else '')\n",
    "for i, to in enumerate(ltoeoffs):\n",
    "    ax.axvline(x=to, color='black', linestyle='--', linewidth=0.5, label='left toe off' if i == 0 else '')\n",
    "for i, strike in enumerate(rstrikes):\n",
    "    ax.axvline(x=strike, color='grey', linestyle='--', linewidth=0.5, label='right heel strike' if i == 0 else '')\n",
    "for i in range(3):\n",
    "    ax.axvspan(lstrikes[i], ltoeoffs[i], color='lightgrey', alpha=0.5, label='stance phase' if i==0 else '')\n",
    "ax.axhline(y=9.80665, color='green', linestyle='--', label='gravity')\n",
    "ax.legend()\n",
    "plt.show()"
   ]
  },
  {
   "cell_type": "markdown",
   "metadata": {
    "id": "itc7bWBYnRKx"
   },
   "source": [
    "Using ```KalmanFilter``` to set up a filter."
   ]
  },
  {
   "cell_type": "code",
   "execution_count": null,
   "metadata": {
    "colab": {
     "base_uri": "https://localhost:8080/",
     "height": 615,
     "referenced_widgets": [
      "a778984871ad41e3aa895e80e93681fc",
      "796c8f3103b547a08cc92d02f3b72ad0",
      "9ab4a6a3fccf4ba0b12579775688f287",
      "da0683f4949f438b972bc0e6729f6adb",
      "5bca8ce7401e4d82866c8fae854b4cfc",
      "dbc5ed0ec16c4af99e429b924020ac36",
      "4ffd9bf6f681459ea21e0bdb1da4b04c",
      "e5c1f0e845154f74aadea1765c020f20",
      "3034d869e6e148a59fe3a849ccb7591f",
      "332d9024b8a44e2b8ce19f3fcd97b346",
      "cbfa4cb1d8724741959f3d81605250c2",
      "5228042df1a74360bdd09788ec19bd0e",
      "57b491e0e6f5482e864d596b57a958ec",
      "e016da905b3a4c1cba20a301bf859649",
      "c407d100614c4f2c8a2c409a98050b24",
      "fa75ee4896ee4315a3fee0e8b7224302"
     ]
    },
    "id": "jInHHhmyWsJS",
    "outputId": "e4ce4fff-8d8a-49b1-d6c0-f75651e34cf4"
   },
   "outputs": [
    {
     "data": {
      "application/vnd.jupyter.widget-view+json": {
       "model_id": "a778984871ad41e3aa895e80e93681fc",
       "version_major": 2,
       "version_minor": 0
      },
      "text/plain": [
       "interactive(children=(FloatSlider(value=4.0, description='Q', max=50.0, step=0.01), FloatSlider(value=3.0, des…"
      ]
     },
     "metadata": {},
     "output_type": "display_data"
    }
   ],
   "source": [
    "accdata = np.array(imuexample.net_acc*9.80665)\n",
    "\n",
    "def plot_filter(myQ, myP, myU, myR):\n",
    "    filtereddata = []\n",
    "    P=myP\n",
    "\n",
    "    for z in accdata:\n",
    "        x, P = kf.predict(x=10., P=P, u=myU, Q=myQ)\n",
    "        x, P = kf.update(x=x, P=P, z=z, R=myR)\n",
    "        filtereddata.append(x)\n",
    "\n",
    "    fig = plt.figure(figsize=(13, 5))\n",
    "    ax = fig.add_subplot(111)\n",
    "    ax.set_title(f'{imuexample.name} Acceleration')\n",
    "    ax.set_xlabel('time (milliseconds)')\n",
    "    ax.set_ylabel('acceleration (m/s^2)')\n",
    "    ax.plot(imuexample.net_acc*9.80665, label = 'raw', color='black',\n",
    "            linewidth=0.8)\n",
    "    ax.plot(filtereddata, label = 'filtered', linewidth=0.8)\n",
    "    for i, strike in enumerate(lstrikes):\n",
    "        ax.axvline(x=strike, color='brown', linestyle='--', linewidth=0.5,\n",
    "                   label='left heel strike' if i == 0 else '')\n",
    "    for i, to in enumerate(ltoeoffs):\n",
    "        ax.axvline(x=to, color='black', linestyle='--', linewidth=0.5,\n",
    "                   label='left toe off' if i == 0 else '')\n",
    "    for i, strike in enumerate(rstrikes):\n",
    "        ax.axvline(x=strike, color='grey', linestyle='--', linewidth=0.5,\n",
    "                   label='right heel strike' if i == 0 else '')\n",
    "    for i in range(3):\n",
    "        ax.axvspan(lstrikes[i], ltoeoffs[i], color='lightgrey', alpha=0.5,\n",
    "                   label='stance phase' if i==0 else '')\n",
    "    ax.axhline(y=9.80665, color='green', linestyle='--', label='gravity')\n",
    "    ax.legend()\n",
    "    plt.show()\n",
    "\n",
    "Q_slider = FloatSlider(\n",
    "    value=2.**2, min=0., max=50., step=0.01, description=\"Q\")\n",
    "P_slider = FloatSlider(\n",
    "    value=3., min=0.01, max=50.0, step=0.01, description=\"P\")\n",
    "u_slider = FloatSlider(\n",
    "    value=1., min=0., max=50.0, step=0.01, description=\"u\")\n",
    "R_slider = FloatSlider(\n",
    "    value=3.5**2, min=0., max=50.0, step=0.1, description=\"R\")\n",
    "\n",
    "interact(plot_filter, myQ=Q_slider, myP=P_slider, myU=u_slider, myR=R_slider);"
   ]
  },
  {
   "cell_type": "markdown",
   "metadata": {
    "id": "EAHHxonSw550"
   },
   "source": [
    "# References"
   ]
  },
  {
   "cell_type": "markdown",
   "metadata": {
    "id": "-ah8DbvTw5NQ"
   },
   "source": [
    "1. [Kalman and Baysian Filters in Python](https://github.com/rlabbe/Kalman-and-Bayesian-Filters-in-Python) - Roger Labbe\n",
    "2. \"[Visualizing quaternions (4d numbers) with stereographic projection](https://www.youtube.com/watch?v=d4EgbgTm0Bg)\", \"[Visualizing quaternions (4d numbers) with stereographic projection](https://www.youtube.com/watch?v=zjMuIxRvygQ)\", \"[Visualizing Quaternions](https://eater.net/quaternions)\" - Ben Eater and Grant Sanderson\n",
    "3. [kalmanfilter.net](https://www.kalmanfilter.net/background.html) - Alex Becker"
   ]
  },
  {
   "cell_type": "markdown",
   "metadata": {
    "id": "-rL8nhBrhyqe"
   },
   "source": [
    "### Extra Bad Code"
   ]
  },
  {
   "cell_type": "markdown",
   "metadata": {
    "id": "2xx2s907h1jG"
   },
   "source": [
    "$$\\mathbf H = \\begin{bmatrix}\\cdot&\\cdot&\\cdot&\\cdot&\\cdot&\\cdot&\\cdot&\\cdot&\\cdot&\\cdot&\\cdot&\\cdot&\\cdot \\\\ \\cdot&\\cdot&\\cdot&\\cdot&\\cdot&\\cdot&\\cdot&\\cdot&\\cdot&\\cdot&\\cdot&\\cdot&\\cdot \\\\ \\cdot&\\cdot&\\cdot&\\cdot&\\cdot&\\cdot&\\cdot&\\cdot&\\cdot&\\cdot&\\cdot&\\cdot&\\cdot \\\\ \\cdot&\\cdot&\\cdot&\\cdot&\\cdot&\\cdot&\\cdot&\\cdot&\\cdot&\\cdot&\\cdot&\\cdot&\\cdot \\\\ \\cdot&\\cdot&\\cdot&\\cdot&\\cdot&\\cdot&\\cdot&\\cdot&\\cdot&\\cdot&\\cdot&\\cdot&\\cdot \\\\ \\cdot&\\cdot&\\cdot&\\cdot&\\cdot&\\cdot&\\cdot&\\cdot&\\cdot&\\cdot&\\cdot&\\cdot&\\cdot\\end{bmatrix},$$\n",
    "such that\n",
    "$$\\text{the residual} = \\begin{bmatrix}\\text{acc}_\\text{pitch} \\\\ \\text{acc}_{roll} \\\\ \\text{acc}_{yaw} \\\\ \\omega_\\text{pitch} \\\\ \\omega_{roll} \\\\ \\omega_{yaw}\\end{bmatrix} - \\left(\\begin{bmatrix}\\cdot&\\cdot&\\cdot&\\cdot&\\cdot&\\cdot&\\cdot&\\cdot&\\cdot&\\cdot&\\cdot&\\cdot&\\cdot \\\\ \\cdot&\\cdot&\\cdot&\\cdot&\\cdot&\\cdot&\\cdot&\\cdot&\\cdot&\\cdot&\\cdot&\\cdot&\\cdot \\\\ \\cdot&\\cdot&\\cdot&\\cdot&\\cdot&\\cdot&\\cdot&\\cdot&\\cdot&\\cdot&\\cdot&\\cdot&\\cdot \\\\ \\cdot&\\cdot&\\cdot&\\cdot&\\cdot&\\cdot&\\cdot&\\cdot&\\cdot&\\cdot&\\cdot&\\cdot&\\cdot \\\\ \\cdot&\\cdot&\\cdot&\\cdot&\\cdot&\\cdot&\\cdot&\\cdot&\\cdot&\\cdot&\\cdot&\\cdot&\\cdot \\\\ \\cdot&\\cdot&\\cdot&\\cdot&\\cdot&\\cdot&\\cdot&\\cdot&\\cdot&\\cdot&\\cdot&\\cdot&\\cdot\\end{bmatrix}\\begin{bmatrix}p_x \\\\ p_y \\\\ p_z \\\\ v_x \\\\ v_y \\\\ v_z \\\\ q_0 \\\\ q_1 \\\\ q_2 \\\\ q_3 \\\\ \\omega_x \\\\ \\omega_y \\\\ \\omega_z\\end{bmatrix}\\right),$$\n",
    "or, more succinctly,\n",
    "$$\\mathbf y = \\mathbf z_k - \\left(\\begin{bmatrix}\\cdot&\\cdot&\\cdot&\\cdot&\\cdot&\\cdot&\\cdot&\\cdot&\\cdot&\\cdot&\\cdot&\\cdot&\\cdot \\\\ \\cdot&\\cdot&\\cdot&\\cdot&\\cdot&\\cdot&\\cdot&\\cdot&\\cdot&\\cdot&\\cdot&\\cdot&\\cdot \\\\ \\cdot&\\cdot&\\cdot&\\cdot&\\cdot&\\cdot&\\cdot&\\cdot&\\cdot&\\cdot&\\cdot&\\cdot&\\cdot \\\\ \\cdot&\\cdot&\\cdot&\\cdot&\\cdot&\\cdot&\\cdot&\\cdot&\\cdot&\\cdot&\\cdot&\\cdot&\\cdot \\\\ \\cdot&\\cdot&\\cdot&\\cdot&\\cdot&\\cdot&\\cdot&\\cdot&\\cdot&\\cdot&\\cdot&\\cdot&\\cdot \\\\ \\cdot&\\cdot&\\cdot&\\cdot&\\cdot&\\cdot&\\cdot&\\cdot&\\cdot&\\cdot&\\cdot&\\cdot&\\cdot\\end{bmatrix}\\mathbf x_k\\right).$$ equals the residual."
   ]
  },
  {
   "cell_type": "markdown",
   "metadata": {
    "id": "e13z3xsm494m"
   },
   "source": [
    "#### my attempt"
   ]
  },
  {
   "cell_type": "markdown",
   "metadata": {
    "id": "o7bmKhI-gaKd"
   },
   "source": [
    "A simple kalman filter.\n",
    "\n",
    "Parameters\n",
    "-\n",
    "\n",
    "measurments: numpy array\n",
    "    Array of nx1 column vector measurments.\n",
    "\n",
    "initial_state: numpy array\n",
    "    predicted initial state as mx1 column vector.\n",
    "\n",
    "trial: str\n",
    "    trial number as string.\n",
    "    \n",
    "path: str\n",
    "    directory path as string. If you have set it up, using\n",
    "    adrien_c3d_folder() is reccomended.\n",
    "\n",
    "Returns\n",
    "-\n",
    "\n",
    "df: dataframe\n",
    "    dataframe containing trial data."
   ]
  },
  {
   "cell_type": "code",
   "execution_count": null,
   "metadata": {
    "id": "LCJ9iFKHgQad"
   },
   "outputs": [],
   "source": [
    "def simplekalman(measurments, initial_state=0, initial_error_covariance=6,\n",
    "                 state_transition=1.03, measurement_model=1, process_noise=0,\n",
    "                 measurement_covariance=1):\n",
    "    # set variables\n",
    "    A = state_transition\n",
    "    At = np.transpose(A)\n",
    "    H = measurement_model\n",
    "    Ht = np.transpose(H)\n",
    "    Q = process_noise\n",
    "    R = measurement_covariance\n",
    "    x = initial_state\n",
    "    P = initial_error_covariance\n",
    "\n",
    "    filtered_data = []\n",
    "    # kalman algorithm\n",
    "    for z in measurments:\n",
    "        xp = A * x                      # state prediction\n",
    "        Pp = A * P * At + Q             # covariance prediction\n",
    "        K = Pp * Ht / (H * Pp * Ht + R) # kalman gain\n",
    "        x = xp + K * (z - H * xp)       # state update\n",
    "        P = Pp - K * H * Pp             # covariance update\n",
    "        filtered_data.append(x)\n",
    "    return filtered_data"
   ]
  },
  {
   "cell_type": "markdown",
   "metadata": {
    "id": "zQsmE5UzlxEI"
   },
   "source": [
    "Using filterpy, it must first be installed."
   ]
  },
  {
   "cell_type": "markdown",
   "metadata": {
    "id": "dZ58qg0K5CgC"
   },
   "source": [
    "#### Using FilteryPy"
   ]
  },
  {
   "cell_type": "code",
   "execution_count": null,
   "metadata": {
    "colab": {
     "base_uri": "https://localhost:8080/"
    },
    "id": "DGTD2fF9mL8d",
    "outputId": "8aeb60b4-65f3-4a69-8e8e-f653c6859560"
   },
   "outputs": [
    {
     "name": "stdout",
     "output_type": "stream",
     "text": [
      "Requirement already satisfied: filterpy in /usr/local/lib/python3.10/dist-packages (1.4.5)\n",
      "Requirement already satisfied: numpy in /usr/local/lib/python3.10/dist-packages (from filterpy) (1.26.4)\n",
      "Requirement already satisfied: scipy in /usr/local/lib/python3.10/dist-packages (from filterpy) (1.13.1)\n",
      "Requirement already satisfied: matplotlib in /usr/local/lib/python3.10/dist-packages (from filterpy) (3.8.0)\n",
      "Requirement already satisfied: contourpy>=1.0.1 in /usr/local/lib/python3.10/dist-packages (from matplotlib->filterpy) (1.3.0)\n",
      "Requirement already satisfied: cycler>=0.10 in /usr/local/lib/python3.10/dist-packages (from matplotlib->filterpy) (0.12.1)\n",
      "Requirement already satisfied: fonttools>=4.22.0 in /usr/local/lib/python3.10/dist-packages (from matplotlib->filterpy) (4.54.1)\n",
      "Requirement already satisfied: kiwisolver>=1.0.1 in /usr/local/lib/python3.10/dist-packages (from matplotlib->filterpy) (1.4.7)\n",
      "Requirement already satisfied: packaging>=20.0 in /usr/local/lib/python3.10/dist-packages (from matplotlib->filterpy) (24.1)\n",
      "Requirement already satisfied: pillow>=6.2.0 in /usr/local/lib/python3.10/dist-packages (from matplotlib->filterpy) (10.4.0)\n",
      "Requirement already satisfied: pyparsing>=2.3.1 in /usr/local/lib/python3.10/dist-packages (from matplotlib->filterpy) (3.2.0)\n",
      "Requirement already satisfied: python-dateutil>=2.7 in /usr/local/lib/python3.10/dist-packages (from matplotlib->filterpy) (2.8.2)\n",
      "Requirement already satisfied: six>=1.5 in /usr/local/lib/python3.10/dist-packages (from python-dateutil>=2.7->matplotlib->filterpy) (1.16.0)\n"
     ]
    }
   ],
   "source": [
    "!pip install filterpy"
   ]
  },
  {
   "cell_type": "markdown",
   "metadata": {
    "id": "Pk0rOC59nM7y"
   },
   "source": [
    "example of ```predict``` function."
   ]
  },
  {
   "cell_type": "code",
   "execution_count": null,
   "metadata": {
    "colab": {
     "base_uri": "https://localhost:8080/"
    },
    "id": "dfBg1pi_lzGw",
    "outputId": "7b34f7d5-f741-4c86-9df3-353a8a0d82ef"
   },
   "outputs": [
    {
     "name": "stdout",
     "output_type": "stream",
     "text": [
      "11.000\n",
      "11.364 4.455\n"
     ]
    }
   ],
   "source": [
    "import filterpy.kalman as kf\n",
    "x, P = kf.predict(x=10., P=3., u=1., Q=2.**2)\n",
    "print(f'{x:.3f}')\n",
    "\n",
    "x, P = kf.update(x=x, P=P, z=12., R=3.5**2)\n",
    "print(f'{x:.3f} {P:.3f}')"
   ]
  },
  {
   "cell_type": "code",
   "execution_count": null,
   "metadata": {
    "id": "W-30DrXsnVQu"
   },
   "outputs": [],
   "source": [
    "from filterpy.common import Q_discrete_white_noise\n",
    "\n",
    "def pos_vel_filter(x, P, R, Q=0., dt=1.0):\n",
    "    \"\"\" Returns a KalmanFilter which implements a\n",
    "    constant velocity model for a state [x dx].T\n",
    "    \"\"\"\n",
    "\n",
    "    myfilter = kf.KalmanFilter(dim_x=2, dim_z=1)\n",
    "    myfilter.x = np.array([x[0], x[1]]) # location and velocity\n",
    "    myfilter.F = np.array([[1., dt],\n",
    "                     [0.,  1.]])  # state transition matrix\n",
    "    myfilter.H = np.array([[1., 0]])    # Measurement function\n",
    "    myfilter.R *= R                     # measurement uncertainty\n",
    "    if np.isscalar(P):\n",
    "        myfilter.P *= P                 # covariance matrix\n",
    "    else:\n",
    "        myfilter.P[:] = P               # [:] makes deep copy\n",
    "    if np.isscalar(Q):\n",
    "        myfilter.Q = Q_discrete_white_noise(dim=2, dt=dt, var=Q)\n",
    "    else:\n",
    "        myfilter.Q[:] = Q\n",
    "    return myfilter"
   ]
  },
  {
   "cell_type": "markdown",
   "metadata": {
    "id": "KVXh0ckFoSVM"
   },
   "source": [
    "Setting filter values"
   ]
  },
  {
   "cell_type": "code",
   "execution_count": null,
   "metadata": {
    "id": "y_jV5XZQn1Nd"
   },
   "outputs": [],
   "source": [
    "dt = .1\n",
    "x = np.array([0., 0.])\n",
    "kf_example = pos_vel_filter(x, P=500, R=5, Q=0.1, dt=dt)"
   ]
  },
  {
   "cell_type": "markdown",
   "metadata": {
    "id": "mqbls2z-oWRP"
   },
   "source": [
    "printing results"
   ]
  },
  {
   "cell_type": "code",
   "execution_count": null,
   "metadata": {
    "colab": {
     "base_uri": "https://localhost:8080/"
    },
    "id": "DaS7pmIEn7aM",
    "outputId": "912aec09-37b1-410a-a98e-e8bf0040b05c"
   },
   "outputs": [
    {
     "data": {
      "text/plain": [
       "KalmanFilter object\n",
       "dim_x = 2\n",
       "dim_z = 1\n",
       "dim_u = 0\n",
       "x = [0. 0.]\n",
       "P = [[500.   0.]\n",
       "     [  0. 500.]]\n",
       "x_prior = [[0. 0.]].T\n",
       "P_prior = [[1. 0.]\n",
       "           [0. 1.]]\n",
       "x_post = [[0. 0.]].T\n",
       "P_post = [[1. 0.]\n",
       "          [0. 1.]]\n",
       "F = [[1.  0.1]\n",
       "     [0.  1. ]]\n",
       "Q = [[2.5e-06 5.0e-05]\n",
       "     [5.0e-05 1.0e-03]]\n",
       "R = [[5.]]\n",
       "H = [[1. 0.]]\n",
       "K = [[0. 0.]].T\n",
       "y = [[0.]]\n",
       "S = [[0.]]\n",
       "SI = [[0.]]\n",
       "M = [[0.]]\n",
       "B = None\n",
       "z = [[None]]\n",
       "log-likelihood = -708.3964185322641\n",
       "likelihood = 2.2250738585072014e-308\n",
       "mahalanobis = 0.0\n",
       "alpha = 1.0\n",
       "inv = <function inv at 0x79c70f3f52d0>"
      ]
     },
     "execution_count": 22,
     "metadata": {},
     "output_type": "execute_result"
    }
   ],
   "source": [
    "kf_example"
   ]
  }
 ],
 "metadata": {
  "colab": {
   "provenance": [],
   "toc_visible": true
  },
  "kernelspec": {
   "display_name": "gait_env",
   "language": "python",
   "name": "python3"
  },
  "language_info": {
   "name": "python",
   "version": "3.12.7"
  },
  "widgets": {
   "application/vnd.jupyter.widget-state+json": {
    "01092ed4efd14bdb8325bc1cfcea8521": {
     "model_module": "@jupyter-widgets/controls",
     "model_module_version": "1.5.0",
     "model_name": "IntSliderModel",
     "state": {
      "_dom_classes": [],
      "_model_module": "@jupyter-widgets/controls",
      "_model_module_version": "1.5.0",
      "_model_name": "IntSliderModel",
      "_view_count": null,
      "_view_module": "@jupyter-widgets/controls",
      "_view_module_version": "1.5.0",
      "_view_name": "IntSliderView",
      "continuous_update": false,
      "description": "azimuth",
      "description_tooltip": null,
      "disabled": false,
      "layout": "IPY_MODEL_ef599a8144b0408e90bbba7da8303e76",
      "max": 360,
      "min": 0,
      "orientation": "horizontal",
      "readout": true,
      "readout_format": "d",
      "step": 5,
      "style": "IPY_MODEL_4fa3ec42f2fa46208de8b050e7481f8b",
      "value": 45
     }
    },
    "1602b28b5abb48e4b45b4fb7208b8714": {
     "model_module": "@jupyter-widgets/controls",
     "model_module_version": "1.5.0",
     "model_name": "FloatSliderModel",
     "state": {
      "_dom_classes": [],
      "_model_module": "@jupyter-widgets/controls",
      "_model_module_version": "1.5.0",
      "_model_name": "FloatSliderModel",
      "_view_count": null,
      "_view_module": "@jupyter-widgets/controls",
      "_view_module_version": "1.5.0",
      "_view_name": "FloatSliderView",
      "continuous_update": true,
      "description": "Axis y",
      "description_tooltip": null,
      "disabled": false,
      "layout": "IPY_MODEL_b9136524c0e547488ce91fd07db42435",
      "max": 1,
      "min": 0,
      "orientation": "horizontal",
      "readout": true,
      "readout_format": ".2f",
      "step": 0.1,
      "style": "IPY_MODEL_7d8d684b03ad432492281f3c0ab74f49",
      "value": 0.3
     }
    },
    "1f5b4dab36a347ff89b034a85a12f22a": {
     "model_module": "@jupyter-widgets/base",
     "model_module_version": "1.2.0",
     "model_name": "LayoutModel",
     "state": {
      "_model_module": "@jupyter-widgets/base",
      "_model_module_version": "1.2.0",
      "_model_name": "LayoutModel",
      "_view_count": null,
      "_view_module": "@jupyter-widgets/base",
      "_view_module_version": "1.2.0",
      "_view_name": "LayoutView",
      "align_content": null,
      "align_items": null,
      "align_self": null,
      "border": null,
      "bottom": null,
      "display": null,
      "flex": null,
      "flex_flow": null,
      "grid_area": null,
      "grid_auto_columns": null,
      "grid_auto_flow": null,
      "grid_auto_rows": null,
      "grid_column": null,
      "grid_gap": null,
      "grid_row": null,
      "grid_template_areas": null,
      "grid_template_columns": null,
      "grid_template_rows": null,
      "height": null,
      "justify_content": null,
      "justify_items": null,
      "left": null,
      "margin": null,
      "max_height": null,
      "max_width": null,
      "min_height": null,
      "min_width": null,
      "object_fit": null,
      "object_position": null,
      "order": null,
      "overflow": null,
      "overflow_x": null,
      "overflow_y": null,
      "padding": null,
      "right": null,
      "top": null,
      "visibility": null,
      "width": null
     }
    },
    "238ee2514d01448a97d48050105682e0": {
     "model_module": "@jupyter-widgets/controls",
     "model_module_version": "1.5.0",
     "model_name": "FloatSliderModel",
     "state": {
      "_dom_classes": [],
      "_model_module": "@jupyter-widgets/controls",
      "_model_module_version": "1.5.0",
      "_model_name": "FloatSliderModel",
      "_view_count": null,
      "_view_module": "@jupyter-widgets/controls",
      "_view_module_version": "1.5.0",
      "_view_name": "FloatSliderView",
      "continuous_update": true,
      "description": "Angle",
      "description_tooltip": null,
      "disabled": false,
      "layout": "IPY_MODEL_2505067c34b548c8baebd0667c6633e5",
      "max": 6.283185307179586,
      "min": 0,
      "orientation": "horizontal",
      "readout": true,
      "readout_format": ".2f",
      "step": 0.1,
      "style": "IPY_MODEL_526dd0ea48844e028080a76cedafdb19",
      "value": 3.29
     }
    },
    "2505067c34b548c8baebd0667c6633e5": {
     "model_module": "@jupyter-widgets/base",
     "model_module_version": "1.2.0",
     "model_name": "LayoutModel",
     "state": {
      "_model_module": "@jupyter-widgets/base",
      "_model_module_version": "1.2.0",
      "_model_name": "LayoutModel",
      "_view_count": null,
      "_view_module": "@jupyter-widgets/base",
      "_view_module_version": "1.2.0",
      "_view_name": "LayoutView",
      "align_content": null,
      "align_items": null,
      "align_self": null,
      "border": null,
      "bottom": null,
      "display": null,
      "flex": null,
      "flex_flow": null,
      "grid_area": null,
      "grid_auto_columns": null,
      "grid_auto_flow": null,
      "grid_auto_rows": null,
      "grid_column": null,
      "grid_gap": null,
      "grid_row": null,
      "grid_template_areas": null,
      "grid_template_columns": null,
      "grid_template_rows": null,
      "height": null,
      "justify_content": null,
      "justify_items": null,
      "left": null,
      "margin": null,
      "max_height": null,
      "max_width": null,
      "min_height": null,
      "min_width": null,
      "object_fit": null,
      "object_position": null,
      "order": null,
      "overflow": null,
      "overflow_x": null,
      "overflow_y": null,
      "padding": null,
      "right": null,
      "top": null,
      "visibility": null,
      "width": null
     }
    },
    "3034d869e6e148a59fe3a849ccb7591f": {
     "model_module": "@jupyter-widgets/controls",
     "model_module_version": "1.5.0",
     "model_name": "SliderStyleModel",
     "state": {
      "_model_module": "@jupyter-widgets/controls",
      "_model_module_version": "1.5.0",
      "_model_name": "SliderStyleModel",
      "_view_count": null,
      "_view_module": "@jupyter-widgets/base",
      "_view_module_version": "1.2.0",
      "_view_name": "StyleView",
      "description_width": "",
      "handle_color": null
     }
    },
    "332d9024b8a44e2b8ce19f3fcd97b346": {
     "model_module": "@jupyter-widgets/base",
     "model_module_version": "1.2.0",
     "model_name": "LayoutModel",
     "state": {
      "_model_module": "@jupyter-widgets/base",
      "_model_module_version": "1.2.0",
      "_model_name": "LayoutModel",
      "_view_count": null,
      "_view_module": "@jupyter-widgets/base",
      "_view_module_version": "1.2.0",
      "_view_name": "LayoutView",
      "align_content": null,
      "align_items": null,
      "align_self": null,
      "border": null,
      "bottom": null,
      "display": null,
      "flex": null,
      "flex_flow": null,
      "grid_area": null,
      "grid_auto_columns": null,
      "grid_auto_flow": null,
      "grid_auto_rows": null,
      "grid_column": null,
      "grid_gap": null,
      "grid_row": null,
      "grid_template_areas": null,
      "grid_template_columns": null,
      "grid_template_rows": null,
      "height": null,
      "justify_content": null,
      "justify_items": null,
      "left": null,
      "margin": null,
      "max_height": null,
      "max_width": null,
      "min_height": null,
      "min_width": null,
      "object_fit": null,
      "object_position": null,
      "order": null,
      "overflow": null,
      "overflow_x": null,
      "overflow_y": null,
      "padding": null,
      "right": null,
      "top": null,
      "visibility": null,
      "width": null
     }
    },
    "445cbcf7e3f7470f81af8a16ba9cc28f": {
     "model_module": "@jupyter-widgets/base",
     "model_module_version": "1.2.0",
     "model_name": "LayoutModel",
     "state": {
      "_model_module": "@jupyter-widgets/base",
      "_model_module_version": "1.2.0",
      "_model_name": "LayoutModel",
      "_view_count": null,
      "_view_module": "@jupyter-widgets/base",
      "_view_module_version": "1.2.0",
      "_view_name": "LayoutView",
      "align_content": null,
      "align_items": null,
      "align_self": null,
      "border": null,
      "bottom": null,
      "display": null,
      "flex": null,
      "flex_flow": null,
      "grid_area": null,
      "grid_auto_columns": null,
      "grid_auto_flow": null,
      "grid_auto_rows": null,
      "grid_column": null,
      "grid_gap": null,
      "grid_row": null,
      "grid_template_areas": null,
      "grid_template_columns": null,
      "grid_template_rows": null,
      "height": null,
      "justify_content": null,
      "justify_items": null,
      "left": null,
      "margin": null,
      "max_height": null,
      "max_width": null,
      "min_height": null,
      "min_width": null,
      "object_fit": null,
      "object_position": null,
      "order": null,
      "overflow": null,
      "overflow_x": null,
      "overflow_y": null,
      "padding": null,
      "right": null,
      "top": null,
      "visibility": null,
      "width": null
     }
    },
    "4fa3ec42f2fa46208de8b050e7481f8b": {
     "model_module": "@jupyter-widgets/controls",
     "model_module_version": "1.5.0",
     "model_name": "SliderStyleModel",
     "state": {
      "_model_module": "@jupyter-widgets/controls",
      "_model_module_version": "1.5.0",
      "_model_name": "SliderStyleModel",
      "_view_count": null,
      "_view_module": "@jupyter-widgets/base",
      "_view_module_version": "1.2.0",
      "_view_name": "StyleView",
      "description_width": "",
      "handle_color": null
     }
    },
    "4ffd9bf6f681459ea21e0bdb1da4b04c": {
     "model_module": "@jupyter-widgets/base",
     "model_module_version": "1.2.0",
     "model_name": "LayoutModel",
     "state": {
      "_model_module": "@jupyter-widgets/base",
      "_model_module_version": "1.2.0",
      "_model_name": "LayoutModel",
      "_view_count": null,
      "_view_module": "@jupyter-widgets/base",
      "_view_module_version": "1.2.0",
      "_view_name": "LayoutView",
      "align_content": null,
      "align_items": null,
      "align_self": null,
      "border": null,
      "bottom": null,
      "display": null,
      "flex": null,
      "flex_flow": null,
      "grid_area": null,
      "grid_auto_columns": null,
      "grid_auto_flow": null,
      "grid_auto_rows": null,
      "grid_column": null,
      "grid_gap": null,
      "grid_row": null,
      "grid_template_areas": null,
      "grid_template_columns": null,
      "grid_template_rows": null,
      "height": null,
      "justify_content": null,
      "justify_items": null,
      "left": null,
      "margin": null,
      "max_height": null,
      "max_width": null,
      "min_height": null,
      "min_width": null,
      "object_fit": null,
      "object_position": null,
      "order": null,
      "overflow": null,
      "overflow_x": null,
      "overflow_y": null,
      "padding": null,
      "right": null,
      "top": null,
      "visibility": null,
      "width": null
     }
    },
    "5228042df1a74360bdd09788ec19bd0e": {
     "model_module": "@jupyter-widgets/base",
     "model_module_version": "1.2.0",
     "model_name": "LayoutModel",
     "state": {
      "_model_module": "@jupyter-widgets/base",
      "_model_module_version": "1.2.0",
      "_model_name": "LayoutModel",
      "_view_count": null,
      "_view_module": "@jupyter-widgets/base",
      "_view_module_version": "1.2.0",
      "_view_name": "LayoutView",
      "align_content": null,
      "align_items": null,
      "align_self": null,
      "border": null,
      "bottom": null,
      "display": null,
      "flex": null,
      "flex_flow": null,
      "grid_area": null,
      "grid_auto_columns": null,
      "grid_auto_flow": null,
      "grid_auto_rows": null,
      "grid_column": null,
      "grid_gap": null,
      "grid_row": null,
      "grid_template_areas": null,
      "grid_template_columns": null,
      "grid_template_rows": null,
      "height": null,
      "justify_content": null,
      "justify_items": null,
      "left": null,
      "margin": null,
      "max_height": null,
      "max_width": null,
      "min_height": null,
      "min_width": null,
      "object_fit": null,
      "object_position": null,
      "order": null,
      "overflow": null,
      "overflow_x": null,
      "overflow_y": null,
      "padding": null,
      "right": null,
      "top": null,
      "visibility": null,
      "width": null
     }
    },
    "526dd0ea48844e028080a76cedafdb19": {
     "model_module": "@jupyter-widgets/controls",
     "model_module_version": "1.5.0",
     "model_name": "SliderStyleModel",
     "state": {
      "_model_module": "@jupyter-widgets/controls",
      "_model_module_version": "1.5.0",
      "_model_name": "SliderStyleModel",
      "_view_count": null,
      "_view_module": "@jupyter-widgets/base",
      "_view_module_version": "1.2.0",
      "_view_name": "StyleView",
      "description_width": "",
      "handle_color": null
     }
    },
    "55f6272fd9044bf7a29078c05916b3d0": {
     "model_module": "@jupyter-widgets/base",
     "model_module_version": "1.2.0",
     "model_name": "LayoutModel",
     "state": {
      "_model_module": "@jupyter-widgets/base",
      "_model_module_version": "1.2.0",
      "_model_name": "LayoutModel",
      "_view_count": null,
      "_view_module": "@jupyter-widgets/base",
      "_view_module_version": "1.2.0",
      "_view_name": "LayoutView",
      "align_content": null,
      "align_items": null,
      "align_self": null,
      "border": null,
      "bottom": null,
      "display": null,
      "flex": null,
      "flex_flow": null,
      "grid_area": null,
      "grid_auto_columns": null,
      "grid_auto_flow": null,
      "grid_auto_rows": null,
      "grid_column": null,
      "grid_gap": null,
      "grid_row": null,
      "grid_template_areas": null,
      "grid_template_columns": null,
      "grid_template_rows": null,
      "height": null,
      "justify_content": null,
      "justify_items": null,
      "left": null,
      "margin": null,
      "max_height": null,
      "max_width": null,
      "min_height": null,
      "min_width": null,
      "object_fit": null,
      "object_position": null,
      "order": null,
      "overflow": null,
      "overflow_x": null,
      "overflow_y": null,
      "padding": null,
      "right": null,
      "top": null,
      "visibility": null,
      "width": null
     }
    },
    "57b491e0e6f5482e864d596b57a958ec": {
     "model_module": "@jupyter-widgets/controls",
     "model_module_version": "1.5.0",
     "model_name": "SliderStyleModel",
     "state": {
      "_model_module": "@jupyter-widgets/controls",
      "_model_module_version": "1.5.0",
      "_model_name": "SliderStyleModel",
      "_view_count": null,
      "_view_module": "@jupyter-widgets/base",
      "_view_module_version": "1.2.0",
      "_view_name": "StyleView",
      "description_width": "",
      "handle_color": null
     }
    },
    "5bca8ce7401e4d82866c8fae854b4cfc": {
     "model_module": "@jupyter-widgets/controls",
     "model_module_version": "1.5.0",
     "model_name": "FloatSliderModel",
     "state": {
      "_dom_classes": [],
      "_model_module": "@jupyter-widgets/controls",
      "_model_module_version": "1.5.0",
      "_model_name": "FloatSliderModel",
      "_view_count": null,
      "_view_module": "@jupyter-widgets/controls",
      "_view_module_version": "1.5.0",
      "_view_name": "FloatSliderView",
      "continuous_update": true,
      "description": "R",
      "description_tooltip": null,
      "disabled": false,
      "layout": "IPY_MODEL_e016da905b3a4c1cba20a301bf859649",
      "max": 50,
      "min": 0,
      "orientation": "horizontal",
      "readout": true,
      "readout_format": ".2f",
      "step": 0.1,
      "style": "IPY_MODEL_c407d100614c4f2c8a2c409a98050b24",
      "value": 12.25
     }
    },
    "69b663399bc24c93a6e2eacb319244c7": {
     "model_module": "@jupyter-widgets/controls",
     "model_module_version": "1.5.0",
     "model_name": "SliderStyleModel",
     "state": {
      "_model_module": "@jupyter-widgets/controls",
      "_model_module_version": "1.5.0",
      "_model_name": "SliderStyleModel",
      "_view_count": null,
      "_view_module": "@jupyter-widgets/base",
      "_view_module_version": "1.2.0",
      "_view_name": "StyleView",
      "description_width": "",
      "handle_color": null
     }
    },
    "796c8f3103b547a08cc92d02f3b72ad0": {
     "model_module": "@jupyter-widgets/controls",
     "model_module_version": "1.5.0",
     "model_name": "FloatSliderModel",
     "state": {
      "_dom_classes": [],
      "_model_module": "@jupyter-widgets/controls",
      "_model_module_version": "1.5.0",
      "_model_name": "FloatSliderModel",
      "_view_count": null,
      "_view_module": "@jupyter-widgets/controls",
      "_view_module_version": "1.5.0",
      "_view_name": "FloatSliderView",
      "continuous_update": true,
      "description": "Q",
      "description_tooltip": null,
      "disabled": false,
      "layout": "IPY_MODEL_e5c1f0e845154f74aadea1765c020f20",
      "max": 50,
      "min": 0,
      "orientation": "horizontal",
      "readout": true,
      "readout_format": ".2f",
      "step": 0.01,
      "style": "IPY_MODEL_3034d869e6e148a59fe3a849ccb7591f",
      "value": 4
     }
    },
    "7d8d684b03ad432492281f3c0ab74f49": {
     "model_module": "@jupyter-widgets/controls",
     "model_module_version": "1.5.0",
     "model_name": "SliderStyleModel",
     "state": {
      "_model_module": "@jupyter-widgets/controls",
      "_model_module_version": "1.5.0",
      "_model_name": "SliderStyleModel",
      "_view_count": null,
      "_view_module": "@jupyter-widgets/base",
      "_view_module_version": "1.2.0",
      "_view_name": "StyleView",
      "description_width": "",
      "handle_color": null
     }
    },
    "818e790ab6b5421aad948ee9118f95d9": {
     "model_module": "@jupyter-widgets/controls",
     "model_module_version": "1.5.0",
     "model_name": "FloatSliderModel",
     "state": {
      "_dom_classes": [],
      "_model_module": "@jupyter-widgets/controls",
      "_model_module_version": "1.5.0",
      "_model_name": "FloatSliderModel",
      "_view_count": null,
      "_view_module": "@jupyter-widgets/controls",
      "_view_module_version": "1.5.0",
      "_view_name": "FloatSliderView",
      "continuous_update": true,
      "description": "Axis z",
      "description_tooltip": null,
      "disabled": false,
      "layout": "IPY_MODEL_445cbcf7e3f7470f81af8a16ba9cc28f",
      "max": 1,
      "min": 0,
      "orientation": "horizontal",
      "readout": true,
      "readout_format": ".2f",
      "step": 0.1,
      "style": "IPY_MODEL_ea4c66b7a6e340b5a40ab93f2b9dd223",
      "value": 0.5
     }
    },
    "95842d129b36482a9f105f305a6902f1": {
     "model_module": "@jupyter-widgets/controls",
     "model_module_version": "1.5.0",
     "model_name": "FloatSliderModel",
     "state": {
      "_dom_classes": [],
      "_model_module": "@jupyter-widgets/controls",
      "_model_module_version": "1.5.0",
      "_model_name": "FloatSliderModel",
      "_view_count": null,
      "_view_module": "@jupyter-widgets/controls",
      "_view_module_version": "1.5.0",
      "_view_name": "FloatSliderView",
      "continuous_update": true,
      "description": "Axis x",
      "description_tooltip": null,
      "disabled": false,
      "layout": "IPY_MODEL_b4ea4fabf46f42389b588c75a8046a21",
      "max": 1,
      "min": 0,
      "orientation": "horizontal",
      "readout": true,
      "readout_format": ".2f",
      "step": 0.1,
      "style": "IPY_MODEL_f2fea79a3ebd4397ae458bc14cb9f064",
      "value": 0.05
     }
    },
    "9882d2874ab840a8ad7b35bbf652d214": {
     "model_module": "@jupyter-widgets/base",
     "model_module_version": "1.2.0",
     "model_name": "LayoutModel",
     "state": {
      "_model_module": "@jupyter-widgets/base",
      "_model_module_version": "1.2.0",
      "_model_name": "LayoutModel",
      "_view_count": null,
      "_view_module": "@jupyter-widgets/base",
      "_view_module_version": "1.2.0",
      "_view_name": "LayoutView",
      "align_content": null,
      "align_items": null,
      "align_self": null,
      "border": null,
      "bottom": null,
      "display": null,
      "flex": null,
      "flex_flow": null,
      "grid_area": null,
      "grid_auto_columns": null,
      "grid_auto_flow": null,
      "grid_auto_rows": null,
      "grid_column": null,
      "grid_gap": null,
      "grid_row": null,
      "grid_template_areas": null,
      "grid_template_columns": null,
      "grid_template_rows": null,
      "height": null,
      "justify_content": null,
      "justify_items": null,
      "left": null,
      "margin": null,
      "max_height": null,
      "max_width": null,
      "min_height": null,
      "min_width": null,
      "object_fit": null,
      "object_position": null,
      "order": null,
      "overflow": null,
      "overflow_x": null,
      "overflow_y": null,
      "padding": null,
      "right": null,
      "top": null,
      "visibility": null,
      "width": null
     }
    },
    "9ab4a6a3fccf4ba0b12579775688f287": {
     "model_module": "@jupyter-widgets/controls",
     "model_module_version": "1.5.0",
     "model_name": "FloatSliderModel",
     "state": {
      "_dom_classes": [],
      "_model_module": "@jupyter-widgets/controls",
      "_model_module_version": "1.5.0",
      "_model_name": "FloatSliderModel",
      "_view_count": null,
      "_view_module": "@jupyter-widgets/controls",
      "_view_module_version": "1.5.0",
      "_view_name": "FloatSliderView",
      "continuous_update": true,
      "description": "P",
      "description_tooltip": null,
      "disabled": false,
      "layout": "IPY_MODEL_332d9024b8a44e2b8ce19f3fcd97b346",
      "max": 50,
      "min": 0.01,
      "orientation": "horizontal",
      "readout": true,
      "readout_format": ".2f",
      "step": 0.01,
      "style": "IPY_MODEL_cbfa4cb1d8724741959f3d81605250c2",
      "value": 3
     }
    },
    "a1664c74c8e24c1eb4dd08f040fc4699": {
     "model_module": "@jupyter-widgets/controls",
     "model_module_version": "1.5.0",
     "model_name": "FloatSliderModel",
     "state": {
      "_dom_classes": [],
      "_model_module": "@jupyter-widgets/controls",
      "_model_module_version": "1.5.0",
      "_model_name": "FloatSliderModel",
      "_view_count": null,
      "_view_module": "@jupyter-widgets/controls",
      "_view_module_version": "1.5.0",
      "_view_name": "FloatSliderView",
      "continuous_update": true,
      "description": "Point y",
      "description_tooltip": null,
      "disabled": false,
      "layout": "IPY_MODEL_55f6272fd9044bf7a29078c05916b3d0",
      "max": 1,
      "min": -1,
      "orientation": "horizontal",
      "readout": true,
      "readout_format": ".2f",
      "step": 0.1,
      "style": "IPY_MODEL_d23eacc13e4b447c8c2399e66a89efb3",
      "value": 0
     }
    },
    "a561c4d45bff451486ac6dd367e49ee3": {
     "model_module": "@jupyter-widgets/base",
     "model_module_version": "1.2.0",
     "model_name": "LayoutModel",
     "state": {
      "_model_module": "@jupyter-widgets/base",
      "_model_module_version": "1.2.0",
      "_model_name": "LayoutModel",
      "_view_count": null,
      "_view_module": "@jupyter-widgets/base",
      "_view_module_version": "1.2.0",
      "_view_name": "LayoutView",
      "align_content": null,
      "align_items": null,
      "align_self": null,
      "border": null,
      "bottom": null,
      "display": null,
      "flex": null,
      "flex_flow": null,
      "grid_area": null,
      "grid_auto_columns": null,
      "grid_auto_flow": null,
      "grid_auto_rows": null,
      "grid_column": null,
      "grid_gap": null,
      "grid_row": null,
      "grid_template_areas": null,
      "grid_template_columns": null,
      "grid_template_rows": null,
      "height": null,
      "justify_content": null,
      "justify_items": null,
      "left": null,
      "margin": null,
      "max_height": null,
      "max_width": null,
      "min_height": null,
      "min_width": null,
      "object_fit": null,
      "object_position": null,
      "order": null,
      "overflow": null,
      "overflow_x": null,
      "overflow_y": null,
      "padding": null,
      "right": null,
      "top": null,
      "visibility": null,
      "width": null
     }
    },
    "a778984871ad41e3aa895e80e93681fc": {
     "model_module": "@jupyter-widgets/controls",
     "model_module_version": "1.5.0",
     "model_name": "VBoxModel",
     "state": {
      "_dom_classes": [
       "widget-interact"
      ],
      "_model_module": "@jupyter-widgets/controls",
      "_model_module_version": "1.5.0",
      "_model_name": "VBoxModel",
      "_view_count": null,
      "_view_module": "@jupyter-widgets/controls",
      "_view_module_version": "1.5.0",
      "_view_name": "VBoxView",
      "box_style": "",
      "children": [
       "IPY_MODEL_796c8f3103b547a08cc92d02f3b72ad0",
       "IPY_MODEL_9ab4a6a3fccf4ba0b12579775688f287",
       "IPY_MODEL_da0683f4949f438b972bc0e6729f6adb",
       "IPY_MODEL_5bca8ce7401e4d82866c8fae854b4cfc",
       "IPY_MODEL_dbc5ed0ec16c4af99e429b924020ac36"
      ],
      "layout": "IPY_MODEL_4ffd9bf6f681459ea21e0bdb1da4b04c"
     }
    },
    "b13184be77c044828d64753011f68a71": {
     "model_module": "@jupyter-widgets/base",
     "model_module_version": "1.2.0",
     "model_name": "LayoutModel",
     "state": {
      "_model_module": "@jupyter-widgets/base",
      "_model_module_version": "1.2.0",
      "_model_name": "LayoutModel",
      "_view_count": null,
      "_view_module": "@jupyter-widgets/base",
      "_view_module_version": "1.2.0",
      "_view_name": "LayoutView",
      "align_content": null,
      "align_items": null,
      "align_self": null,
      "border": null,
      "bottom": null,
      "display": null,
      "flex": null,
      "flex_flow": null,
      "grid_area": null,
      "grid_auto_columns": null,
      "grid_auto_flow": null,
      "grid_auto_rows": null,
      "grid_column": null,
      "grid_gap": null,
      "grid_row": null,
      "grid_template_areas": null,
      "grid_template_columns": null,
      "grid_template_rows": null,
      "height": null,
      "justify_content": null,
      "justify_items": null,
      "left": null,
      "margin": null,
      "max_height": null,
      "max_width": null,
      "min_height": null,
      "min_width": null,
      "object_fit": null,
      "object_position": null,
      "order": null,
      "overflow": null,
      "overflow_x": null,
      "overflow_y": null,
      "padding": null,
      "right": null,
      "top": null,
      "visibility": null,
      "width": null
     }
    },
    "b4ea4fabf46f42389b588c75a8046a21": {
     "model_module": "@jupyter-widgets/base",
     "model_module_version": "1.2.0",
     "model_name": "LayoutModel",
     "state": {
      "_model_module": "@jupyter-widgets/base",
      "_model_module_version": "1.2.0",
      "_model_name": "LayoutModel",
      "_view_count": null,
      "_view_module": "@jupyter-widgets/base",
      "_view_module_version": "1.2.0",
      "_view_name": "LayoutView",
      "align_content": null,
      "align_items": null,
      "align_self": null,
      "border": null,
      "bottom": null,
      "display": null,
      "flex": null,
      "flex_flow": null,
      "grid_area": null,
      "grid_auto_columns": null,
      "grid_auto_flow": null,
      "grid_auto_rows": null,
      "grid_column": null,
      "grid_gap": null,
      "grid_row": null,
      "grid_template_areas": null,
      "grid_template_columns": null,
      "grid_template_rows": null,
      "height": null,
      "justify_content": null,
      "justify_items": null,
      "left": null,
      "margin": null,
      "max_height": null,
      "max_width": null,
      "min_height": null,
      "min_width": null,
      "object_fit": null,
      "object_position": null,
      "order": null,
      "overflow": null,
      "overflow_x": null,
      "overflow_y": null,
      "padding": null,
      "right": null,
      "top": null,
      "visibility": null,
      "width": null
     }
    },
    "b861afe6e6574b9b9efd8d0171e924fd": {
     "model_module": "@jupyter-widgets/controls",
     "model_module_version": "1.5.0",
     "model_name": "IntSliderModel",
     "state": {
      "_dom_classes": [],
      "_model_module": "@jupyter-widgets/controls",
      "_model_module_version": "1.5.0",
      "_model_name": "IntSliderModel",
      "_view_count": null,
      "_view_module": "@jupyter-widgets/controls",
      "_view_module_version": "1.5.0",
      "_view_name": "IntSliderView",
      "continuous_update": false,
      "description": "elevation",
      "description_tooltip": null,
      "disabled": false,
      "layout": "IPY_MODEL_b13184be77c044828d64753011f68a71",
      "max": 90,
      "min": -90,
      "orientation": "horizontal",
      "readout": true,
      "readout_format": "d",
      "step": 5,
      "style": "IPY_MODEL_69b663399bc24c93a6e2eacb319244c7",
      "value": 35
     }
    },
    "b9136524c0e547488ce91fd07db42435": {
     "model_module": "@jupyter-widgets/base",
     "model_module_version": "1.2.0",
     "model_name": "LayoutModel",
     "state": {
      "_model_module": "@jupyter-widgets/base",
      "_model_module_version": "1.2.0",
      "_model_name": "LayoutModel",
      "_view_count": null,
      "_view_module": "@jupyter-widgets/base",
      "_view_module_version": "1.2.0",
      "_view_name": "LayoutView",
      "align_content": null,
      "align_items": null,
      "align_self": null,
      "border": null,
      "bottom": null,
      "display": null,
      "flex": null,
      "flex_flow": null,
      "grid_area": null,
      "grid_auto_columns": null,
      "grid_auto_flow": null,
      "grid_auto_rows": null,
      "grid_column": null,
      "grid_gap": null,
      "grid_row": null,
      "grid_template_areas": null,
      "grid_template_columns": null,
      "grid_template_rows": null,
      "height": null,
      "justify_content": null,
      "justify_items": null,
      "left": null,
      "margin": null,
      "max_height": null,
      "max_width": null,
      "min_height": null,
      "min_width": null,
      "object_fit": null,
      "object_position": null,
      "order": null,
      "overflow": null,
      "overflow_x": null,
      "overflow_y": null,
      "padding": null,
      "right": null,
      "top": null,
      "visibility": null,
      "width": null
     }
    },
    "c03c4e1ef4a641988729c3c7c34d728c": {
     "model_module": "@jupyter-widgets/controls",
     "model_module_version": "1.5.0",
     "model_name": "FloatSliderModel",
     "state": {
      "_dom_classes": [],
      "_model_module": "@jupyter-widgets/controls",
      "_model_module_version": "1.5.0",
      "_model_name": "FloatSliderModel",
      "_view_count": null,
      "_view_module": "@jupyter-widgets/controls",
      "_view_module_version": "1.5.0",
      "_view_name": "FloatSliderView",
      "continuous_update": true,
      "description": "Point x",
      "description_tooltip": null,
      "disabled": false,
      "layout": "IPY_MODEL_a561c4d45bff451486ac6dd367e49ee3",
      "max": 1,
      "min": -1,
      "orientation": "horizontal",
      "readout": true,
      "readout_format": ".2f",
      "step": 0.1,
      "style": "IPY_MODEL_e5f60297f270497ba3b0bfdd121e9582",
      "value": 1
     }
    },
    "c407d100614c4f2c8a2c409a98050b24": {
     "model_module": "@jupyter-widgets/controls",
     "model_module_version": "1.5.0",
     "model_name": "SliderStyleModel",
     "state": {
      "_model_module": "@jupyter-widgets/controls",
      "_model_module_version": "1.5.0",
      "_model_name": "SliderStyleModel",
      "_view_count": null,
      "_view_module": "@jupyter-widgets/base",
      "_view_module_version": "1.2.0",
      "_view_name": "StyleView",
      "description_width": "",
      "handle_color": null
     }
    },
    "cbfa4cb1d8724741959f3d81605250c2": {
     "model_module": "@jupyter-widgets/controls",
     "model_module_version": "1.5.0",
     "model_name": "SliderStyleModel",
     "state": {
      "_model_module": "@jupyter-widgets/controls",
      "_model_module_version": "1.5.0",
      "_model_name": "SliderStyleModel",
      "_view_count": null,
      "_view_module": "@jupyter-widgets/base",
      "_view_module_version": "1.2.0",
      "_view_name": "StyleView",
      "description_width": "",
      "handle_color": null
     }
    },
    "cc6bcd389ab14981aa14eee780b9073a": {
     "model_module": "@jupyter-widgets/controls",
     "model_module_version": "1.5.0",
     "model_name": "FloatSliderModel",
     "state": {
      "_dom_classes": [],
      "_model_module": "@jupyter-widgets/controls",
      "_model_module_version": "1.5.0",
      "_model_name": "FloatSliderModel",
      "_view_count": null,
      "_view_module": "@jupyter-widgets/controls",
      "_view_module_version": "1.5.0",
      "_view_name": "FloatSliderView",
      "continuous_update": true,
      "description": "Point z",
      "description_tooltip": null,
      "disabled": false,
      "layout": "IPY_MODEL_9882d2874ab840a8ad7b35bbf652d214",
      "max": 1,
      "min": -1,
      "orientation": "horizontal",
      "readout": true,
      "readout_format": ".2f",
      "step": 0.1,
      "style": "IPY_MODEL_d739d74ed8e64c909d7f57b78bb83ef0",
      "value": 0
     }
    },
    "d23eacc13e4b447c8c2399e66a89efb3": {
     "model_module": "@jupyter-widgets/controls",
     "model_module_version": "1.5.0",
     "model_name": "SliderStyleModel",
     "state": {
      "_model_module": "@jupyter-widgets/controls",
      "_model_module_version": "1.5.0",
      "_model_name": "SliderStyleModel",
      "_view_count": null,
      "_view_module": "@jupyter-widgets/base",
      "_view_module_version": "1.2.0",
      "_view_name": "StyleView",
      "description_width": "",
      "handle_color": null
     }
    },
    "d6c30162647443c889c384cb11e94d75": {
     "model_module": "@jupyter-widgets/output",
     "model_module_version": "1.0.0",
     "model_name": "OutputModel",
     "state": {
      "_dom_classes": [],
      "_model_module": "@jupyter-widgets/output",
      "_model_module_version": "1.0.0",
      "_model_name": "OutputModel",
      "_view_count": null,
      "_view_module": "@jupyter-widgets/output",
      "_view_module_version": "1.0.0",
      "_view_name": "OutputView",
      "layout": "IPY_MODEL_1f5b4dab36a347ff89b034a85a12f22a",
      "msg_id": "",
      "outputs": [
       {
        "data": {
         "image/png": "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\n",
         "text/plain": "<Figure size 640x480 with 1 Axes>"
        },
        "metadata": {},
        "output_type": "display_data"
       }
      ]
     }
    },
    "d739d74ed8e64c909d7f57b78bb83ef0": {
     "model_module": "@jupyter-widgets/controls",
     "model_module_version": "1.5.0",
     "model_name": "SliderStyleModel",
     "state": {
      "_model_module": "@jupyter-widgets/controls",
      "_model_module_version": "1.5.0",
      "_model_name": "SliderStyleModel",
      "_view_count": null,
      "_view_module": "@jupyter-widgets/base",
      "_view_module_version": "1.2.0",
      "_view_name": "StyleView",
      "description_width": "",
      "handle_color": null
     }
    },
    "da0683f4949f438b972bc0e6729f6adb": {
     "model_module": "@jupyter-widgets/controls",
     "model_module_version": "1.5.0",
     "model_name": "FloatSliderModel",
     "state": {
      "_dom_classes": [],
      "_model_module": "@jupyter-widgets/controls",
      "_model_module_version": "1.5.0",
      "_model_name": "FloatSliderModel",
      "_view_count": null,
      "_view_module": "@jupyter-widgets/controls",
      "_view_module_version": "1.5.0",
      "_view_name": "FloatSliderView",
      "continuous_update": true,
      "description": "u",
      "description_tooltip": null,
      "disabled": false,
      "layout": "IPY_MODEL_5228042df1a74360bdd09788ec19bd0e",
      "max": 50,
      "min": 0,
      "orientation": "horizontal",
      "readout": true,
      "readout_format": ".2f",
      "step": 0.01,
      "style": "IPY_MODEL_57b491e0e6f5482e864d596b57a958ec",
      "value": 1
     }
    },
    "dbc5ed0ec16c4af99e429b924020ac36": {
     "model_module": "@jupyter-widgets/output",
     "model_module_version": "1.0.0",
     "model_name": "OutputModel",
     "state": {
      "_dom_classes": [],
      "_model_module": "@jupyter-widgets/output",
      "_model_module_version": "1.0.0",
      "_model_name": "OutputModel",
      "_view_count": null,
      "_view_module": "@jupyter-widgets/output",
      "_view_module_version": "1.0.0",
      "_view_name": "OutputView",
      "layout": "IPY_MODEL_fa75ee4896ee4315a3fee0e8b7224302",
      "msg_id": "",
      "outputs": [
       {
        "data": {
         "image/png": "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\n",
         "text/plain": "<Figure size 1300x500 with 1 Axes>"
        },
        "metadata": {},
        "output_type": "display_data"
       }
      ]
     }
    },
    "e016da905b3a4c1cba20a301bf859649": {
     "model_module": "@jupyter-widgets/base",
     "model_module_version": "1.2.0",
     "model_name": "LayoutModel",
     "state": {
      "_model_module": "@jupyter-widgets/base",
      "_model_module_version": "1.2.0",
      "_model_name": "LayoutModel",
      "_view_count": null,
      "_view_module": "@jupyter-widgets/base",
      "_view_module_version": "1.2.0",
      "_view_name": "LayoutView",
      "align_content": null,
      "align_items": null,
      "align_self": null,
      "border": null,
      "bottom": null,
      "display": null,
      "flex": null,
      "flex_flow": null,
      "grid_area": null,
      "grid_auto_columns": null,
      "grid_auto_flow": null,
      "grid_auto_rows": null,
      "grid_column": null,
      "grid_gap": null,
      "grid_row": null,
      "grid_template_areas": null,
      "grid_template_columns": null,
      "grid_template_rows": null,
      "height": null,
      "justify_content": null,
      "justify_items": null,
      "left": null,
      "margin": null,
      "max_height": null,
      "max_width": null,
      "min_height": null,
      "min_width": null,
      "object_fit": null,
      "object_position": null,
      "order": null,
      "overflow": null,
      "overflow_x": null,
      "overflow_y": null,
      "padding": null,
      "right": null,
      "top": null,
      "visibility": null,
      "width": null
     }
    },
    "e5c1f0e845154f74aadea1765c020f20": {
     "model_module": "@jupyter-widgets/base",
     "model_module_version": "1.2.0",
     "model_name": "LayoutModel",
     "state": {
      "_model_module": "@jupyter-widgets/base",
      "_model_module_version": "1.2.0",
      "_model_name": "LayoutModel",
      "_view_count": null,
      "_view_module": "@jupyter-widgets/base",
      "_view_module_version": "1.2.0",
      "_view_name": "LayoutView",
      "align_content": null,
      "align_items": null,
      "align_self": null,
      "border": null,
      "bottom": null,
      "display": null,
      "flex": null,
      "flex_flow": null,
      "grid_area": null,
      "grid_auto_columns": null,
      "grid_auto_flow": null,
      "grid_auto_rows": null,
      "grid_column": null,
      "grid_gap": null,
      "grid_row": null,
      "grid_template_areas": null,
      "grid_template_columns": null,
      "grid_template_rows": null,
      "height": null,
      "justify_content": null,
      "justify_items": null,
      "left": null,
      "margin": null,
      "max_height": null,
      "max_width": null,
      "min_height": null,
      "min_width": null,
      "object_fit": null,
      "object_position": null,
      "order": null,
      "overflow": null,
      "overflow_x": null,
      "overflow_y": null,
      "padding": null,
      "right": null,
      "top": null,
      "visibility": null,
      "width": null
     }
    },
    "e5f60297f270497ba3b0bfdd121e9582": {
     "model_module": "@jupyter-widgets/controls",
     "model_module_version": "1.5.0",
     "model_name": "SliderStyleModel",
     "state": {
      "_model_module": "@jupyter-widgets/controls",
      "_model_module_version": "1.5.0",
      "_model_name": "SliderStyleModel",
      "_view_count": null,
      "_view_module": "@jupyter-widgets/base",
      "_view_module_version": "1.2.0",
      "_view_name": "StyleView",
      "description_width": "",
      "handle_color": null
     }
    },
    "ea4c66b7a6e340b5a40ab93f2b9dd223": {
     "model_module": "@jupyter-widgets/controls",
     "model_module_version": "1.5.0",
     "model_name": "SliderStyleModel",
     "state": {
      "_model_module": "@jupyter-widgets/controls",
      "_model_module_version": "1.5.0",
      "_model_name": "SliderStyleModel",
      "_view_count": null,
      "_view_module": "@jupyter-widgets/base",
      "_view_module_version": "1.2.0",
      "_view_name": "StyleView",
      "description_width": "",
      "handle_color": null
     }
    },
    "ed7d05148d1d463db4928a852c979052": {
     "model_module": "@jupyter-widgets/base",
     "model_module_version": "1.2.0",
     "model_name": "LayoutModel",
     "state": {
      "_model_module": "@jupyter-widgets/base",
      "_model_module_version": "1.2.0",
      "_model_name": "LayoutModel",
      "_view_count": null,
      "_view_module": "@jupyter-widgets/base",
      "_view_module_version": "1.2.0",
      "_view_name": "LayoutView",
      "align_content": null,
      "align_items": null,
      "align_self": null,
      "border": null,
      "bottom": null,
      "display": null,
      "flex": null,
      "flex_flow": null,
      "grid_area": null,
      "grid_auto_columns": null,
      "grid_auto_flow": null,
      "grid_auto_rows": null,
      "grid_column": null,
      "grid_gap": null,
      "grid_row": null,
      "grid_template_areas": null,
      "grid_template_columns": null,
      "grid_template_rows": null,
      "height": null,
      "justify_content": null,
      "justify_items": null,
      "left": null,
      "margin": null,
      "max_height": null,
      "max_width": null,
      "min_height": null,
      "min_width": null,
      "object_fit": null,
      "object_position": null,
      "order": null,
      "overflow": null,
      "overflow_x": null,
      "overflow_y": null,
      "padding": null,
      "right": null,
      "top": null,
      "visibility": null,
      "width": null
     }
    },
    "ef599a8144b0408e90bbba7da8303e76": {
     "model_module": "@jupyter-widgets/base",
     "model_module_version": "1.2.0",
     "model_name": "LayoutModel",
     "state": {
      "_model_module": "@jupyter-widgets/base",
      "_model_module_version": "1.2.0",
      "_model_name": "LayoutModel",
      "_view_count": null,
      "_view_module": "@jupyter-widgets/base",
      "_view_module_version": "1.2.0",
      "_view_name": "LayoutView",
      "align_content": null,
      "align_items": null,
      "align_self": null,
      "border": null,
      "bottom": null,
      "display": null,
      "flex": null,
      "flex_flow": null,
      "grid_area": null,
      "grid_auto_columns": null,
      "grid_auto_flow": null,
      "grid_auto_rows": null,
      "grid_column": null,
      "grid_gap": null,
      "grid_row": null,
      "grid_template_areas": null,
      "grid_template_columns": null,
      "grid_template_rows": null,
      "height": null,
      "justify_content": null,
      "justify_items": null,
      "left": null,
      "margin": null,
      "max_height": null,
      "max_width": null,
      "min_height": null,
      "min_width": null,
      "object_fit": null,
      "object_position": null,
      "order": null,
      "overflow": null,
      "overflow_x": null,
      "overflow_y": null,
      "padding": null,
      "right": null,
      "top": null,
      "visibility": null,
      "width": null
     }
    },
    "f2fea79a3ebd4397ae458bc14cb9f064": {
     "model_module": "@jupyter-widgets/controls",
     "model_module_version": "1.5.0",
     "model_name": "SliderStyleModel",
     "state": {
      "_model_module": "@jupyter-widgets/controls",
      "_model_module_version": "1.5.0",
      "_model_name": "SliderStyleModel",
      "_view_count": null,
      "_view_module": "@jupyter-widgets/base",
      "_view_module_version": "1.2.0",
      "_view_name": "StyleView",
      "description_width": "",
      "handle_color": null
     }
    },
    "fa75ee4896ee4315a3fee0e8b7224302": {
     "model_module": "@jupyter-widgets/base",
     "model_module_version": "1.2.0",
     "model_name": "LayoutModel",
     "state": {
      "_model_module": "@jupyter-widgets/base",
      "_model_module_version": "1.2.0",
      "_model_name": "LayoutModel",
      "_view_count": null,
      "_view_module": "@jupyter-widgets/base",
      "_view_module_version": "1.2.0",
      "_view_name": "LayoutView",
      "align_content": null,
      "align_items": null,
      "align_self": null,
      "border": null,
      "bottom": null,
      "display": null,
      "flex": null,
      "flex_flow": null,
      "grid_area": null,
      "grid_auto_columns": null,
      "grid_auto_flow": null,
      "grid_auto_rows": null,
      "grid_column": null,
      "grid_gap": null,
      "grid_row": null,
      "grid_template_areas": null,
      "grid_template_columns": null,
      "grid_template_rows": null,
      "height": null,
      "justify_content": null,
      "justify_items": null,
      "left": null,
      "margin": null,
      "max_height": null,
      "max_width": null,
      "min_height": null,
      "min_width": null,
      "object_fit": null,
      "object_position": null,
      "order": null,
      "overflow": null,
      "overflow_x": null,
      "overflow_y": null,
      "padding": null,
      "right": null,
      "top": null,
      "visibility": null,
      "width": null
     }
    },
    "fd23253230f94de7a93dcd56535fb85a": {
     "model_module": "@jupyter-widgets/controls",
     "model_module_version": "1.5.0",
     "model_name": "VBoxModel",
     "state": {
      "_dom_classes": [
       "widget-interact"
      ],
      "_model_module": "@jupyter-widgets/controls",
      "_model_module_version": "1.5.0",
      "_model_name": "VBoxModel",
      "_view_count": null,
      "_view_module": "@jupyter-widgets/controls",
      "_view_module_version": "1.5.0",
      "_view_name": "VBoxView",
      "box_style": "",
      "children": [
       "IPY_MODEL_c03c4e1ef4a641988729c3c7c34d728c",
       "IPY_MODEL_a1664c74c8e24c1eb4dd08f040fc4699",
       "IPY_MODEL_cc6bcd389ab14981aa14eee780b9073a",
       "IPY_MODEL_95842d129b36482a9f105f305a6902f1",
       "IPY_MODEL_1602b28b5abb48e4b45b4fb7208b8714",
       "IPY_MODEL_818e790ab6b5421aad948ee9118f95d9",
       "IPY_MODEL_238ee2514d01448a97d48050105682e0",
       "IPY_MODEL_b861afe6e6574b9b9efd8d0171e924fd",
       "IPY_MODEL_01092ed4efd14bdb8325bc1cfcea8521",
       "IPY_MODEL_d6c30162647443c889c384cb11e94d75"
      ],
      "layout": "IPY_MODEL_ed7d05148d1d463db4928a852c979052"
     }
    }
   }
  }
 },
 "nbformat": 4,
 "nbformat_minor": 0
}
